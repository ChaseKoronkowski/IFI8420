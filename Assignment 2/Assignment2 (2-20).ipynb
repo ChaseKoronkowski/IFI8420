{
 "cells": [
  {
   "cell_type": "code",
   "execution_count": 5,
   "id": "28ee17e2-054b-431c-a828-238df5edc669",
   "metadata": {
    "ExecuteTime": {
     "end_time": "2025-02-17T00:36:44.072717Z",
     "start_time": "2025-02-17T00:36:44.051577Z"
    }
   },
   "outputs": [],
   "source": [
    "from itertools import count\n",
    "\n",
    "import pandas as pd\n",
    "import csv\n",
    "import yfinance as yf\n",
    "\n",
    "import numpy as np  \n",
    "import matplotlib.pyplot as plt  \n",
    "import seaborn as sns \n",
    "import statsmodels.api as sm\n",
    "import fredapi\n",
    "import statsmodels.formula.api as smf\n",
    "\n",
    "\n",
    "from sklearn.model_selection import train_test_split \n",
    "from sklearn.linear_model import LinearRegression\n",
    "from sklearn import metrics"
   ]
  },
  {
   "cell_type": "code",
   "execution_count": 6,
   "id": "61cafe45-e8f1-46e9-ab0e-6e37db597113",
   "metadata": {
    "ExecuteTime": {
     "end_time": "2025-02-15T16:58:47.487847Z",
     "start_time": "2025-02-15T16:58:47.467228Z"
    }
   },
   "outputs": [
    {
     "data": {
      "text/html": [
       "<div>\n",
       "<style scoped>\n",
       "    .dataframe tbody tr th:only-of-type {\n",
       "        vertical-align: middle;\n",
       "    }\n",
       "\n",
       "    .dataframe tbody tr th {\n",
       "        vertical-align: top;\n",
       "    }\n",
       "\n",
       "    .dataframe thead th {\n",
       "        text-align: right;\n",
       "    }\n",
       "</style>\n",
       "<table border=\"1\" class=\"dataframe\">\n",
       "  <thead>\n",
       "    <tr style=\"text-align: right;\">\n",
       "      <th></th>\n",
       "      <th>price</th>\n",
       "      <th>lotsize</th>\n",
       "      <th>bedrooms</th>\n",
       "      <th>bathrooms</th>\n",
       "      <th>stories</th>\n",
       "      <th>driveway</th>\n",
       "      <th>recreation</th>\n",
       "      <th>fullbase</th>\n",
       "      <th>gasheat</th>\n",
       "      <th>aircon</th>\n",
       "      <th>garage</th>\n",
       "      <th>prefer</th>\n",
       "    </tr>\n",
       "  </thead>\n",
       "  <tbody>\n",
       "    <tr>\n",
       "      <th>0</th>\n",
       "      <td>42000.0</td>\n",
       "      <td>5850</td>\n",
       "      <td>3</td>\n",
       "      <td>1</td>\n",
       "      <td>2</td>\n",
       "      <td>yes</td>\n",
       "      <td>no</td>\n",
       "      <td>yes</td>\n",
       "      <td>no</td>\n",
       "      <td>no</td>\n",
       "      <td>1</td>\n",
       "      <td>no</td>\n",
       "    </tr>\n",
       "    <tr>\n",
       "      <th>1</th>\n",
       "      <td>38500.0</td>\n",
       "      <td>4000</td>\n",
       "      <td>2</td>\n",
       "      <td>1</td>\n",
       "      <td>1</td>\n",
       "      <td>yes</td>\n",
       "      <td>no</td>\n",
       "      <td>no</td>\n",
       "      <td>no</td>\n",
       "      <td>no</td>\n",
       "      <td>0</td>\n",
       "      <td>no</td>\n",
       "    </tr>\n",
       "    <tr>\n",
       "      <th>2</th>\n",
       "      <td>49500.0</td>\n",
       "      <td>3060</td>\n",
       "      <td>3</td>\n",
       "      <td>1</td>\n",
       "      <td>1</td>\n",
       "      <td>yes</td>\n",
       "      <td>no</td>\n",
       "      <td>no</td>\n",
       "      <td>no</td>\n",
       "      <td>no</td>\n",
       "      <td>0</td>\n",
       "      <td>no</td>\n",
       "    </tr>\n",
       "    <tr>\n",
       "      <th>3</th>\n",
       "      <td>60500.0</td>\n",
       "      <td>6650</td>\n",
       "      <td>3</td>\n",
       "      <td>1</td>\n",
       "      <td>2</td>\n",
       "      <td>yes</td>\n",
       "      <td>yes</td>\n",
       "      <td>no</td>\n",
       "      <td>no</td>\n",
       "      <td>no</td>\n",
       "      <td>0</td>\n",
       "      <td>no</td>\n",
       "    </tr>\n",
       "    <tr>\n",
       "      <th>4</th>\n",
       "      <td>61000.0</td>\n",
       "      <td>6360</td>\n",
       "      <td>2</td>\n",
       "      <td>1</td>\n",
       "      <td>1</td>\n",
       "      <td>yes</td>\n",
       "      <td>no</td>\n",
       "      <td>no</td>\n",
       "      <td>no</td>\n",
       "      <td>no</td>\n",
       "      <td>0</td>\n",
       "      <td>no</td>\n",
       "    </tr>\n",
       "  </tbody>\n",
       "</table>\n",
       "</div>"
      ],
      "text/plain": [
       "     price  lotsize  bedrooms  bathrooms  stories driveway recreation  \\\n",
       "0  42000.0     5850         3          1        2      yes         no   \n",
       "1  38500.0     4000         2          1        1      yes         no   \n",
       "2  49500.0     3060         3          1        1      yes         no   \n",
       "3  60500.0     6650         3          1        2      yes        yes   \n",
       "4  61000.0     6360         2          1        1      yes         no   \n",
       "\n",
       "  fullbase gasheat aircon  garage prefer  \n",
       "0      yes      no     no       1     no  \n",
       "1       no      no     no       0     no  \n",
       "2       no      no     no       0     no  \n",
       "3       no      no     no       0     no  \n",
       "4       no      no     no       0     no  "
      ]
     },
     "execution_count": 6,
     "metadata": {},
     "output_type": "execute_result"
    }
   ],
   "source": [
    "#read Houseprices data\n",
    "adv = pd.read_csv(r\"C:\\Users\\chase\\Dropbox (Old)\\My PC (LAPTOP-P3ARPLF9)\\Downloads\\HousePrices.csv\")\n",
    "\n",
    "\n",
    "#view first 5 rows of the data\n",
    "adv[:5]"
   ]
  },
  {
   "cell_type": "code",
   "execution_count": 7,
   "id": "621426d3-0a19-4315-a314-3bf062051ad7",
   "metadata": {},
   "outputs": [
    {
     "data": {
      "text/html": [
       "<div>\n",
       "<style scoped>\n",
       "    .dataframe tbody tr th:only-of-type {\n",
       "        vertical-align: middle;\n",
       "    }\n",
       "\n",
       "    .dataframe tbody tr th {\n",
       "        vertical-align: top;\n",
       "    }\n",
       "\n",
       "    .dataframe thead th {\n",
       "        text-align: right;\n",
       "    }\n",
       "</style>\n",
       "<table border=\"1\" class=\"dataframe\">\n",
       "  <thead>\n",
       "    <tr style=\"text-align: right;\">\n",
       "      <th></th>\n",
       "      <th>price</th>\n",
       "      <th>lotsize</th>\n",
       "      <th>bedrooms</th>\n",
       "      <th>bathrooms</th>\n",
       "      <th>stories</th>\n",
       "      <th>driveway</th>\n",
       "      <th>recreation</th>\n",
       "      <th>fullbase</th>\n",
       "      <th>gasheat</th>\n",
       "      <th>aircon</th>\n",
       "      <th>garage</th>\n",
       "      <th>prefer</th>\n",
       "    </tr>\n",
       "  </thead>\n",
       "  <tbody>\n",
       "    <tr>\n",
       "      <th>0</th>\n",
       "      <td>42000.0</td>\n",
       "      <td>5850</td>\n",
       "      <td>3</td>\n",
       "      <td>1</td>\n",
       "      <td>2</td>\n",
       "      <td>yes</td>\n",
       "      <td>no</td>\n",
       "      <td>yes</td>\n",
       "      <td>no</td>\n",
       "      <td>no</td>\n",
       "      <td>1</td>\n",
       "      <td>no</td>\n",
       "    </tr>\n",
       "    <tr>\n",
       "      <th>1</th>\n",
       "      <td>38500.0</td>\n",
       "      <td>4000</td>\n",
       "      <td>2</td>\n",
       "      <td>1</td>\n",
       "      <td>1</td>\n",
       "      <td>yes</td>\n",
       "      <td>no</td>\n",
       "      <td>no</td>\n",
       "      <td>no</td>\n",
       "      <td>no</td>\n",
       "      <td>0</td>\n",
       "      <td>no</td>\n",
       "    </tr>\n",
       "    <tr>\n",
       "      <th>2</th>\n",
       "      <td>49500.0</td>\n",
       "      <td>3060</td>\n",
       "      <td>3</td>\n",
       "      <td>1</td>\n",
       "      <td>1</td>\n",
       "      <td>yes</td>\n",
       "      <td>no</td>\n",
       "      <td>no</td>\n",
       "      <td>no</td>\n",
       "      <td>no</td>\n",
       "      <td>0</td>\n",
       "      <td>no</td>\n",
       "    </tr>\n",
       "    <tr>\n",
       "      <th>3</th>\n",
       "      <td>60500.0</td>\n",
       "      <td>6650</td>\n",
       "      <td>3</td>\n",
       "      <td>1</td>\n",
       "      <td>2</td>\n",
       "      <td>yes</td>\n",
       "      <td>yes</td>\n",
       "      <td>no</td>\n",
       "      <td>no</td>\n",
       "      <td>no</td>\n",
       "      <td>0</td>\n",
       "      <td>no</td>\n",
       "    </tr>\n",
       "    <tr>\n",
       "      <th>4</th>\n",
       "      <td>61000.0</td>\n",
       "      <td>6360</td>\n",
       "      <td>2</td>\n",
       "      <td>1</td>\n",
       "      <td>1</td>\n",
       "      <td>yes</td>\n",
       "      <td>no</td>\n",
       "      <td>no</td>\n",
       "      <td>no</td>\n",
       "      <td>no</td>\n",
       "      <td>0</td>\n",
       "      <td>no</td>\n",
       "    </tr>\n",
       "  </tbody>\n",
       "</table>\n",
       "</div>"
      ],
      "text/plain": [
       "     price  lotsize  bedrooms  bathrooms  stories driveway recreation  \\\n",
       "0  42000.0     5850         3          1        2      yes         no   \n",
       "1  38500.0     4000         2          1        1      yes         no   \n",
       "2  49500.0     3060         3          1        1      yes         no   \n",
       "3  60500.0     6650         3          1        2      yes        yes   \n",
       "4  61000.0     6360         2          1        1      yes         no   \n",
       "\n",
       "  fullbase gasheat aircon  garage prefer  \n",
       "0      yes      no     no       1     no  \n",
       "1       no      no     no       0     no  \n",
       "2       no      no     no       0     no  \n",
       "3       no      no     no       0     no  \n",
       "4       no      no     no       0     no  "
      ]
     },
     "execution_count": 7,
     "metadata": {},
     "output_type": "execute_result"
    }
   ],
   "source": [
    "# Shows the first five rows of the data\n",
    "adv.head()\n"
   ]
  },
  {
   "cell_type": "code",
   "execution_count": 8,
   "id": "6b5aabe0-1699-4aa9-89d7-126ed9a83133",
   "metadata": {},
   "outputs": [
    {
     "data": {
      "text/plain": [
       "(546, 12)"
      ]
     },
     "execution_count": 8,
     "metadata": {},
     "output_type": "execute_result"
    }
   ],
   "source": [
    "#Checking the number of rows and columns\n",
    "adv.shape"
   ]
  },
  {
   "cell_type": "code",
   "execution_count": 9,
   "id": "e9dd4d1c-a19f-4f9a-ba36-0646289389b5",
   "metadata": {},
   "outputs": [
    {
     "data": {
      "text/html": [
       "<div>\n",
       "<style scoped>\n",
       "    .dataframe tbody tr th:only-of-type {\n",
       "        vertical-align: middle;\n",
       "    }\n",
       "\n",
       "    .dataframe tbody tr th {\n",
       "        vertical-align: top;\n",
       "    }\n",
       "\n",
       "    .dataframe thead th {\n",
       "        text-align: right;\n",
       "    }\n",
       "</style>\n",
       "<table border=\"1\" class=\"dataframe\">\n",
       "  <thead>\n",
       "    <tr style=\"text-align: right;\">\n",
       "      <th></th>\n",
       "      <th>price</th>\n",
       "      <th>lotsize</th>\n",
       "      <th>bedrooms</th>\n",
       "      <th>bathrooms</th>\n",
       "      <th>stories</th>\n",
       "      <th>garage</th>\n",
       "    </tr>\n",
       "  </thead>\n",
       "  <tbody>\n",
       "    <tr>\n",
       "      <th>count</th>\n",
       "      <td>546.000000</td>\n",
       "      <td>546.000000</td>\n",
       "      <td>546.000000</td>\n",
       "      <td>546.000000</td>\n",
       "      <td>546.000000</td>\n",
       "      <td>546.000000</td>\n",
       "    </tr>\n",
       "    <tr>\n",
       "      <th>mean</th>\n",
       "      <td>68121.597070</td>\n",
       "      <td>5150.265568</td>\n",
       "      <td>2.965201</td>\n",
       "      <td>1.285714</td>\n",
       "      <td>1.807692</td>\n",
       "      <td>0.692308</td>\n",
       "    </tr>\n",
       "    <tr>\n",
       "      <th>std</th>\n",
       "      <td>26702.670926</td>\n",
       "      <td>2168.158725</td>\n",
       "      <td>0.737388</td>\n",
       "      <td>0.502158</td>\n",
       "      <td>0.868203</td>\n",
       "      <td>0.861307</td>\n",
       "    </tr>\n",
       "    <tr>\n",
       "      <th>min</th>\n",
       "      <td>25000.000000</td>\n",
       "      <td>1650.000000</td>\n",
       "      <td>1.000000</td>\n",
       "      <td>1.000000</td>\n",
       "      <td>1.000000</td>\n",
       "      <td>0.000000</td>\n",
       "    </tr>\n",
       "    <tr>\n",
       "      <th>25%</th>\n",
       "      <td>49125.000000</td>\n",
       "      <td>3600.000000</td>\n",
       "      <td>2.000000</td>\n",
       "      <td>1.000000</td>\n",
       "      <td>1.000000</td>\n",
       "      <td>0.000000</td>\n",
       "    </tr>\n",
       "    <tr>\n",
       "      <th>50%</th>\n",
       "      <td>62000.000000</td>\n",
       "      <td>4600.000000</td>\n",
       "      <td>3.000000</td>\n",
       "      <td>1.000000</td>\n",
       "      <td>2.000000</td>\n",
       "      <td>0.000000</td>\n",
       "    </tr>\n",
       "    <tr>\n",
       "      <th>75%</th>\n",
       "      <td>82000.000000</td>\n",
       "      <td>6360.000000</td>\n",
       "      <td>3.000000</td>\n",
       "      <td>2.000000</td>\n",
       "      <td>2.000000</td>\n",
       "      <td>1.000000</td>\n",
       "    </tr>\n",
       "    <tr>\n",
       "      <th>max</th>\n",
       "      <td>190000.000000</td>\n",
       "      <td>16200.000000</td>\n",
       "      <td>6.000000</td>\n",
       "      <td>4.000000</td>\n",
       "      <td>4.000000</td>\n",
       "      <td>3.000000</td>\n",
       "    </tr>\n",
       "  </tbody>\n",
       "</table>\n",
       "</div>"
      ],
      "text/plain": [
       "               price       lotsize    bedrooms   bathrooms     stories  \\\n",
       "count     546.000000    546.000000  546.000000  546.000000  546.000000   \n",
       "mean    68121.597070   5150.265568    2.965201    1.285714    1.807692   \n",
       "std     26702.670926   2168.158725    0.737388    0.502158    0.868203   \n",
       "min     25000.000000   1650.000000    1.000000    1.000000    1.000000   \n",
       "25%     49125.000000   3600.000000    2.000000    1.000000    1.000000   \n",
       "50%     62000.000000   4600.000000    3.000000    1.000000    2.000000   \n",
       "75%     82000.000000   6360.000000    3.000000    2.000000    2.000000   \n",
       "max    190000.000000  16200.000000    6.000000    4.000000    4.000000   \n",
       "\n",
       "           garage  \n",
       "count  546.000000  \n",
       "mean     0.692308  \n",
       "std      0.861307  \n",
       "min      0.000000  \n",
       "25%      0.000000  \n",
       "50%      0.000000  \n",
       "75%      1.000000  \n",
       "max      3.000000  "
      ]
     },
     "execution_count": 9,
     "metadata": {},
     "output_type": "execute_result"
    }
   ],
   "source": [
    "#To see the statistical details of the dataset, we can use describe():\n",
    "adv.describe()"
   ]
  },
  {
   "cell_type": "code",
   "execution_count": 10,
   "id": "a95380ee-0ddd-4c98-afe0-0001cca7f261",
   "metadata": {},
   "outputs": [],
   "source": [
    "#Part 1 - ii\n",
    "#page 126 of textbook"
   ]
  },
  {
   "cell_type": "markdown",
   "id": "5185f6a4",
   "metadata": {},
   "source": [
    "i.\tConstruct a summary stat for all the variables in the HousePrices data. (provide Mean, Median, Max, Min, and Std Dev of the data for all variables) (4 points)"
   ]
  },
  {
   "cell_type": "code",
   "execution_count": 11,
   "id": "2b553967",
   "metadata": {
    "ExecuteTime": {
     "end_time": "2025-02-14T00:15:03.216628Z",
     "start_time": "2025-02-14T00:15:03.129531Z"
    }
   },
   "outputs": [
    {
     "data": {
      "text/html": [
       "<div>\n",
       "<style scoped>\n",
       "    .dataframe tbody tr th:only-of-type {\n",
       "        vertical-align: middle;\n",
       "    }\n",
       "\n",
       "    .dataframe tbody tr th {\n",
       "        vertical-align: top;\n",
       "    }\n",
       "\n",
       "    .dataframe thead th {\n",
       "        text-align: right;\n",
       "    }\n",
       "</style>\n",
       "<table border=\"1\" class=\"dataframe\">\n",
       "  <thead>\n",
       "    <tr style=\"text-align: right;\">\n",
       "      <th></th>\n",
       "      <th>price</th>\n",
       "      <th>lotsize</th>\n",
       "      <th>bedrooms</th>\n",
       "      <th>bathrooms</th>\n",
       "      <th>stories</th>\n",
       "      <th>garage</th>\n",
       "    </tr>\n",
       "  </thead>\n",
       "  <tbody>\n",
       "    <tr>\n",
       "      <th>count</th>\n",
       "      <td>546.000000</td>\n",
       "      <td>546.000000</td>\n",
       "      <td>546.000000</td>\n",
       "      <td>546.000000</td>\n",
       "      <td>546.000000</td>\n",
       "      <td>546.000000</td>\n",
       "    </tr>\n",
       "    <tr>\n",
       "      <th>mean</th>\n",
       "      <td>68121.597070</td>\n",
       "      <td>5150.265568</td>\n",
       "      <td>2.965201</td>\n",
       "      <td>1.285714</td>\n",
       "      <td>1.807692</td>\n",
       "      <td>0.692308</td>\n",
       "    </tr>\n",
       "    <tr>\n",
       "      <th>std</th>\n",
       "      <td>26702.670926</td>\n",
       "      <td>2168.158725</td>\n",
       "      <td>0.737388</td>\n",
       "      <td>0.502158</td>\n",
       "      <td>0.868203</td>\n",
       "      <td>0.861307</td>\n",
       "    </tr>\n",
       "    <tr>\n",
       "      <th>min</th>\n",
       "      <td>25000.000000</td>\n",
       "      <td>1650.000000</td>\n",
       "      <td>1.000000</td>\n",
       "      <td>1.000000</td>\n",
       "      <td>1.000000</td>\n",
       "      <td>0.000000</td>\n",
       "    </tr>\n",
       "    <tr>\n",
       "      <th>25%</th>\n",
       "      <td>49125.000000</td>\n",
       "      <td>3600.000000</td>\n",
       "      <td>2.000000</td>\n",
       "      <td>1.000000</td>\n",
       "      <td>1.000000</td>\n",
       "      <td>0.000000</td>\n",
       "    </tr>\n",
       "    <tr>\n",
       "      <th>50%</th>\n",
       "      <td>62000.000000</td>\n",
       "      <td>4600.000000</td>\n",
       "      <td>3.000000</td>\n",
       "      <td>1.000000</td>\n",
       "      <td>2.000000</td>\n",
       "      <td>0.000000</td>\n",
       "    </tr>\n",
       "    <tr>\n",
       "      <th>75%</th>\n",
       "      <td>82000.000000</td>\n",
       "      <td>6360.000000</td>\n",
       "      <td>3.000000</td>\n",
       "      <td>2.000000</td>\n",
       "      <td>2.000000</td>\n",
       "      <td>1.000000</td>\n",
       "    </tr>\n",
       "    <tr>\n",
       "      <th>max</th>\n",
       "      <td>190000.000000</td>\n",
       "      <td>16200.000000</td>\n",
       "      <td>6.000000</td>\n",
       "      <td>4.000000</td>\n",
       "      <td>4.000000</td>\n",
       "      <td>3.000000</td>\n",
       "    </tr>\n",
       "  </tbody>\n",
       "</table>\n",
       "</div>"
      ],
      "text/plain": [
       "               price       lotsize    bedrooms   bathrooms     stories  \\\n",
       "count     546.000000    546.000000  546.000000  546.000000  546.000000   \n",
       "mean    68121.597070   5150.265568    2.965201    1.285714    1.807692   \n",
       "std     26702.670926   2168.158725    0.737388    0.502158    0.868203   \n",
       "min     25000.000000   1650.000000    1.000000    1.000000    1.000000   \n",
       "25%     49125.000000   3600.000000    2.000000    1.000000    1.000000   \n",
       "50%     62000.000000   4600.000000    3.000000    1.000000    2.000000   \n",
       "75%     82000.000000   6360.000000    3.000000    2.000000    2.000000   \n",
       "max    190000.000000  16200.000000    6.000000    4.000000    4.000000   \n",
       "\n",
       "           garage  \n",
       "count  546.000000  \n",
       "mean     0.692308  \n",
       "std      0.861307  \n",
       "min      0.000000  \n",
       "25%      0.000000  \n",
       "50%      0.000000  \n",
       "75%      1.000000  \n",
       "max      3.000000  "
      ]
     },
     "execution_count": 11,
     "metadata": {},
     "output_type": "execute_result"
    }
   ],
   "source": [
    "adv.describe()"
   ]
  },
  {
   "cell_type": "markdown",
   "id": "de28c5f2",
   "metadata": {},
   "source": [
    "ii.\tWhat is the percentage of houses in the data with Driveway, Gas-Heat and Air-conditioning present?  (Hint: find the mean after creating dummy variables with driveway, gasheat, and aircon variables respectively)."
   ]
  },
  {
   "cell_type": "code",
   "execution_count": 12,
   "id": "c2dc9a51d9bed2e0",
   "metadata": {
    "ExecuteTime": {
     "end_time": "2025-02-15T16:43:02.024617Z",
     "start_time": "2025-02-15T16:43:02.014837Z"
    }
   },
   "outputs": [
    {
     "name": "stdout",
     "output_type": "stream",
     "text": [
      "driveway_pct: 85.8974358974359\n",
      "gasheat_pct: 4.5787545787545785\n",
      "aircon_pct: 31.684981684981683\n"
     ]
    }
   ],
   "source": [
    "adv['driveway_dummy'] = adv['driveway'].map({'yes': 1, 'no': 0})\n",
    "adv['gasheat_dummy'] = adv['gasheat'].map({'yes': 1, 'no': 0})\n",
    "adv['aircon_dummy'] = adv['aircon'].map({'yes': 1, 'no': 0})\n",
    "driveway_pct = adv['driveway_dummy'].mean() * 100\n",
    "gasheat_pct = adv['gasheat_dummy'].mean() * 100\n",
    "aircon_pct = adv['aircon_dummy'].mean() * 100\n",
    "print(\"driveway_pct:\", driveway_pct)\n",
    "print(\"gasheat_pct:\", gasheat_pct)\n",
    "print(\"aircon_pct:\", aircon_pct)"
   ]
  },
  {
   "cell_type": "markdown",
   "id": "d438085e",
   "metadata": {},
   "source": [
    "iii.\tConstruct a linear regression model to test whether number of bedrooms influence house prices.  Provide a summary of the linear regression model using summary() function.  \t\t\t(5 points)"
   ]
  },
  {
   "cell_type": "code",
   "execution_count": 13,
   "id": "210335c0",
   "metadata": {
    "ExecuteTime": {
     "end_time": "2025-02-15T16:44:21.678820Z",
     "start_time": "2025-02-15T16:44:21.662246Z"
    }
   },
   "outputs": [
    {
     "name": "stdout",
     "output_type": "stream",
     "text": [
      "                            OLS Regression Results                            \n",
      "==============================================================================\n",
      "Dep. Variable:                  price   R-squared:                       0.134\n",
      "Model:                            OLS   Adj. R-squared:                  0.133\n",
      "Method:                 Least Squares   F-statistic:                     84.38\n",
      "Date:                Thu, 20 Feb 2025   Prob (F-statistic):           8.53e-19\n",
      "Time:                        14:41:54   Log-Likelihood:                -6300.0\n",
      "No. Observations:                 546   AIC:                         1.260e+04\n",
      "Df Residuals:                     544   BIC:                         1.261e+04\n",
      "Df Model:                           1                                         \n",
      "Covariance Type:            nonrobust                                         \n",
      "==============================================================================\n",
      "                 coef    std err          t      P>|t|      [0.025      0.975]\n",
      "------------------------------------------------------------------------------\n",
      "const       2.877e+04   4413.753      6.519      0.000    2.01e+04    3.74e+04\n",
      "bedrooms    1.327e+04   1444.598      9.186      0.000    1.04e+04    1.61e+04\n",
      "==============================================================================\n",
      "Omnibus:                       91.631   Durbin-Watson:                   0.812\n",
      "Prob(Omnibus):                  0.000   Jarque-Bera (JB):              162.283\n",
      "Skew:                           0.994   Prob(JB):                     5.76e-36\n",
      "Kurtosis:                       4.784   Cond. No.                         14.0\n",
      "==============================================================================\n",
      "\n",
      "Notes:\n",
      "[1] Standard Errors assume that the covariance matrix of the errors is correctly specified.\n"
     ]
    }
   ],
   "source": [
    "X = sm.add_constant(adv['bedrooms']) \n",
    "model = sm.OLS(adv['price'], X).fit()\n",
    "print(model.summary())"
   ]
  },
  {
   "cell_type": "markdown",
   "id": "15e67ac0",
   "metadata": {},
   "source": [
    "iv.\tConstruct a multiple linear regression model by including all variables as predictors of house prices (response variable) and observe the effect on the house prices. Provide a summary of the regression model using summary() function.  (5 points)"
   ]
  },
  {
   "cell_type": "code",
   "execution_count": 14,
   "id": "55bc3423",
   "metadata": {
    "ExecuteTime": {
     "end_time": "2025-02-15T16:44:25.713075Z",
     "start_time": "2025-02-15T16:44:25.686990Z"
    }
   },
   "outputs": [
    {
     "name": "stdout",
     "output_type": "stream",
     "text": [
      "                            OLS Regression Results                            \n",
      "==============================================================================\n",
      "Dep. Variable:                  price   R-squared:                       0.561\n",
      "Model:                            OLS   Adj. R-squared:                  0.557\n",
      "Method:                 Least Squares   F-statistic:                     138.2\n",
      "Date:                Thu, 20 Feb 2025   Prob (F-statistic):           3.38e-94\n",
      "Time:                        14:41:54   Log-Likelihood:                -6114.4\n",
      "No. Observations:                 546   AIC:                         1.224e+04\n",
      "Df Residuals:                     540   BIC:                         1.227e+04\n",
      "Df Model:                           5                                         \n",
      "Covariance Type:            nonrobust                                         \n",
      "==============================================================================\n",
      "                 coef    std err          t      P>|t|      [0.025      0.975]\n",
      "------------------------------------------------------------------------------\n",
      "lotsize        4.7334      0.380     12.462      0.000       3.987       5.480\n",
      "bedrooms    2388.4877   1184.232      2.017      0.044      62.222    4714.754\n",
      "bathrooms   1.615e+04   1695.695      9.523      0.000    1.28e+04    1.95e+04\n",
      "stories     7879.4411    981.463      8.028      0.000    5951.487    9807.395\n",
      "driveway    -343.9400    586.981     -0.586      0.558   -1496.986     809.106\n",
      "recreation  -343.9400    586.981     -0.586      0.558   -1496.986     809.106\n",
      "fullbase    -343.9400    586.981     -0.586      0.558   -1496.986     809.106\n",
      "gasheat     -343.9400    586.981     -0.586      0.558   -1496.986     809.106\n",
      "aircon      -343.9400    586.981     -0.586      0.558   -1496.986     809.106\n",
      "garage      5371.9533    953.520      5.634      0.000    3498.890    7245.017\n",
      "prefer      -343.9400    586.981     -0.586      0.558   -1496.986     809.106\n",
      "==============================================================================\n",
      "Omnibus:                       69.054   Durbin-Watson:                   1.534\n",
      "Prob(Omnibus):                  0.000   Jarque-Bera (JB):              149.357\n",
      "Skew:                           0.703   Prob(JB):                     3.69e-33\n",
      "Kurtosis:                       5.143   Cond. No.                     3.41e+36\n",
      "==============================================================================\n",
      "\n",
      "Notes:\n",
      "[1] Standard Errors assume that the covariance matrix of the errors is correctly specified.\n",
      "[2] The smallest eigenvalue is 1.46e-63. This might indicate that there are\n",
      "strong multicollinearity problems or that the design matrix is singular.\n"
     ]
    }
   ],
   "source": [
    "def map_function(x):\n",
    "    return 1 if x else 0\n",
    "\n",
    "columns_to_convert = ['driveway', 'recreation', 'fullbase', 'gasheat', 'aircon', 'prefer']\n",
    "adv2 = adv\n",
    "adv2[columns_to_convert] = adv2[columns_to_convert].map(map_function)\n",
    "\n",
    "X = sm.add_constant(adv[['lotsize', 'bedrooms', 'bathrooms', 'stories', 'driveway', 'recreation', 'fullbase', 'gasheat', 'aircon', 'garage', 'prefer']])\n",
    "model = sm.OLS(adv['price'], X).fit()\n",
    "print(model.summary())"
   ]
  },
  {
   "cell_type": "markdown",
   "id": "09442650",
   "metadata": {},
   "source": [
    "Part 2: \t\t(20 points)\n",
    "Use the Credit data to perform the following tests using Linear Regression settings:\n",
    "A.\tPerform the following steps: \t(5 points) \n",
    "i.\tObserve the dimension of the Credit data.\t(1 points)\t\n",
    "ii.\tProvide a summary stat for the variables in Credit data.\t\t(1 points)\n",
    "iii.\tWhat is the percentage of Student in the Credit data? What is the percentage of Female in the Credit data? What is the percentage of Student who are Female in the Credit data?\t(3 points)\n"
   ]
  },
  {
   "cell_type": "code",
   "execution_count": 27,
   "id": "9f5e6569",
   "metadata": {
    "ExecuteTime": {
     "end_time": "2025-02-15T17:22:01.884500Z",
     "start_time": "2025-02-15T17:22:01.804280Z"
    }
   },
   "outputs": [
    {
     "name": "stdout",
     "output_type": "stream",
     "text": [
      "(400, 12)\n",
      "       Unnamed: 0      Income         Limit      Rating       Cards  \\\n",
      "count  400.000000  400.000000    400.000000  400.000000  400.000000   \n",
      "mean   200.500000   45.218885   4735.600000  354.940000    2.957500   \n",
      "std    115.614301   35.244273   2308.198848  154.724143    1.371275   \n",
      "min      1.000000   10.354000    855.000000   93.000000    1.000000   \n",
      "25%    100.750000   21.007250   3088.000000  247.250000    2.000000   \n",
      "50%    200.500000   33.115500   4622.500000  344.000000    3.000000   \n",
      "75%    300.250000   57.470750   5872.750000  437.250000    4.000000   \n",
      "max    400.000000  186.634000  13913.000000  982.000000    9.000000   \n",
      "\n",
      "              Age   Education      Balance  \n",
      "count  400.000000  400.000000   400.000000  \n",
      "mean    55.667500   13.450000   520.015000  \n",
      "std     17.249807    3.125207   459.758877  \n",
      "min     23.000000    5.000000     0.000000  \n",
      "25%     41.750000   11.000000    68.750000  \n",
      "50%     56.000000   14.000000   459.500000  \n",
      "75%     70.000000   16.000000   863.000000  \n",
      "max     98.000000   20.000000  1999.000000  \n",
      "the percentage of students is: 0.1\n",
      "The percent of users identifying as female is: 0.5175\n",
      "The percent of female students is: 0.06\n"
     ]
    }
   ],
   "source": [
    "df = pd.read_csv(r\"Credit.csv\")\n",
    "print(df.shape)\n",
    "print(df.describe())\n",
    "studentpct = (df['Student'] == 'Yes').sum()/400\n",
    "print(\"the percentage of students is:\",studentpct)\n",
    "femalepct = (df['Gender'] == 'Female').sum()/400\n",
    "print (\"The percent of users identifying as female is:\", femalepct)\n",
    "femalestudents = df[(df['Student'] == 'Yes') & (df['Gender'] == 'Female')]\n",
    "femalestudentpct = (len(femalestudents) / len(df))\n",
    "print (\"The percent of female students is:\", femalestudentpct)"
   ]
  },
  {
   "cell_type": "markdown",
   "id": "698a28fd",
   "metadata": {},
   "source": [
    "B.\tConstruct a linear regression model to test the following: \t(15 points)\n",
    "\n",
    "Test how Credit Rating and Student effect Credit Card Balance. In the same model, also test whether the effect of Credit Rating on Credit Card Balance is different for students vs. non-students.\n",
    "\n",
    "Provide a summary of the model. \n"
   ]
  },
  {
   "cell_type": "code",
   "execution_count": 39,
   "id": "091c2802",
   "metadata": {},
   "outputs": [
    {
     "name": "stderr",
     "output_type": "stream",
     "text": [
      "C:\\Users\\chase\\AppData\\Local\\Temp\\ipykernel_43116\\2523265140.py:15: FutureWarning: Downcasting behavior in `replace` is deprecated and will be removed in a future version. To retain the old behavior, explicitly call `result.infer_objects(copy=False)`. To opt-in to the future behavior, set `pd.set_option('future.no_silent_downcasting', True)`\n",
      "  df['Student'] = df['Student'].replace({'Yes': 1, 'No': 0}).astype(int)\n"
     ]
    },
    {
     "data": {
      "image/png": "[encoded data removed]",
      "text/plain": [
       "<Figure size 600x400 with 1 Axes>"
      ]
     },
     "metadata": {},
     "output_type": "display_data"
    },
    {
     "name": "stdout",
     "output_type": "stream",
     "text": [
      "                            OLS Regression Results                            \n",
      "==============================================================================\n",
      "Dep. Variable:                Balance   R-squared:                       0.814\n",
      "Model:                            OLS   Adj. R-squared:                  0.813\n",
      "Method:                 Least Squares   F-statistic:                     579.3\n",
      "Date:                Thu, 20 Feb 2025   Prob (F-statistic):          2.13e-144\n",
      "Time:                        15:07:33   Log-Likelihood:                -2682.5\n",
      "No. Observations:                 400   AIC:                             5373.\n",
      "Df Residuals:                     396   BIC:                             5389.\n",
      "Df Model:                           3                                         \n",
      "Covariance Type:            nonrobust                                         \n",
      "==================================================================================\n",
      "                     coef    std err          t      P>|t|      [0.025      0.975]\n",
      "----------------------------------------------------------------------------------\n",
      "Intercept       -423.3712     26.146    -16.193      0.000    -474.773    -371.969\n",
      "Rating             2.5454      0.067     37.728      0.000       2.413       2.678\n",
      "Student          311.9994     85.868      3.633      0.000     143.186     480.813\n",
      "Rating:Student     0.2461      0.224      1.100      0.272      -0.194       0.686\n",
      "==============================================================================\n",
      "Omnibus:                       13.303   Durbin-Watson:                   1.975\n",
      "Prob(Omnibus):                  0.001   Jarque-Bera (JB):               14.026\n",
      "Skew:                          -0.400   Prob(JB):                     0.000900\n",
      "Kurtosis:                       3.451   Cond. No.                     3.38e+03\n",
      "==============================================================================\n",
      "\n",
      "Notes:\n",
      "[1] Standard Errors assume that the covariance matrix of the errors is correctly specified.\n",
      "[2] The condition number is large, 3.38e+03. This might indicate that there are\n",
      "strong multicollinearity or other numerical problems.\n",
      "\n",
      "\n",
      "\n",
      "T-statistic: 4.9028, P-value: 0.000012\n"
     ]
    }
   ],
   "source": [
    "import pandas as pd\n",
    "import statsmodels.api as sm\n",
    "import statsmodels.formula.api as smf\n",
    "import matplotlib.pyplot as plt\n",
    "import seaborn as sns\n",
    "from scipy import stats\n",
    "\n",
    "file_path = \"Credit.csv\"\n",
    "df = pd.read_csv(file_path)\n",
    "\n",
    "df.columns = df.columns.str.strip()\n",
    "\n",
    "df = df.dropna(subset=['Balance', 'Rating', 'Student'])\n",
    "\n",
    "df['Student'] = df['Student'].replace({'Yes': 1, 'No': 0}).astype(int)\n",
    "\n",
    "df['Balance'] = pd.to_numeric(df['Balance'], errors='coerce')\n",
    "df['Rating'] = pd.to_numeric(df['Rating'], errors='coerce')\n",
    "\n",
    "student_comparison = df.groupby('Student')['Balance'].mean()\n",
    "plt.figure(figsize=(6, 4))\n",
    "sns.barplot(x=student_comparison.index, y=student_comparison.values)\n",
    "plt.xticks(ticks=[0, 1], labels=[\"Non-Student\", \"Student\"])\n",
    "plt.title(\"Student Status AVG card balance\")\n",
    "plt.show()\n",
    "\n",
    "model = smf.ols(\"Balance ~ Rating + Student + Rating:Student\", data=df).fit()\n",
    "print(model.summary())\n",
    "\n",
    "student_balance = df[df['Student'] == 1]['Balance']\n",
    "non_student_balance = df[df['Student'] == 0]['Balance']\n",
    "\n",
    "t_stat, p_value = stats.ttest_ind(student_balance, non_student_balance, equal_var=False)\n",
    "print()\n",
    "print()\n",
    "print()\n",
    "print(f\"T-statistic: {t_stat:.4f}, P-value: {p_value:.6f}\")"
   ]
  },
  {
   "cell_type": "markdown",
   "id": "8de0c038",
   "metadata": {},
   "source": [
    "Part 3: \t\t(20 points)\n",
    "Use the Credit data to perform the following tests using Linear Regression settings: Online quiz will be based on the results of the regressions performed below.\n"
   ]
  },
  {
   "cell_type": "markdown",
   "id": "34676672",
   "metadata": {},
   "source": [
    "i.\tTest whether Age influence Credit Card Balance on the basis of simple linear regression.\n",
    "(Provide a summary of the model).  (2 points)\n"
   ]
  },
  {
   "cell_type": "code",
   "execution_count": 46,
   "id": "5d580ede",
   "metadata": {
    "ExecuteTime": {
     "end_time": "2025-02-15T17:22:38.310353Z",
     "start_time": "2025-02-15T17:22:38.291235Z"
    }
   },
   "outputs": [
    {
     "data": {
      "text/html": [
       "<table class=\"simpletable\">\n",
       "<caption>OLS Regression Results</caption>\n",
       "<tr>\n",
       "  <th>Dep. Variable:</th>         <td>Balance</td>     <th>  R-squared:         </th> <td>   0.000</td>\n",
       "</tr>\n",
       "<tr>\n",
       "  <th>Model:</th>                   <td>OLS</td>       <th>  Adj. R-squared:    </th> <td>  -0.003</td>\n",
       "</tr>\n",
       "<tr>\n",
       "  <th>Method:</th>             <td>Least Squares</td>  <th>  F-statistic:       </th> <td>0.001340</td>\n",
       "</tr>\n",
       "<tr>\n",
       "  <th>Date:</th>             <td>Thu, 20 Feb 2025</td> <th>  Prob (F-statistic):</th>  <td> 0.971</td> \n",
       "</tr>\n",
       "<tr>\n",
       "  <th>Time:</th>                 <td>15:21:36</td>     <th>  Log-Likelihood:    </th> <td> -3019.4</td>\n",
       "</tr>\n",
       "<tr>\n",
       "  <th>No. Observations:</th>      <td>   400</td>      <th>  AIC:               </th> <td>   6043.</td>\n",
       "</tr>\n",
       "<tr>\n",
       "  <th>Df Residuals:</th>          <td>   398</td>      <th>  BIC:               </th> <td>   6051.</td>\n",
       "</tr>\n",
       "<tr>\n",
       "  <th>Df Model:</th>              <td>     1</td>      <th>                     </th>     <td> </td>   \n",
       "</tr>\n",
       "<tr>\n",
       "  <th>Covariance Type:</th>      <td>nonrobust</td>    <th>                     </th>     <td> </td>   \n",
       "</tr>\n",
       "</table>\n",
       "<table class=\"simpletable\">\n",
       "<tr>\n",
       "    <td></td>       <th>coef</th>     <th>std err</th>      <th>t</th>      <th>P>|t|</th>  <th>[0.025</th>    <th>0.975]</th>  \n",
       "</tr>\n",
       "<tr>\n",
       "  <th>const</th> <td>  517.2922</td> <td>   77.852</td> <td>    6.645</td> <td> 0.000</td> <td>  364.241</td> <td>  670.344</td>\n",
       "</tr>\n",
       "<tr>\n",
       "  <th>Age</th>   <td>    0.0489</td> <td>    1.336</td> <td>    0.037</td> <td> 0.971</td> <td>   -2.578</td> <td>    2.675</td>\n",
       "</tr>\n",
       "</table>\n",
       "<table class=\"simpletable\">\n",
       "<tr>\n",
       "  <th>Omnibus:</th>       <td>28.715</td> <th>  Durbin-Watson:     </th> <td>   1.945</td>\n",
       "</tr>\n",
       "<tr>\n",
       "  <th>Prob(Omnibus):</th> <td> 0.000</td> <th>  Jarque-Bera (JB):  </th> <td>  27.393</td>\n",
       "</tr>\n",
       "<tr>\n",
       "  <th>Skew:</th>          <td> 0.582</td> <th>  Prob(JB):          </th> <td>1.13e-06</td>\n",
       "</tr>\n",
       "<tr>\n",
       "  <th>Kurtosis:</th>      <td> 2.463</td> <th>  Cond. No.          </th> <td>    197.</td>\n",
       "</tr>\n",
       "</table><br/><br/>Notes:<br/>[1] Standard Errors assume that the covariance matrix of the errors is correctly specified."
      ],
      "text/latex": [
       "\\begin{center}\n",
       "\\begin{tabular}{lclc}\n",
       "\\toprule\n",
       "\\textbf{Dep. Variable:}    &     Balance      & \\textbf{  R-squared:         } &     0.000   \\\\\n",
       "\\textbf{Model:}            &       OLS        & \\textbf{  Adj. R-squared:    } &    -0.003   \\\\\n",
       "\\textbf{Method:}           &  Least Squares   & \\textbf{  F-statistic:       } &  0.001340   \\\\\n",
       "\\textbf{Date:}             & Thu, 20 Feb 2025 & \\textbf{  Prob (F-statistic):} &    0.971    \\\\\n",
       "\\textbf{Time:}             &     15:21:36     & \\textbf{  Log-Likelihood:    } &   -3019.4   \\\\\n",
       "\\textbf{No. Observations:} &         400      & \\textbf{  AIC:               } &     6043.   \\\\\n",
       "\\textbf{Df Residuals:}     &         398      & \\textbf{  BIC:               } &     6051.   \\\\\n",
       "\\textbf{Df Model:}         &           1      & \\textbf{                     } &             \\\\\n",
       "\\textbf{Covariance Type:}  &    nonrobust     & \\textbf{                     } &             \\\\\n",
       "\\bottomrule\n",
       "\\end{tabular}\n",
       "\\begin{tabular}{lcccccc}\n",
       "               & \\textbf{coef} & \\textbf{std err} & \\textbf{t} & \\textbf{P$> |$t$|$} & \\textbf{[0.025} & \\textbf{0.975]}  \\\\\n",
       "\\midrule\n",
       "\\textbf{const} &     517.2922  &       77.852     &     6.645  &         0.000        &      364.241    &      670.344     \\\\\n",
       "\\textbf{Age}   &       0.0489  &        1.336     &     0.037  &         0.971        &       -2.578    &        2.675     \\\\\n",
       "\\bottomrule\n",
       "\\end{tabular}\n",
       "\\begin{tabular}{lclc}\n",
       "\\textbf{Omnibus:}       & 28.715 & \\textbf{  Durbin-Watson:     } &    1.945  \\\\\n",
       "\\textbf{Prob(Omnibus):} &  0.000 & \\textbf{  Jarque-Bera (JB):  } &   27.393  \\\\\n",
       "\\textbf{Skew:}          &  0.582 & \\textbf{  Prob(JB):          } & 1.13e-06  \\\\\n",
       "\\textbf{Kurtosis:}      &  2.463 & \\textbf{  Cond. No.          } &     197.  \\\\\n",
       "\\bottomrule\n",
       "\\end{tabular}\n",
       "%\\caption{OLS Regression Results}\n",
       "\\end{center}\n",
       "\n",
       "Notes: \\newline\n",
       " [1] Standard Errors assume that the covariance matrix of the errors is correctly specified."
      ],
      "text/plain": [
       "<class 'statsmodels.iolib.summary.Summary'>\n",
       "\"\"\"\n",
       "                            OLS Regression Results                            \n",
       "==============================================================================\n",
       "Dep. Variable:                Balance   R-squared:                       0.000\n",
       "Model:                            OLS   Adj. R-squared:                 -0.003\n",
       "Method:                 Least Squares   F-statistic:                  0.001340\n",
       "Date:                Thu, 20 Feb 2025   Prob (F-statistic):              0.971\n",
       "Time:                        15:21:36   Log-Likelihood:                -3019.4\n",
       "No. Observations:                 400   AIC:                             6043.\n",
       "Df Residuals:                     398   BIC:                             6051.\n",
       "Df Model:                           1                                         \n",
       "Covariance Type:            nonrobust                                         \n",
       "==============================================================================\n",
       "                 coef    std err          t      P>|t|      [0.025      0.975]\n",
       "------------------------------------------------------------------------------\n",
       "const        517.2922     77.852      6.645      0.000     364.241     670.344\n",
       "Age            0.0489      1.336      0.037      0.971      -2.578       2.675\n",
       "==============================================================================\n",
       "Omnibus:                       28.715   Durbin-Watson:                   1.945\n",
       "Prob(Omnibus):                  0.000   Jarque-Bera (JB):               27.393\n",
       "Skew:                           0.582   Prob(JB):                     1.13e-06\n",
       "Kurtosis:                       2.463   Cond. No.                         197.\n",
       "==============================================================================\n",
       "\n",
       "Notes:\n",
       "[1] Standard Errors assume that the covariance matrix of the errors is correctly specified.\n",
       "\"\"\""
      ]
     },
     "execution_count": 46,
     "metadata": {},
     "output_type": "execute_result"
    }
   ],
   "source": [
    "X = df['Age']  \n",
    "y = df['Balance']  \n",
    "\n",
    "X = sm.add_constant(X)\n",
    "\n",
    "model = sm.OLS(y, X).fit()\n",
    "\n",
    "model.summary()\n"
   ]
  },
  {
   "cell_type": "markdown",
   "id": "bfb72085",
   "metadata": {},
   "source": [
    "ii.\tUse Age and Credit Rating as predictors of Credit Card Balance (response variable) in a multiple linear regression setting. (Provide a summary of the model). (2 points)  \n",
    "\n"
   ]
  },
  {
   "cell_type": "code",
   "execution_count": null,
   "id": "c1a59e74",
   "metadata": {},
   "outputs": [
    {
     "data": {
      "text/html": [
       "<table class=\"simpletable\">\n",
       "<caption>OLS Regression Results</caption>\n",
       "<tr>\n",
       "  <th>Dep. Variable:</th>         <td>Balance</td>     <th>  R-squared:         </th> <td>   0.754</td> \n",
       "</tr>\n",
       "<tr>\n",
       "  <th>Model:</th>                   <td>OLS</td>       <th>  Adj. R-squared:    </th> <td>   0.752</td> \n",
       "</tr>\n",
       "<tr>\n",
       "  <th>Method:</th>             <td>Least Squares</td>  <th>  F-statistic:       </th> <td>   606.9</td> \n",
       "</tr>\n",
       "<tr>\n",
       "  <th>Date:</th>             <td>Thu, 20 Feb 2025</td> <th>  Prob (F-statistic):</th> <td>1.82e-121</td>\n",
       "</tr>\n",
       "<tr>\n",
       "  <th>Time:</th>                 <td>15:10:03</td>     <th>  Log-Likelihood:    </th> <td> -2739.2</td> \n",
       "</tr>\n",
       "<tr>\n",
       "  <th>No. Observations:</th>      <td>   400</td>      <th>  AIC:               </th> <td>   5484.</td> \n",
       "</tr>\n",
       "<tr>\n",
       "  <th>Df Residuals:</th>          <td>   397</td>      <th>  BIC:               </th> <td>   5496.</td> \n",
       "</tr>\n",
       "<tr>\n",
       "  <th>Df Model:</th>              <td>     2</td>      <th>                     </th>     <td> </td>    \n",
       "</tr>\n",
       "<tr>\n",
       "  <th>Covariance Type:</th>      <td>nonrobust</td>    <th>                     </th>     <td> </td>    \n",
       "</tr>\n",
       "</table>\n",
       "<table class=\"simpletable\">\n",
       "<tr>\n",
       "     <td></td>       <th>coef</th>     <th>std err</th>      <th>t</th>      <th>P>|t|</th>  <th>[0.025</th>    <th>0.975]</th>  \n",
       "</tr>\n",
       "<tr>\n",
       "  <th>const</th>  <td> -269.5811</td> <td>   44.806</td> <td>   -6.017</td> <td> 0.000</td> <td> -357.668</td> <td> -181.494</td>\n",
       "</tr>\n",
       "<tr>\n",
       "  <th>Age</th>    <td>   -2.3508</td> <td>    0.668</td> <td>   -3.521</td> <td> 0.000</td> <td>   -3.663</td> <td>   -1.038</td>\n",
       "</tr>\n",
       "<tr>\n",
       "  <th>Rating</th> <td>    2.5933</td> <td>    0.074</td> <td>   34.840</td> <td> 0.000</td> <td>    2.447</td> <td>    2.740</td>\n",
       "</tr>\n",
       "</table>\n",
       "<table class=\"simpletable\">\n",
       "<tr>\n",
       "  <th>Omnibus:</th>       <td>20.938</td> <th>  Durbin-Watson:     </th> <td>   1.963</td>\n",
       "</tr>\n",
       "<tr>\n",
       "  <th>Prob(Omnibus):</th> <td> 0.000</td> <th>  Jarque-Bera (JB):  </th> <td>  34.510</td>\n",
       "</tr>\n",
       "<tr>\n",
       "  <th>Skew:</th>          <td> 0.358</td> <th>  Prob(JB):          </th> <td>3.21e-08</td>\n",
       "</tr>\n",
       "<tr>\n",
       "  <th>Kurtosis:</th>      <td> 4.249</td> <th>  Cond. No.          </th> <td>1.53e+03</td>\n",
       "</tr>\n",
       "</table><br/><br/>Notes:<br/>[1] Standard Errors assume that the covariance matrix of the errors is correctly specified.<br/>[2] The condition number is large, 1.53e+03. This might indicate that there are<br/>strong multicollinearity or other numerical problems."
      ],
      "text/latex": [
       "\\begin{center}\n",
       "\\begin{tabular}{lclc}\n",
       "\\toprule\n",
       "\\textbf{Dep. Variable:}    &     Balance      & \\textbf{  R-squared:         } &     0.754   \\\\\n",
       "\\textbf{Model:}            &       OLS        & \\textbf{  Adj. R-squared:    } &     0.752   \\\\\n",
       "\\textbf{Method:}           &  Least Squares   & \\textbf{  F-statistic:       } &     606.9   \\\\\n",
       "\\textbf{Date:}             & Thu, 20 Feb 2025 & \\textbf{  Prob (F-statistic):} & 1.82e-121   \\\\\n",
       "\\textbf{Time:}             &     15:10:03     & \\textbf{  Log-Likelihood:    } &   -2739.2   \\\\\n",
       "\\textbf{No. Observations:} &         400      & \\textbf{  AIC:               } &     5484.   \\\\\n",
       "\\textbf{Df Residuals:}     &         397      & \\textbf{  BIC:               } &     5496.   \\\\\n",
       "\\textbf{Df Model:}         &           2      & \\textbf{                     } &             \\\\\n",
       "\\textbf{Covariance Type:}  &    nonrobust     & \\textbf{                     } &             \\\\\n",
       "\\bottomrule\n",
       "\\end{tabular}\n",
       "\\begin{tabular}{lcccccc}\n",
       "                & \\textbf{coef} & \\textbf{std err} & \\textbf{t} & \\textbf{P$> |$t$|$} & \\textbf{[0.025} & \\textbf{0.975]}  \\\\\n",
       "\\midrule\n",
       "\\textbf{const}  &    -269.5811  &       44.806     &    -6.017  &         0.000        &     -357.668    &     -181.494     \\\\\n",
       "\\textbf{Age}    &      -2.3508  &        0.668     &    -3.521  &         0.000        &       -3.663    &       -1.038     \\\\\n",
       "\\textbf{Rating} &       2.5933  &        0.074     &    34.840  &         0.000        &        2.447    &        2.740     \\\\\n",
       "\\bottomrule\n",
       "\\end{tabular}\n",
       "\\begin{tabular}{lclc}\n",
       "\\textbf{Omnibus:}       & 20.938 & \\textbf{  Durbin-Watson:     } &    1.963  \\\\\n",
       "\\textbf{Prob(Omnibus):} &  0.000 & \\textbf{  Jarque-Bera (JB):  } &   34.510  \\\\\n",
       "\\textbf{Skew:}          &  0.358 & \\textbf{  Prob(JB):          } & 3.21e-08  \\\\\n",
       "\\textbf{Kurtosis:}      &  4.249 & \\textbf{  Cond. No.          } & 1.53e+03  \\\\\n",
       "\\bottomrule\n",
       "\\end{tabular}\n",
       "%\\caption{OLS Regression Results}\n",
       "\\end{center}\n",
       "\n",
       "Notes: \\newline\n",
       " [1] Standard Errors assume that the covariance matrix of the errors is correctly specified. \\newline\n",
       " [2] The condition number is large, 1.53e+03. This might indicate that there are \\newline\n",
       " strong multicollinearity or other numerical problems."
      ],
      "text/plain": [
       "<class 'statsmodels.iolib.summary.Summary'>\n",
       "\"\"\"\n",
       "                            OLS Regression Results                            \n",
       "==============================================================================\n",
       "Dep. Variable:                Balance   R-squared:                       0.754\n",
       "Model:                            OLS   Adj. R-squared:                  0.752\n",
       "Method:                 Least Squares   F-statistic:                     606.9\n",
       "Date:                Thu, 20 Feb 2025   Prob (F-statistic):          1.82e-121\n",
       "Time:                        15:10:03   Log-Likelihood:                -2739.2\n",
       "No. Observations:                 400   AIC:                             5484.\n",
       "Df Residuals:                     397   BIC:                             5496.\n",
       "Df Model:                           2                                         \n",
       "Covariance Type:            nonrobust                                         \n",
       "==============================================================================\n",
       "                 coef    std err          t      P>|t|      [0.025      0.975]\n",
       "------------------------------------------------------------------------------\n",
       "const       -269.5811     44.806     -6.017      0.000    -357.668    -181.494\n",
       "Age           -2.3508      0.668     -3.521      0.000      -3.663      -1.038\n",
       "Rating         2.5933      0.074     34.840      0.000       2.447       2.740\n",
       "==============================================================================\n",
       "Omnibus:                       20.938   Durbin-Watson:                   1.963\n",
       "Prob(Omnibus):                  0.000   Jarque-Bera (JB):               34.510\n",
       "Skew:                           0.358   Prob(JB):                     3.21e-08\n",
       "Kurtosis:                       4.249   Cond. No.                     1.53e+03\n",
       "==============================================================================\n",
       "\n",
       "Notes:\n",
       "[1] Standard Errors assume that the covariance matrix of the errors is correctly specified.\n",
       "[2] The condition number is large, 1.53e+03. This might indicate that there are\n",
       "strong multicollinearity or other numerical problems.\n",
       "\"\"\""
      ]
     },
     "execution_count": 40,
     "metadata": {},
     "output_type": "execute_result"
    }
   ],
   "source": [
    "import statsmodels.api as sm\n",
    "\n",
    "\n",
    "X = df[['Age', 'Rating']]  \n",
    "y = df['Balance']  \n",
    "\n",
    "X = sm.add_constant(X)\n",
    "\n",
    "model = sm.OLS(y, X).fit()\n",
    "\n",
    "model.summary()\n",
    "\n"
   ]
  },
  {
   "cell_type": "markdown",
   "id": "9d473b2c",
   "metadata": {},
   "source": [
    "iii.\tCompare effect of Age from part (i) and (ii): Write the explanation for part (iii) in Python code. (10 points)\n",
    "\n"
   ]
  },
  {
   "cell_type": "code",
   "execution_count": 45,
   "id": "d589758b",
   "metadata": {},
   "outputs": [
    {
     "data": {
      "text/html": [
       "<table class=\"simpletable\">\n",
       "<caption>OLS Regression Results</caption>\n",
       "<tr>\n",
       "  <th>Dep. Variable:</th>         <td>Balance</td>     <th>  R-squared:         </th> <td>   0.000</td>\n",
       "</tr>\n",
       "<tr>\n",
       "  <th>Model:</th>                   <td>OLS</td>       <th>  Adj. R-squared:    </th> <td>  -0.003</td>\n",
       "</tr>\n",
       "<tr>\n",
       "  <th>Method:</th>             <td>Least Squares</td>  <th>  F-statistic:       </th> <td>0.001340</td>\n",
       "</tr>\n",
       "<tr>\n",
       "  <th>Date:</th>             <td>Thu, 20 Feb 2025</td> <th>  Prob (F-statistic):</th>  <td> 0.971</td> \n",
       "</tr>\n",
       "<tr>\n",
       "  <th>Time:</th>                 <td>15:21:12</td>     <th>  Log-Likelihood:    </th> <td> -3019.4</td>\n",
       "</tr>\n",
       "<tr>\n",
       "  <th>No. Observations:</th>      <td>   400</td>      <th>  AIC:               </th> <td>   6043.</td>\n",
       "</tr>\n",
       "<tr>\n",
       "  <th>Df Residuals:</th>          <td>   398</td>      <th>  BIC:               </th> <td>   6051.</td>\n",
       "</tr>\n",
       "<tr>\n",
       "  <th>Df Model:</th>              <td>     1</td>      <th>                     </th>     <td> </td>   \n",
       "</tr>\n",
       "<tr>\n",
       "  <th>Covariance Type:</th>      <td>nonrobust</td>    <th>                     </th>     <td> </td>   \n",
       "</tr>\n",
       "</table>\n",
       "<table class=\"simpletable\">\n",
       "<tr>\n",
       "    <td></td>       <th>coef</th>     <th>std err</th>      <th>t</th>      <th>P>|t|</th>  <th>[0.025</th>    <th>0.975]</th>  \n",
       "</tr>\n",
       "<tr>\n",
       "  <th>const</th> <td>  517.2922</td> <td>   77.852</td> <td>    6.645</td> <td> 0.000</td> <td>  364.241</td> <td>  670.344</td>\n",
       "</tr>\n",
       "<tr>\n",
       "  <th>Age</th>   <td>    0.0489</td> <td>    1.336</td> <td>    0.037</td> <td> 0.971</td> <td>   -2.578</td> <td>    2.675</td>\n",
       "</tr>\n",
       "</table>\n",
       "<table class=\"simpletable\">\n",
       "<tr>\n",
       "  <th>Omnibus:</th>       <td>28.715</td> <th>  Durbin-Watson:     </th> <td>   1.945</td>\n",
       "</tr>\n",
       "<tr>\n",
       "  <th>Prob(Omnibus):</th> <td> 0.000</td> <th>  Jarque-Bera (JB):  </th> <td>  27.393</td>\n",
       "</tr>\n",
       "<tr>\n",
       "  <th>Skew:</th>          <td> 0.582</td> <th>  Prob(JB):          </th> <td>1.13e-06</td>\n",
       "</tr>\n",
       "<tr>\n",
       "  <th>Kurtosis:</th>      <td> 2.463</td> <th>  Cond. No.          </th> <td>    197.</td>\n",
       "</tr>\n",
       "</table><br/><br/>Notes:<br/>[1] Standard Errors assume that the covariance matrix of the errors is correctly specified."
      ],
      "text/latex": [
       "\\begin{center}\n",
       "\\begin{tabular}{lclc}\n",
       "\\toprule\n",
       "\\textbf{Dep. Variable:}    &     Balance      & \\textbf{  R-squared:         } &     0.000   \\\\\n",
       "\\textbf{Model:}            &       OLS        & \\textbf{  Adj. R-squared:    } &    -0.003   \\\\\n",
       "\\textbf{Method:}           &  Least Squares   & \\textbf{  F-statistic:       } &  0.001340   \\\\\n",
       "\\textbf{Date:}             & Thu, 20 Feb 2025 & \\textbf{  Prob (F-statistic):} &    0.971    \\\\\n",
       "\\textbf{Time:}             &     15:21:12     & \\textbf{  Log-Likelihood:    } &   -3019.4   \\\\\n",
       "\\textbf{No. Observations:} &         400      & \\textbf{  AIC:               } &     6043.   \\\\\n",
       "\\textbf{Df Residuals:}     &         398      & \\textbf{  BIC:               } &     6051.   \\\\\n",
       "\\textbf{Df Model:}         &           1      & \\textbf{                     } &             \\\\\n",
       "\\textbf{Covariance Type:}  &    nonrobust     & \\textbf{                     } &             \\\\\n",
       "\\bottomrule\n",
       "\\end{tabular}\n",
       "\\begin{tabular}{lcccccc}\n",
       "               & \\textbf{coef} & \\textbf{std err} & \\textbf{t} & \\textbf{P$> |$t$|$} & \\textbf{[0.025} & \\textbf{0.975]}  \\\\\n",
       "\\midrule\n",
       "\\textbf{const} &     517.2922  &       77.852     &     6.645  &         0.000        &      364.241    &      670.344     \\\\\n",
       "\\textbf{Age}   &       0.0489  &        1.336     &     0.037  &         0.971        &       -2.578    &        2.675     \\\\\n",
       "\\bottomrule\n",
       "\\end{tabular}\n",
       "\\begin{tabular}{lclc}\n",
       "\\textbf{Omnibus:}       & 28.715 & \\textbf{  Durbin-Watson:     } &    1.945  \\\\\n",
       "\\textbf{Prob(Omnibus):} &  0.000 & \\textbf{  Jarque-Bera (JB):  } &   27.393  \\\\\n",
       "\\textbf{Skew:}          &  0.582 & \\textbf{  Prob(JB):          } & 1.13e-06  \\\\\n",
       "\\textbf{Kurtosis:}      &  2.463 & \\textbf{  Cond. No.          } &     197.  \\\\\n",
       "\\bottomrule\n",
       "\\end{tabular}\n",
       "%\\caption{OLS Regression Results}\n",
       "\\end{center}\n",
       "\n",
       "Notes: \\newline\n",
       " [1] Standard Errors assume that the covariance matrix of the errors is correctly specified."
      ],
      "text/plain": [
       "<class 'statsmodels.iolib.summary.Summary'>\n",
       "\"\"\"\n",
       "                            OLS Regression Results                            \n",
       "==============================================================================\n",
       "Dep. Variable:                Balance   R-squared:                       0.000\n",
       "Model:                            OLS   Adj. R-squared:                 -0.003\n",
       "Method:                 Least Squares   F-statistic:                  0.001340\n",
       "Date:                Thu, 20 Feb 2025   Prob (F-statistic):              0.971\n",
       "Time:                        15:21:12   Log-Likelihood:                -3019.4\n",
       "No. Observations:                 400   AIC:                             6043.\n",
       "Df Residuals:                     398   BIC:                             6051.\n",
       "Df Model:                           1                                         \n",
       "Covariance Type:            nonrobust                                         \n",
       "==============================================================================\n",
       "                 coef    std err          t      P>|t|      [0.025      0.975]\n",
       "------------------------------------------------------------------------------\n",
       "const        517.2922     77.852      6.645      0.000     364.241     670.344\n",
       "Age            0.0489      1.336      0.037      0.971      -2.578       2.675\n",
       "==============================================================================\n",
       "Omnibus:                       28.715   Durbin-Watson:                   1.945\n",
       "Prob(Omnibus):                  0.000   Jarque-Bera (JB):               27.393\n",
       "Skew:                           0.582   Prob(JB):                     1.13e-06\n",
       "Kurtosis:                       2.463   Cond. No.                         197.\n",
       "==============================================================================\n",
       "\n",
       "Notes:\n",
       "[1] Standard Errors assume that the covariance matrix of the errors is correctly specified.\n",
       "\"\"\""
      ]
     },
     "execution_count": 45,
     "metadata": {},
     "output_type": "execute_result"
    }
   ],
   "source": [
    "model.summary()"
   ]
  },
  {
   "cell_type": "markdown",
   "id": "a4dae20a",
   "metadata": {},
   "source": [
    "The First Model using Age alone has an R^2 value of 0.0000 and a F-Statistic of .001340. This model does NOT explain the effect on Credit card balance. The second model that contains Age and Credit Rating has an R^2 of .754 and an F-Statistic of 606.9, this model does a MUCH better job of explaining the variables effect on Balance."
   ]
  },
  {
   "cell_type": "markdown",
   "id": "ea7a0209",
   "metadata": {},
   "source": [
    "iv.\tObserve the distribution of Age. Construct 3 dummy variables based on Age distribution: (6 points)\n",
    "1. Age 40 and below (Age=<40)\n",
    "2. Age Between 41 to 56 (41=<Age<=56)\n",
    "3. Age group over 56 (Age>56)\n",
    "\n",
    "Construct model to observe whether credit card balance is significantly different for different age group. Consider the age group over 56 as the baseline. \n"
   ]
  },
  {
   "cell_type": "code",
   "execution_count": 48,
   "id": "ad7ff9f6",
   "metadata": {},
   "outputs": [
    {
     "data": {
      "text/html": [
       "<table class=\"simpletable\">\n",
       "<caption>OLS Regression Results</caption>\n",
       "<tr>\n",
       "  <th>Dep. Variable:</th>         <td>Balance</td>     <th>  R-squared:         </th> <td>   0.018</td>\n",
       "</tr>\n",
       "<tr>\n",
       "  <th>Model:</th>                   <td>OLS</td>       <th>  Adj. R-squared:    </th> <td>   0.013</td>\n",
       "</tr>\n",
       "<tr>\n",
       "  <th>Method:</th>             <td>Least Squares</td>  <th>  F-statistic:       </th> <td>   3.557</td>\n",
       "</tr>\n",
       "<tr>\n",
       "  <th>Date:</th>             <td>Thu, 20 Feb 2025</td> <th>  Prob (F-statistic):</th>  <td>0.0294</td> \n",
       "</tr>\n",
       "<tr>\n",
       "  <th>Time:</th>                 <td>15:26:19</td>     <th>  Log-Likelihood:    </th> <td> -3015.8</td>\n",
       "</tr>\n",
       "<tr>\n",
       "  <th>No. Observations:</th>      <td>   400</td>      <th>  AIC:               </th> <td>   6038.</td>\n",
       "</tr>\n",
       "<tr>\n",
       "  <th>Df Residuals:</th>          <td>   397</td>      <th>  BIC:               </th> <td>   6050.</td>\n",
       "</tr>\n",
       "<tr>\n",
       "  <th>Df Model:</th>              <td>     2</td>      <th>                     </th>     <td> </td>   \n",
       "</tr>\n",
       "<tr>\n",
       "  <th>Covariance Type:</th>      <td>nonrobust</td>    <th>                     </th>     <td> </td>   \n",
       "</tr>\n",
       "</table>\n",
       "<table class=\"simpletable\">\n",
       "<tr>\n",
       "       <td></td>          <th>coef</th>     <th>std err</th>      <th>t</th>      <th>P>|t|</th>  <th>[0.025</th>    <th>0.975]</th>  \n",
       "</tr>\n",
       "<tr>\n",
       "  <th>const</th>       <td>  394.1419</td> <td>   18.000</td> <td>   21.897</td> <td> 0.000</td> <td>  358.755</td> <td>  429.529</td>\n",
       "</tr>\n",
       "<tr>\n",
       "  <th>Agebelow_40</th> <td>   83.4735</td> <td>   38.350</td> <td>    2.177</td> <td> 0.030</td> <td>    8.079</td> <td>  158.868</td>\n",
       "</tr>\n",
       "<tr>\n",
       "  <th>Age41_56</th>    <td>  221.7277</td> <td>   35.091</td> <td>    6.319</td> <td> 0.000</td> <td>  152.740</td> <td>  290.716</td>\n",
       "</tr>\n",
       "<tr>\n",
       "  <th>Age56_andup</th> <td>   88.9406</td> <td>   29.358</td> <td>    3.030</td> <td> 0.003</td> <td>   31.224</td> <td>  146.657</td>\n",
       "</tr>\n",
       "</table>\n",
       "<table class=\"simpletable\">\n",
       "<tr>\n",
       "  <th>Omnibus:</th>       <td>29.076</td> <th>  Durbin-Watson:     </th> <td>   1.950</td>\n",
       "</tr>\n",
       "<tr>\n",
       "  <th>Prob(Omnibus):</th> <td> 0.000</td> <th>  Jarque-Bera (JB):  </th> <td>  26.474</td>\n",
       "</tr>\n",
       "<tr>\n",
       "  <th>Skew:</th>          <td> 0.562</td> <th>  Prob(JB):          </th> <td>1.78e-06</td>\n",
       "</tr>\n",
       "<tr>\n",
       "  <th>Kurtosis:</th>      <td> 2.431</td> <th>  Cond. No.          </th> <td>1.03e+16</td>\n",
       "</tr>\n",
       "</table><br/><br/>Notes:<br/>[1] Standard Errors assume that the covariance matrix of the errors is correctly specified.<br/>[2] The smallest eigenvalue is 5.18e-30. This might indicate that there are<br/>strong multicollinearity problems or that the design matrix is singular."
      ],
      "text/latex": [
       "\\begin{center}\n",
       "\\begin{tabular}{lclc}\n",
       "\\toprule\n",
       "\\textbf{Dep. Variable:}    &     Balance      & \\textbf{  R-squared:         } &     0.018   \\\\\n",
       "\\textbf{Model:}            &       OLS        & \\textbf{  Adj. R-squared:    } &     0.013   \\\\\n",
       "\\textbf{Method:}           &  Least Squares   & \\textbf{  F-statistic:       } &     3.557   \\\\\n",
       "\\textbf{Date:}             & Thu, 20 Feb 2025 & \\textbf{  Prob (F-statistic):} &   0.0294    \\\\\n",
       "\\textbf{Time:}             &     15:26:19     & \\textbf{  Log-Likelihood:    } &   -3015.8   \\\\\n",
       "\\textbf{No. Observations:} &         400      & \\textbf{  AIC:               } &     6038.   \\\\\n",
       "\\textbf{Df Residuals:}     &         397      & \\textbf{  BIC:               } &     6050.   \\\\\n",
       "\\textbf{Df Model:}         &           2      & \\textbf{                     } &             \\\\\n",
       "\\textbf{Covariance Type:}  &    nonrobust     & \\textbf{                     } &             \\\\\n",
       "\\bottomrule\n",
       "\\end{tabular}\n",
       "\\begin{tabular}{lcccccc}\n",
       "                      & \\textbf{coef} & \\textbf{std err} & \\textbf{t} & \\textbf{P$> |$t$|$} & \\textbf{[0.025} & \\textbf{0.975]}  \\\\\n",
       "\\midrule\n",
       "\\textbf{const}        &     394.1419  &       18.000     &    21.897  &         0.000        &      358.755    &      429.529     \\\\\n",
       "\\textbf{Agebelow\\_40} &      83.4735  &       38.350     &     2.177  &         0.030        &        8.079    &      158.868     \\\\\n",
       "\\textbf{Age41\\_56}    &     221.7277  &       35.091     &     6.319  &         0.000        &      152.740    &      290.716     \\\\\n",
       "\\textbf{Age56\\_andup} &      88.9406  &       29.358     &     3.030  &         0.003        &       31.224    &      146.657     \\\\\n",
       "\\bottomrule\n",
       "\\end{tabular}\n",
       "\\begin{tabular}{lclc}\n",
       "\\textbf{Omnibus:}       & 29.076 & \\textbf{  Durbin-Watson:     } &    1.950  \\\\\n",
       "\\textbf{Prob(Omnibus):} &  0.000 & \\textbf{  Jarque-Bera (JB):  } &   26.474  \\\\\n",
       "\\textbf{Skew:}          &  0.562 & \\textbf{  Prob(JB):          } & 1.78e-06  \\\\\n",
       "\\textbf{Kurtosis:}      &  2.431 & \\textbf{  Cond. No.          } & 1.03e+16  \\\\\n",
       "\\bottomrule\n",
       "\\end{tabular}\n",
       "%\\caption{OLS Regression Results}\n",
       "\\end{center}\n",
       "\n",
       "Notes: \\newline\n",
       " [1] Standard Errors assume that the covariance matrix of the errors is correctly specified. \\newline\n",
       " [2] The smallest eigenvalue is 5.18e-30. This might indicate that there are \\newline\n",
       " strong multicollinearity problems or that the design matrix is singular."
      ],
      "text/plain": [
       "<class 'statsmodels.iolib.summary.Summary'>\n",
       "\"\"\"\n",
       "                            OLS Regression Results                            \n",
       "==============================================================================\n",
       "Dep. Variable:                Balance   R-squared:                       0.018\n",
       "Model:                            OLS   Adj. R-squared:                  0.013\n",
       "Method:                 Least Squares   F-statistic:                     3.557\n",
       "Date:                Thu, 20 Feb 2025   Prob (F-statistic):             0.0294\n",
       "Time:                        15:26:19   Log-Likelihood:                -3015.8\n",
       "No. Observations:                 400   AIC:                             6038.\n",
       "Df Residuals:                     397   BIC:                             6050.\n",
       "Df Model:                           2                                         \n",
       "Covariance Type:            nonrobust                                         \n",
       "===============================================================================\n",
       "                  coef    std err          t      P>|t|      [0.025      0.975]\n",
       "-------------------------------------------------------------------------------\n",
       "const         394.1419     18.000     21.897      0.000     358.755     429.529\n",
       "Agebelow_40    83.4735     38.350      2.177      0.030       8.079     158.868\n",
       "Age41_56      221.7277     35.091      6.319      0.000     152.740     290.716\n",
       "Age56_andup    88.9406     29.358      3.030      0.003      31.224     146.657\n",
       "==============================================================================\n",
       "Omnibus:                       29.076   Durbin-Watson:                   1.950\n",
       "Prob(Omnibus):                  0.000   Jarque-Bera (JB):               26.474\n",
       "Skew:                           0.562   Prob(JB):                     1.78e-06\n",
       "Kurtosis:                       2.431   Cond. No.                     1.03e+16\n",
       "==============================================================================\n",
       "\n",
       "Notes:\n",
       "[1] Standard Errors assume that the covariance matrix of the errors is correctly specified.\n",
       "[2] The smallest eigenvalue is 5.18e-30. This might indicate that there are\n",
       "strong multicollinearity problems or that the design matrix is singular.\n",
       "\"\"\""
      ]
     },
     "execution_count": 48,
     "metadata": {},
     "output_type": "execute_result"
    }
   ],
   "source": [
    "\n",
    "df['Agebelow_40'] = (df['Age'] <= 40).astype(int)\n",
    "df['Age41_56'] = ((df['Age'] > 40) & (df['Age'] <= 56)).astype(int)\n",
    "df['Age56_andup'] = (df['Age'] > 56).astype(int)\n",
    "\n",
    "\n",
    "X_dummy = df[['Agebelow_40', 'Age41_56','Age56_andup']]\n",
    "y = df['Balance']\n",
    "\n",
    "X_dummy = sm.add_constant(X_dummy)\n",
    "\n",
    "model_dummy = sm.OLS(y, X_dummy).fit()\n",
    "\n",
    "model_dummy.summary()"
   ]
  },
  {
   "cell_type": "markdown",
   "id": "8daeac40",
   "metadata": {},
   "source": [
    "Part 4: \t\t(40 points)\n",
    "i.\tDownload monthly price data of S&P500 and a stock of your choice for the period 01/01/2005 to 12/31/2019 (or any fifteen year period)   \t\t\t\t\t(2 points)\n"
   ]
  },
  {
   "cell_type": "code",
   "execution_count": 17,
   "id": "178aa7a9",
   "metadata": {
    "ExecuteTime": {
     "end_time": "2025-02-19T21:42:02.343123Z",
     "start_time": "2025-02-19T21:42:02.293470Z"
    }
   },
   "outputs": [
    {
     "name": "stderr",
     "output_type": "stream",
     "text": [
      "[*********************100%***********************]  1 of 1 completed\n",
      "\n",
      "1 Failed download:\n",
      "['^GSPC']: YFRateLimitError('Too Many Requests. Rate limited. Try after a while.')\n",
      "[*********************100%***********************]  1 of 1 completed\n",
      "\n",
      "1 Failed download:\n",
      "['AAPL']: YFRateLimitError('Too Many Requests. Rate limited. Try after a while.')\n"
     ]
    }
   ],
   "source": [
    "sp500_df = yf.download(tickers='^GSPC', start=\"2005-01-01\", end=\"2019-12-31\", interval=\"1mo\")\n",
    "apple_df = yf.download(tickers='AAPL', start=\"2005-01-01\", end=\"2019-12-31\", interval=\"1mo\")"
   ]
  },
  {
   "cell_type": "markdown",
   "id": "e0206dd8",
   "metadata": {},
   "source": [
    "ii.\tCompute the monthly returns for the S&P 500 and the stock. Construct one data frame to store the return series. (2 points)"
   ]
  },
  {
   "cell_type": "code",
   "execution_count": 18,
   "id": "872aa4049272fd1",
   "metadata": {
    "ExecuteTime": {
     "end_time": "2025-02-19T21:42:04.881848Z",
     "start_time": "2025-02-19T21:42:04.869319Z"
    }
   },
   "outputs": [
    {
     "name": "stdout",
     "output_type": "stream",
     "text": [
      "Empty DataFrame\n",
      "Columns: [^GSPC, AAPL]\n",
      "Index: []\n"
     ]
    }
   ],
   "source": [
    "sp500_df = sp500_df['Close'].pct_change()\n",
    "apple_df = apple_df['Close'].pct_change()\n",
    "\n",
    "df = pd.concat([sp500_df, apple_df], axis=1)\n",
    "print(df)\n"
   ]
  },
  {
   "cell_type": "markdown",
   "id": "62a57ef10743d818",
   "metadata": {},
   "source": [
    "iii.\tConstruct summary statistics, histogram, correlation matrix of the return series. "
   ]
  },
  {
   "cell_type": "code",
   "execution_count": 19,
   "id": "ce219a34df8aa83e",
   "metadata": {
    "ExecuteTime": {
     "end_time": "2025-02-19T21:42:08.439822Z",
     "start_time": "2025-02-19T21:42:08.107434Z"
    }
   },
   "outputs": [
    {
     "name": "stdout",
     "output_type": "stream",
     "text": [
      "Ticker  ^GSPC  AAPL\n",
      "count     0.0   0.0\n",
      "mean      NaN   NaN\n",
      "std       NaN   NaN\n",
      "min       NaN   NaN\n",
      "25%       NaN   NaN\n",
      "50%       NaN   NaN\n",
      "75%       NaN   NaN\n",
      "max       NaN   NaN\n"
     ]
    },
    {
     "data": {
      "image/png": "[encoded data removed]",
      "text/plain": [
       "<Figure size 1000x500 with 2 Axes>"
      ]
     },
     "metadata": {},
     "output_type": "display_data"
    },
    {
     "name": "stdout",
     "output_type": "stream",
     "text": [
      "Correlation Matrix:\n",
      "Ticker  ^GSPC  AAPL\n",
      "Ticker             \n",
      "^GSPC     NaN   NaN\n",
      "AAPL      NaN   NaN\n"
     ]
    },
    {
     "name": "stderr",
     "output_type": "stream",
     "text": [
      "c:\\Users\\chase\\AppData\\Local\\Programs\\Python\\Python39\\lib\\site-packages\\seaborn\\matrix.py:202: RuntimeWarning: All-NaN slice encountered\n",
      "  vmin = np.nanmin(calc_data)\n",
      "c:\\Users\\chase\\AppData\\Local\\Programs\\Python\\Python39\\lib\\site-packages\\seaborn\\matrix.py:207: RuntimeWarning: All-NaN slice encountered\n",
      "  vmax = np.nanmax(calc_data)\n"
     ]
    },
    {
     "data": {
      "image/png": "[encoded data removed]",
      "text/plain": [
       "<Figure size 640x480 with 2 Axes>"
      ]
     },
     "metadata": {},
     "output_type": "display_data"
    }
   ],
   "source": [
    "summary_stats = df.describe()\n",
    "print(summary_stats)\n",
    "\n",
    "# Plot histograms\n",
    "plt.figure(figsize=(10, 5))\n",
    "\n",
    "plt.subplot(1, 2, 1)\n",
    "plt.hist(df['^GSPC'].dropna(), bins=20, edgecolor='k', alpha=0.7)\n",
    "plt.title('S&P 500 Monthly Returns')\n",
    "plt.xlabel('Return')\n",
    "plt.ylabel('Frequency')\n",
    "\n",
    "plt.subplot(1, 2, 2)\n",
    "plt.hist(df['AAPL'].dropna(), bins=20, edgecolor='k', alpha=0.7)\n",
    "plt.title('Apple Monthly Returns')\n",
    "plt.xlabel('Return')\n",
    "plt.ylabel('Frequency')\n",
    "\n",
    "plt.tight_layout()\n",
    "plt.show()\n",
    "\n",
    "# Correlation matrix\n",
    "correlation_matrix = df.corr()\n",
    "print(\"Correlation Matrix:\")\n",
    "print(correlation_matrix)\n",
    "\n",
    "# Plot correlation matrix\n",
    "sns.heatmap(correlation_matrix, annot=True, cmap='coolwarm')\n",
    "plt.title('Correlation Matrix of S&P 500 and Apple Monthly Returns')\n",
    "plt.show()"
   ]
  },
  {
   "cell_type": "markdown",
   "id": "ff451e3fe4180f0b",
   "metadata": {},
   "source": [
    "iv.\tDownload 3 month TBill rate from Fred. Consider the TBill data  for the same sample period 01/01/2005 to 12/31/2019 (or any fifteen year period that you have chosen) . (7 points)"
   ]
  },
  {
   "cell_type": "markdown",
   "id": "cfe0a2ac34953769",
   "metadata": {},
   "source": []
  },
  {
   "cell_type": "code",
   "execution_count": 20,
   "id": "c4640a9e8e025346",
   "metadata": {
    "ExecuteTime": {
     "end_time": "2025-02-19T21:42:13.439379Z",
     "start_time": "2025-02-19T21:42:13.035909Z"
    }
   },
   "outputs": [
    {
     "name": "stdout",
     "output_type": "stream",
     "text": [
      "            TBill Rate  Monthly Rate\n",
      "2005-01-01      0.0233      0.001942\n",
      "2005-02-01      0.0254      0.002117\n",
      "2005-03-01      0.0274      0.002283\n",
      "2005-04-01      0.0278      0.002317\n",
      "2005-05-01      0.0284      0.002367\n"
     ]
    }
   ],
   "source": [
    "fred_api_key = '91f5a783ac7a912b0ccb8839abe17117'\n",
    "fred = fredapi.Fred(fred_api_key)\n",
    "\n",
    "t_bill = fred.get_series(series_id='TB3MS', observation_start='2005-01-01', observation_end='2019-12-31', interval='1mo')\n",
    "tbill_df = pd.DataFrame(t_bill, columns=['TBill Rate'])\n",
    "tbill_df['TBill Rate'] = tbill_df['TBill Rate'] / 100\n",
    "tbill_df['Monthly Rate'] = tbill_df['TBill Rate'] / 12\n",
    "print(tbill_df.head())"
   ]
  },
  {
   "cell_type": "markdown",
   "id": "e4b9a9a4b72e912b",
   "metadata": {},
   "source": [
    "v.\tConstruct a matrix of return series combining Stock, S&P500, and TBill for the sample period. Construct return series with columns of excess returns of the stock (Stock return – TBill) and S&P500 (S&P500 return – Tbill)"
   ]
  },
  {
   "cell_type": "code",
   "execution_count": 21,
   "id": "b158d3a665b76c23",
   "metadata": {
    "ExecuteTime": {
     "end_time": "2025-02-19T21:35:50.338184Z",
     "start_time": "2025-02-19T21:35:50.326745Z"
    }
   },
   "outputs": [
    {
     "name": "stdout",
     "output_type": "stream",
     "text": [
      "            TBill Rate  Monthly Rate\n",
      "2005-01-01      0.0233      0.001942\n",
      "2005-02-01      0.0254      0.002117\n",
      "2005-03-01      0.0274      0.002283\n",
      "2005-04-01      0.0278      0.002317\n",
      "2005-05-01      0.0284      0.002367\n",
      "*****************\n",
      "2005-01-01    2.33\n",
      "2005-02-01    2.54\n",
      "2005-03-01    2.74\n",
      "2005-04-01    2.78\n",
      "2005-05-01    2.84\n",
      "dtype: float64\n"
     ]
    }
   ],
   "source": [
    "print(tbill_df.head())\n",
    "print('*****************')\n",
    "print(t_bill.head())"
   ]
  },
  {
   "cell_type": "code",
   "execution_count": 22,
   "id": "bc01598d4aa022a8",
   "metadata": {
    "ExecuteTime": {
     "end_time": "2025-02-19T21:27:06.225137Z",
     "start_time": "2025-02-19T21:27:06.200909Z"
    }
   },
   "outputs": [],
   "source": [
    "t_bill = pd.DataFrame(t_bill, columns=['TBill Rate'])\n",
    "t_bill['Monthly Rate'] = t_bill['TBill Rate'] / 12\n",
    "df.to_csv(\"aaa.csv\")\n",
    "t_bill.to_csv(\"bbb.csv\")"
   ]
  },
  {
   "cell_type": "code",
   "execution_count": 23,
   "id": "4bdb4ad401162fb9",
   "metadata": {
    "ExecuteTime": {
     "end_time": "2025-02-19T21:45:15.921569Z",
     "start_time": "2025-02-19T21:45:15.327818Z"
    }
   },
   "outputs": [
    {
     "name": "stdout",
     "output_type": "stream",
     "text": [
      "Ticker      ^GSPC  AAPL  T-Bill Rate  Monthly Rate\n",
      "Date                                              \n",
      "2005-01-01    NaN   NaN       0.0233      0.001942\n",
      "2005-02-01    NaN   NaN       0.0254      0.002117\n",
      "2005-03-01    NaN   NaN       0.0274      0.002283\n",
      "2005-04-01    NaN   NaN       0.0278      0.002317\n",
      "2005-05-01    NaN   NaN       0.0284      0.002367\n",
      "...           ...   ...          ...           ...\n",
      "2019-08-01    NaN   NaN       0.0195      0.001625\n",
      "2019-09-01    NaN   NaN       0.0189      0.001575\n",
      "2019-10-01    NaN   NaN       0.0165      0.001375\n",
      "2019-11-01    NaN   NaN       0.0154      0.001283\n",
      "2019-12-01    NaN   NaN       0.0154      0.001283\n",
      "\n",
      "[180 rows x 4 columns]\n",
      "Matrix of Return Series with Excess Returns:\n",
      "Ticker      ^GSPC  AAPL  T-Bill Rate  Monthly Rate  Excess Return AAPL  \\\n",
      "Date                                                                     \n",
      "2005-01-01    NaN   NaN       0.0233      0.001942                 NaN   \n",
      "2005-02-01    NaN   NaN       0.0254      0.002117                 NaN   \n",
      "2005-03-01    NaN   NaN       0.0274      0.002283                 NaN   \n",
      "2005-04-01    NaN   NaN       0.0278      0.002317                 NaN   \n",
      "2005-05-01    NaN   NaN       0.0284      0.002367                 NaN   \n",
      "...           ...   ...          ...           ...                 ...   \n",
      "2019-08-01    NaN   NaN       0.0195      0.001625                 NaN   \n",
      "2019-09-01    NaN   NaN       0.0189      0.001575                 NaN   \n",
      "2019-10-01    NaN   NaN       0.0165      0.001375                 NaN   \n",
      "2019-11-01    NaN   NaN       0.0154      0.001283                 NaN   \n",
      "2019-12-01    NaN   NaN       0.0154      0.001283                 NaN   \n",
      "\n",
      "Ticker      Excess Return S&P 500  \n",
      "Date                               \n",
      "2005-01-01                    NaN  \n",
      "2005-02-01                    NaN  \n",
      "2005-03-01                    NaN  \n",
      "2005-04-01                    NaN  \n",
      "2005-05-01                    NaN  \n",
      "...                           ...  \n",
      "2019-08-01                    NaN  \n",
      "2019-09-01                    NaN  \n",
      "2019-10-01                    NaN  \n",
      "2019-11-01                    NaN  \n",
      "2019-12-01                    NaN  \n",
      "\n",
      "[180 rows x 6 columns]\n",
      "Summary Statistics:\n",
      "Ticker  ^GSPC  AAPL  T-Bill Rate  Monthly Rate  Excess Return AAPL  \\\n",
      "count     0.0   0.0   180.000000    180.000000                 0.0   \n",
      "mean      NaN   NaN     0.012939      0.001078                 NaN   \n",
      "std       NaN   NaN     0.016077      0.001340                 NaN   \n",
      "min       NaN   NaN     0.000100      0.000008                 NaN   \n",
      "25%       NaN   NaN     0.000700      0.000058                 NaN   \n",
      "50%       NaN   NaN     0.002900      0.000242                 NaN   \n",
      "75%       NaN   NaN     0.021900      0.001825                 NaN   \n",
      "max       NaN   NaN     0.050300      0.004192                 NaN   \n",
      "\n",
      "Ticker  Excess Return S&P 500  \n",
      "count                     0.0  \n",
      "mean                      NaN  \n",
      "std                       NaN  \n",
      "min                       NaN  \n",
      "25%                       NaN  \n",
      "50%                       NaN  \n",
      "75%                       NaN  \n",
      "max                       NaN  \n"
     ]
    },
    {
     "data": {
      "image/png": "[encoded data removed]",
      "text/plain": [
       "<Figure size 1500x1000 with 3 Axes>"
      ]
     },
     "metadata": {},
     "output_type": "display_data"
    },
    {
     "name": "stdout",
     "output_type": "stream",
     "text": [
      "Correlation Matrix:\n",
      "Ticker                 ^GSPC  AAPL  T-Bill Rate  Monthly Rate  \\\n",
      "Ticker                                                          \n",
      "^GSPC                    NaN   NaN          NaN           NaN   \n",
      "AAPL                     NaN   NaN          NaN           NaN   \n",
      "T-Bill Rate              NaN   NaN          1.0           1.0   \n",
      "Monthly Rate             NaN   NaN          1.0           1.0   \n",
      "Excess Return AAPL       NaN   NaN          NaN           NaN   \n",
      "Excess Return S&P 500    NaN   NaN          NaN           NaN   \n",
      "\n",
      "Ticker                 Excess Return AAPL  Excess Return S&P 500  \n",
      "Ticker                                                            \n",
      "^GSPC                                 NaN                    NaN  \n",
      "AAPL                                  NaN                    NaN  \n",
      "T-Bill Rate                           NaN                    NaN  \n",
      "Monthly Rate                          NaN                    NaN  \n",
      "Excess Return AAPL                    NaN                    NaN  \n",
      "Excess Return S&P 500                 NaN                    NaN  \n"
     ]
    },
    {
     "data": {
      "image/png": "[encoded data removed]",
      "text/plain": [
       "<Figure size 640x480 with 2 Axes>"
      ]
     },
     "metadata": {},
     "output_type": "display_data"
    }
   ],
   "source": [
    "#df.rename(columns={'AAPL': 'Apple', '^GSPC': 'S&P 500'}, inplace=True)\n",
    "#tbill = t_bill.resample('ME').mean() / 100\n",
    "#df = df.resample('ME').mean()\n",
    "#df['T-Bill'] = tbill\n",
    "df['T-Bill Rate'] = tbill_df['TBill Rate'] \n",
    "df['Monthly Rate'] = tbill_df['Monthly Rate']\n",
    "print(df)\n",
    "\n",
    "df['Excess Return AAPL'] = df['AAPL'] - df['T-Bill Rate']\n",
    "df['Excess Return S&P 500'] = df['^GSPC'] - df['T-Bill Rate']\n",
    "\n",
    "print(\"Matrix of Return Series with Excess Returns:\")\n",
    "print(df)\n",
    "\n",
    "# Summary statistics\n",
    "summary_statistics = df.describe()\n",
    "print(\"Summary Statistics:\")\n",
    "print(summary_statistics)\n",
    "\n",
    "# Plot histograms\n",
    "plt.figure(figsize=(15, 10))\n",
    "\n",
    "for i, column in enumerate(df.columns[:3]):\n",
    "    plt.subplot(2, 2, i + 1)\n",
    "    plt.hist(df[column].dropna(), bins=20, edgecolor='k', alpha=0.7)\n",
    "    if column == '^GSPC':\n",
    "        column = 'S&P 500'\n",
    "    plt.title(f'{column} Monthly Returns')\n",
    "    plt.xlabel('Return')\n",
    "    plt.ylabel('Frequency')\n",
    "\n",
    "plt.tight_layout()\n",
    "plt.show()\n",
    "\n",
    "# Correlation matrix\n",
    "correlation_matrix = df.corr()\n",
    "print(\"Correlation Matrix:\")\n",
    "print(correlation_matrix)\n",
    "\n",
    "# Plot correlation matrix\n",
    "sns.heatmap(correlation_matrix, annot=True, cmap='coolwarm')\n",
    "plt.title('Correlation Matrix of Monthly Returns')\n",
    "plt.show()"
   ]
  },
  {
   "cell_type": "markdown",
   "id": "a5639049ba8896d3",
   "metadata": {},
   "source": [
    "vi.\tConstruct a linear regression model with the excess returns : stock excess return being the response variable and S&P500 excess return the predictor. (2 points)"
   ]
  },
  {
   "cell_type": "code",
   "execution_count": 24,
   "id": "7d5a0e81b0fccbd9",
   "metadata": {
    "ExecuteTime": {
     "end_time": "2025-02-19T21:45:28.750144Z",
     "start_time": "2025-02-19T21:45:28.705599Z"
    }
   },
   "outputs": [
    {
     "ename": "ValueError",
     "evalue": "zero-size array to reduction operation maximum which has no identity",
     "output_type": "error",
     "traceback": [
      "\u001b[1;31m---------------------------------------------------------------------------\u001b[0m",
      "\u001b[1;31mValueError\u001b[0m                                Traceback (most recent call last)",
      "Cell \u001b[1;32mIn[24], line 6\u001b[0m\n\u001b[0;32m      3\u001b[0m y \u001b[38;5;241m=\u001b[39m df[\u001b[38;5;124m'\u001b[39m\u001b[38;5;124mExcess Return AAPL\u001b[39m\u001b[38;5;124m'\u001b[39m]\n\u001b[0;32m      4\u001b[0m X \u001b[38;5;241m=\u001b[39m sm\u001b[38;5;241m.\u001b[39madd_constant(X)\n\u001b[1;32m----> 6\u001b[0m model \u001b[38;5;241m=\u001b[39m \u001b[43msm\u001b[49m\u001b[38;5;241;43m.\u001b[39;49m\u001b[43mOLS\u001b[49m\u001b[43m(\u001b[49m\u001b[43my\u001b[49m\u001b[43m,\u001b[49m\u001b[43m \u001b[49m\u001b[43mX\u001b[49m\u001b[43m)\u001b[49m\u001b[38;5;241m.\u001b[39mfit()\n\u001b[0;32m      7\u001b[0m \u001b[38;5;28mprint\u001b[39m(model\u001b[38;5;241m.\u001b[39msummary())\n",
      "File \u001b[1;32mc:\\Users\\chase\\AppData\\Local\\Programs\\Python\\Python39\\lib\\site-packages\\statsmodels\\regression\\linear_model.py:921\u001b[0m, in \u001b[0;36mOLS.__init__\u001b[1;34m(self, endog, exog, missing, hasconst, **kwargs)\u001b[0m\n\u001b[0;32m    918\u001b[0m     msg \u001b[38;5;241m=\u001b[39m (\u001b[38;5;124m\"\u001b[39m\u001b[38;5;124mWeights are not supported in OLS and will be ignored\u001b[39m\u001b[38;5;124m\"\u001b[39m\n\u001b[0;32m    919\u001b[0m            \u001b[38;5;124m\"\u001b[39m\u001b[38;5;124mAn exception will be raised in the next version.\u001b[39m\u001b[38;5;124m\"\u001b[39m)\n\u001b[0;32m    920\u001b[0m     warnings\u001b[38;5;241m.\u001b[39mwarn(msg, ValueWarning)\n\u001b[1;32m--> 921\u001b[0m \u001b[38;5;28msuper\u001b[39m()\u001b[38;5;241m.\u001b[39m\u001b[38;5;21m__init__\u001b[39m(endog, exog, missing\u001b[38;5;241m=\u001b[39mmissing,\n\u001b[0;32m    922\u001b[0m                           hasconst\u001b[38;5;241m=\u001b[39mhasconst, \u001b[38;5;241m*\u001b[39m\u001b[38;5;241m*\u001b[39mkwargs)\n\u001b[0;32m    923\u001b[0m \u001b[38;5;28;01mif\u001b[39;00m \u001b[38;5;124m\"\u001b[39m\u001b[38;5;124mweights\u001b[39m\u001b[38;5;124m\"\u001b[39m \u001b[38;5;129;01min\u001b[39;00m \u001b[38;5;28mself\u001b[39m\u001b[38;5;241m.\u001b[39m_init_keys:\n\u001b[0;32m    924\u001b[0m     \u001b[38;5;28mself\u001b[39m\u001b[38;5;241m.\u001b[39m_init_keys\u001b[38;5;241m.\u001b[39mremove(\u001b[38;5;124m\"\u001b[39m\u001b[38;5;124mweights\u001b[39m\u001b[38;5;124m\"\u001b[39m)\n",
      "File \u001b[1;32mc:\\Users\\chase\\AppData\\Local\\Programs\\Python\\Python39\\lib\\site-packages\\statsmodels\\regression\\linear_model.py:746\u001b[0m, in \u001b[0;36mWLS.__init__\u001b[1;34m(self, endog, exog, weights, missing, hasconst, **kwargs)\u001b[0m\n\u001b[0;32m    744\u001b[0m \u001b[38;5;28;01melse\u001b[39;00m:\n\u001b[0;32m    745\u001b[0m     weights \u001b[38;5;241m=\u001b[39m weights\u001b[38;5;241m.\u001b[39msqueeze()\n\u001b[1;32m--> 746\u001b[0m \u001b[38;5;28msuper\u001b[39m()\u001b[38;5;241m.\u001b[39m\u001b[38;5;21m__init__\u001b[39m(endog, exog, missing\u001b[38;5;241m=\u001b[39mmissing,\n\u001b[0;32m    747\u001b[0m                           weights\u001b[38;5;241m=\u001b[39mweights, hasconst\u001b[38;5;241m=\u001b[39mhasconst, \u001b[38;5;241m*\u001b[39m\u001b[38;5;241m*\u001b[39mkwargs)\n\u001b[0;32m    748\u001b[0m nobs \u001b[38;5;241m=\u001b[39m \u001b[38;5;28mself\u001b[39m\u001b[38;5;241m.\u001b[39mexog\u001b[38;5;241m.\u001b[39mshape[\u001b[38;5;241m0\u001b[39m]\n\u001b[0;32m    749\u001b[0m weights \u001b[38;5;241m=\u001b[39m \u001b[38;5;28mself\u001b[39m\u001b[38;5;241m.\u001b[39mweights\n",
      "File \u001b[1;32mc:\\Users\\chase\\AppData\\Local\\Programs\\Python\\Python39\\lib\\site-packages\\statsmodels\\regression\\linear_model.py:200\u001b[0m, in \u001b[0;36mRegressionModel.__init__\u001b[1;34m(self, endog, exog, **kwargs)\u001b[0m\n\u001b[0;32m    199\u001b[0m \u001b[38;5;28;01mdef\u001b[39;00m \u001b[38;5;21m__init__\u001b[39m(\u001b[38;5;28mself\u001b[39m, endog, exog, \u001b[38;5;241m*\u001b[39m\u001b[38;5;241m*\u001b[39mkwargs):\n\u001b[1;32m--> 200\u001b[0m     \u001b[38;5;28msuper\u001b[39m()\u001b[38;5;241m.\u001b[39m\u001b[38;5;21m__init__\u001b[39m(endog, exog, \u001b[38;5;241m*\u001b[39m\u001b[38;5;241m*\u001b[39mkwargs)\n\u001b[0;32m    201\u001b[0m     \u001b[38;5;28mself\u001b[39m\u001b[38;5;241m.\u001b[39mpinv_wexog: Float64Array \u001b[38;5;241m|\u001b[39m \u001b[38;5;28;01mNone\u001b[39;00m \u001b[38;5;241m=\u001b[39m \u001b[38;5;28;01mNone\u001b[39;00m\n\u001b[0;32m    202\u001b[0m     \u001b[38;5;28mself\u001b[39m\u001b[38;5;241m.\u001b[39m_data_attr\u001b[38;5;241m.\u001b[39mextend([\u001b[38;5;124m'\u001b[39m\u001b[38;5;124mpinv_wexog\u001b[39m\u001b[38;5;124m'\u001b[39m, \u001b[38;5;124m'\u001b[39m\u001b[38;5;124mwendog\u001b[39m\u001b[38;5;124m'\u001b[39m, \u001b[38;5;124m'\u001b[39m\u001b[38;5;124mwexog\u001b[39m\u001b[38;5;124m'\u001b[39m, \u001b[38;5;124m'\u001b[39m\u001b[38;5;124mweights\u001b[39m\u001b[38;5;124m'\u001b[39m])\n",
      "File \u001b[1;32mc:\\Users\\chase\\AppData\\Local\\Programs\\Python\\Python39\\lib\\site-packages\\statsmodels\\base\\model.py:270\u001b[0m, in \u001b[0;36mLikelihoodModel.__init__\u001b[1;34m(self, endog, exog, **kwargs)\u001b[0m\n\u001b[0;32m    269\u001b[0m \u001b[38;5;28;01mdef\u001b[39;00m \u001b[38;5;21m__init__\u001b[39m(\u001b[38;5;28mself\u001b[39m, endog, exog\u001b[38;5;241m=\u001b[39m\u001b[38;5;28;01mNone\u001b[39;00m, \u001b[38;5;241m*\u001b[39m\u001b[38;5;241m*\u001b[39mkwargs):\n\u001b[1;32m--> 270\u001b[0m     \u001b[38;5;28msuper\u001b[39m()\u001b[38;5;241m.\u001b[39m\u001b[38;5;21m__init__\u001b[39m(endog, exog, \u001b[38;5;241m*\u001b[39m\u001b[38;5;241m*\u001b[39mkwargs)\n\u001b[0;32m    271\u001b[0m     \u001b[38;5;28mself\u001b[39m\u001b[38;5;241m.\u001b[39minitialize()\n",
      "File \u001b[1;32mc:\\Users\\chase\\AppData\\Local\\Programs\\Python\\Python39\\lib\\site-packages\\statsmodels\\base\\model.py:95\u001b[0m, in \u001b[0;36mModel.__init__\u001b[1;34m(self, endog, exog, **kwargs)\u001b[0m\n\u001b[0;32m     93\u001b[0m missing \u001b[38;5;241m=\u001b[39m kwargs\u001b[38;5;241m.\u001b[39mpop(\u001b[38;5;124m'\u001b[39m\u001b[38;5;124mmissing\u001b[39m\u001b[38;5;124m'\u001b[39m, \u001b[38;5;124m'\u001b[39m\u001b[38;5;124mnone\u001b[39m\u001b[38;5;124m'\u001b[39m)\n\u001b[0;32m     94\u001b[0m hasconst \u001b[38;5;241m=\u001b[39m kwargs\u001b[38;5;241m.\u001b[39mpop(\u001b[38;5;124m'\u001b[39m\u001b[38;5;124mhasconst\u001b[39m\u001b[38;5;124m'\u001b[39m, \u001b[38;5;28;01mNone\u001b[39;00m)\n\u001b[1;32m---> 95\u001b[0m \u001b[38;5;28mself\u001b[39m\u001b[38;5;241m.\u001b[39mdata \u001b[38;5;241m=\u001b[39m \u001b[38;5;28mself\u001b[39m\u001b[38;5;241m.\u001b[39m_handle_data(endog, exog, missing, hasconst,\n\u001b[0;32m     96\u001b[0m                               \u001b[38;5;241m*\u001b[39m\u001b[38;5;241m*\u001b[39mkwargs)\n\u001b[0;32m     97\u001b[0m \u001b[38;5;28mself\u001b[39m\u001b[38;5;241m.\u001b[39mk_constant \u001b[38;5;241m=\u001b[39m \u001b[38;5;28mself\u001b[39m\u001b[38;5;241m.\u001b[39mdata\u001b[38;5;241m.\u001b[39mk_constant\n\u001b[0;32m     98\u001b[0m \u001b[38;5;28mself\u001b[39m\u001b[38;5;241m.\u001b[39mexog \u001b[38;5;241m=\u001b[39m \u001b[38;5;28mself\u001b[39m\u001b[38;5;241m.\u001b[39mdata\u001b[38;5;241m.\u001b[39mexog\n",
      "File \u001b[1;32mc:\\Users\\chase\\AppData\\Local\\Programs\\Python\\Python39\\lib\\site-packages\\statsmodels\\base\\model.py:135\u001b[0m, in \u001b[0;36mModel._handle_data\u001b[1;34m(self, endog, exog, missing, hasconst, **kwargs)\u001b[0m\n\u001b[0;32m    134\u001b[0m \u001b[38;5;28;01mdef\u001b[39;00m \u001b[38;5;21m_handle_data\u001b[39m(\u001b[38;5;28mself\u001b[39m, endog, exog, missing, hasconst, \u001b[38;5;241m*\u001b[39m\u001b[38;5;241m*\u001b[39mkwargs):\n\u001b[1;32m--> 135\u001b[0m     data \u001b[38;5;241m=\u001b[39m handle_data(endog, exog, missing, hasconst, \u001b[38;5;241m*\u001b[39m\u001b[38;5;241m*\u001b[39mkwargs)\n\u001b[0;32m    136\u001b[0m     \u001b[38;5;66;03m# kwargs arrays could have changed, easier to just attach here\u001b[39;00m\n\u001b[0;32m    137\u001b[0m     \u001b[38;5;28;01mfor\u001b[39;00m key \u001b[38;5;129;01min\u001b[39;00m kwargs:\n",
      "File \u001b[1;32mc:\\Users\\chase\\AppData\\Local\\Programs\\Python\\Python39\\lib\\site-packages\\statsmodels\\base\\data.py:675\u001b[0m, in \u001b[0;36mhandle_data\u001b[1;34m(endog, exog, missing, hasconst, **kwargs)\u001b[0m\n\u001b[0;32m    672\u001b[0m     exog \u001b[38;5;241m=\u001b[39m np\u001b[38;5;241m.\u001b[39masarray(exog)\n\u001b[0;32m    674\u001b[0m klass \u001b[38;5;241m=\u001b[39m handle_data_class_factory(endog, exog)\n\u001b[1;32m--> 675\u001b[0m \u001b[38;5;28;01mreturn\u001b[39;00m klass(endog, exog\u001b[38;5;241m=\u001b[39mexog, missing\u001b[38;5;241m=\u001b[39mmissing, hasconst\u001b[38;5;241m=\u001b[39mhasconst,\n\u001b[0;32m    676\u001b[0m              \u001b[38;5;241m*\u001b[39m\u001b[38;5;241m*\u001b[39mkwargs)\n",
      "File \u001b[1;32mc:\\Users\\chase\\AppData\\Local\\Programs\\Python\\Python39\\lib\\site-packages\\statsmodels\\base\\data.py:88\u001b[0m, in \u001b[0;36mModelData.__init__\u001b[1;34m(self, endog, exog, missing, hasconst, **kwargs)\u001b[0m\n\u001b[0;32m     86\u001b[0m \u001b[38;5;28mself\u001b[39m\u001b[38;5;241m.\u001b[39mconst_idx \u001b[38;5;241m=\u001b[39m \u001b[38;5;28;01mNone\u001b[39;00m\n\u001b[0;32m     87\u001b[0m \u001b[38;5;28mself\u001b[39m\u001b[38;5;241m.\u001b[39mk_constant \u001b[38;5;241m=\u001b[39m \u001b[38;5;241m0\u001b[39m\n\u001b[1;32m---> 88\u001b[0m \u001b[38;5;28;43mself\u001b[39;49m\u001b[38;5;241;43m.\u001b[39;49m\u001b[43m_handle_constant\u001b[49m\u001b[43m(\u001b[49m\u001b[43mhasconst\u001b[49m\u001b[43m)\u001b[49m\n\u001b[0;32m     89\u001b[0m \u001b[38;5;28mself\u001b[39m\u001b[38;5;241m.\u001b[39m_check_integrity()\n\u001b[0;32m     90\u001b[0m \u001b[38;5;28mself\u001b[39m\u001b[38;5;241m.\u001b[39m_cache \u001b[38;5;241m=\u001b[39m {}\n",
      "File \u001b[1;32mc:\\Users\\chase\\AppData\\Local\\Programs\\Python\\Python39\\lib\\site-packages\\statsmodels\\base\\data.py:132\u001b[0m, in \u001b[0;36mModelData._handle_constant\u001b[1;34m(self, hasconst)\u001b[0m\n\u001b[0;32m    129\u001b[0m \u001b[38;5;28;01melse\u001b[39;00m:\n\u001b[0;32m    130\u001b[0m     \u001b[38;5;66;03m# detect where the constant is\u001b[39;00m\n\u001b[0;32m    131\u001b[0m     check_implicit \u001b[38;5;241m=\u001b[39m \u001b[38;5;28;01mFalse\u001b[39;00m\n\u001b[1;32m--> 132\u001b[0m     exog_max \u001b[38;5;241m=\u001b[39m \u001b[43mnp\u001b[49m\u001b[38;5;241;43m.\u001b[39;49m\u001b[43mmax\u001b[49m\u001b[43m(\u001b[49m\u001b[38;5;28;43mself\u001b[39;49m\u001b[38;5;241;43m.\u001b[39;49m\u001b[43mexog\u001b[49m\u001b[43m,\u001b[49m\u001b[43m \u001b[49m\u001b[43maxis\u001b[49m\u001b[38;5;241;43m=\u001b[39;49m\u001b[38;5;241;43m0\u001b[39;49m\u001b[43m)\u001b[49m\n\u001b[0;32m    133\u001b[0m     \u001b[38;5;28;01mif\u001b[39;00m \u001b[38;5;129;01mnot\u001b[39;00m np\u001b[38;5;241m.\u001b[39misfinite(exog_max)\u001b[38;5;241m.\u001b[39mall():\n\u001b[0;32m    134\u001b[0m         \u001b[38;5;28;01mraise\u001b[39;00m MissingDataError(\u001b[38;5;124m'\u001b[39m\u001b[38;5;124mexog contains inf or nans\u001b[39m\u001b[38;5;124m'\u001b[39m)\n",
      "File \u001b[1;32mc:\\Users\\chase\\AppData\\Local\\Programs\\Python\\Python39\\lib\\site-packages\\numpy\\core\\fromnumeric.py:2810\u001b[0m, in \u001b[0;36mmax\u001b[1;34m(a, axis, out, keepdims, initial, where)\u001b[0m\n\u001b[0;32m   2692\u001b[0m \u001b[38;5;129m@array_function_dispatch\u001b[39m(_max_dispatcher)\n\u001b[0;32m   2693\u001b[0m \u001b[38;5;129m@set_module\u001b[39m(\u001b[38;5;124m'\u001b[39m\u001b[38;5;124mnumpy\u001b[39m\u001b[38;5;124m'\u001b[39m)\n\u001b[0;32m   2694\u001b[0m \u001b[38;5;28;01mdef\u001b[39;00m \u001b[38;5;21mmax\u001b[39m(a, axis\u001b[38;5;241m=\u001b[39m\u001b[38;5;28;01mNone\u001b[39;00m, out\u001b[38;5;241m=\u001b[39m\u001b[38;5;28;01mNone\u001b[39;00m, keepdims\u001b[38;5;241m=\u001b[39mnp\u001b[38;5;241m.\u001b[39m_NoValue, initial\u001b[38;5;241m=\u001b[39mnp\u001b[38;5;241m.\u001b[39m_NoValue,\n\u001b[0;32m   2695\u001b[0m          where\u001b[38;5;241m=\u001b[39mnp\u001b[38;5;241m.\u001b[39m_NoValue):\n\u001b[0;32m   2696\u001b[0m \u001b[38;5;250m    \u001b[39m\u001b[38;5;124;03m\"\"\"\u001b[39;00m\n\u001b[0;32m   2697\u001b[0m \u001b[38;5;124;03m    Return the maximum of an array or maximum along an axis.\u001b[39;00m\n\u001b[0;32m   2698\u001b[0m \n\u001b[1;32m   (...)\u001b[0m\n\u001b[0;32m   2808\u001b[0m \u001b[38;5;124;03m    5\u001b[39;00m\n\u001b[0;32m   2809\u001b[0m \u001b[38;5;124;03m    \"\"\"\u001b[39;00m\n\u001b[1;32m-> 2810\u001b[0m     \u001b[38;5;28;01mreturn\u001b[39;00m \u001b[43m_wrapreduction\u001b[49m\u001b[43m(\u001b[49m\u001b[43ma\u001b[49m\u001b[43m,\u001b[49m\u001b[43m \u001b[49m\u001b[43mnp\u001b[49m\u001b[38;5;241;43m.\u001b[39;49m\u001b[43mmaximum\u001b[49m\u001b[43m,\u001b[49m\u001b[43m \u001b[49m\u001b[38;5;124;43m'\u001b[39;49m\u001b[38;5;124;43mmax\u001b[39;49m\u001b[38;5;124;43m'\u001b[39;49m\u001b[43m,\u001b[49m\u001b[43m \u001b[49m\u001b[43maxis\u001b[49m\u001b[43m,\u001b[49m\u001b[43m \u001b[49m\u001b[38;5;28;43;01mNone\u001b[39;49;00m\u001b[43m,\u001b[49m\u001b[43m \u001b[49m\u001b[43mout\u001b[49m\u001b[43m,\u001b[49m\n\u001b[0;32m   2811\u001b[0m \u001b[43m                          \u001b[49m\u001b[43mkeepdims\u001b[49m\u001b[38;5;241;43m=\u001b[39;49m\u001b[43mkeepdims\u001b[49m\u001b[43m,\u001b[49m\u001b[43m \u001b[49m\u001b[43minitial\u001b[49m\u001b[38;5;241;43m=\u001b[39;49m\u001b[43minitial\u001b[49m\u001b[43m,\u001b[49m\u001b[43m \u001b[49m\u001b[43mwhere\u001b[49m\u001b[38;5;241;43m=\u001b[39;49m\u001b[43mwhere\u001b[49m\u001b[43m)\u001b[49m\n",
      "File \u001b[1;32mc:\\Users\\chase\\AppData\\Local\\Programs\\Python\\Python39\\lib\\site-packages\\numpy\\core\\fromnumeric.py:88\u001b[0m, in \u001b[0;36m_wrapreduction\u001b[1;34m(obj, ufunc, method, axis, dtype, out, **kwargs)\u001b[0m\n\u001b[0;32m     85\u001b[0m         \u001b[38;5;28;01melse\u001b[39;00m:\n\u001b[0;32m     86\u001b[0m             \u001b[38;5;28;01mreturn\u001b[39;00m reduction(axis\u001b[38;5;241m=\u001b[39maxis, out\u001b[38;5;241m=\u001b[39mout, \u001b[38;5;241m*\u001b[39m\u001b[38;5;241m*\u001b[39mpasskwargs)\n\u001b[1;32m---> 88\u001b[0m \u001b[38;5;28;01mreturn\u001b[39;00m ufunc\u001b[38;5;241m.\u001b[39mreduce(obj, axis, dtype, out, \u001b[38;5;241m*\u001b[39m\u001b[38;5;241m*\u001b[39mpasskwargs)\n",
      "\u001b[1;31mValueError\u001b[0m: zero-size array to reduction operation maximum which has no identity"
     ]
    }
   ],
   "source": [
    "df = df.dropna()\n",
    "X = df['Excess Return S&P 500']\n",
    "y = df['Excess Return AAPL']\n",
    "X = sm.add_constant(X)\n",
    "\n",
    "model = sm.OLS(y, X).fit()\n",
    "print(model.summary())"
   ]
  },
  {
   "cell_type": "markdown",
   "id": "43fc43a5b03ada44",
   "metadata": {},
   "source": [
    "vii.\tFind Beta for the stock based on the model constructed. Test the null hypothesis:                   ; what do you conclude? Draw your conclusion based on p-value.  \t\t\t\t\t\t\t\t\t(4 points)"
   ]
  },
  {
   "cell_type": "code",
   "execution_count": null,
   "id": "10f9534b5084165e",
   "metadata": {
    "ExecuteTime": {
     "end_time": "2025-02-19T21:45:34.693308Z",
     "start_time": "2025-02-19T21:45:34.687872Z"
    }
   },
   "outputs": [
    {
     "name": "stdout",
     "output_type": "stream",
     "text": [
      "Beta (Excess Return S&P 500): 1.1466\n",
      "P-Value: 3.3415652755284122e-15\n",
      "Conclusion: Reject the null hypothesis. The Beta is statistically significant.\n"
     ]
    }
   ],
   "source": [
    "beta = model.params['Excess Return S&P 500']\n",
    "p_value = model.pvalues['Excess Return S&P 500']\n",
    "\n",
    "print(f\"Beta (Excess Return S&P 500): {round(beta, 4)}\")\n",
    "print(f\"P-Value: {p_value}\")\n",
    "\n",
    "if p_value < 0.05:\n",
    "    conclusion = \"Reject the null hypothesis. The Beta is statistically significant.\"\n",
    "else:\n",
    "    conclusion = \"Fail to reject the null hypothesis. The Beta is not statistically significant.\"\n",
    "\n",
    "print(f\"Conclusion: {conclusion}\")"
   ]
  },
  {
   "cell_type": "markdown",
   "id": "69df67f2f5a1ad5e",
   "metadata": {},
   "source": [
    "viii.\tObtain beta of the stock from available stock report (refer the financial website that you choose).  Discuss why these two measures are same or different.\t\t\t\t\t(2 points)  "
   ]
  },
  {
   "cell_type": "markdown",
   "id": "2c82a690e85f1fc9",
   "metadata": {},
   "source": [
    "Reponse: \n",
    "https://finance.yahoo.com/quote/AAPL/key-statistics/?form=MG0AV3#:~:text=Stock%20Price%20History-,Beta%20(5Y%20Monthly),-1.20 \n",
    "\n",
    "Referencing the above URL, the most logical reason would be:\n",
    "1. Yahoo Finance is using a 5-year range compared to the 15-year range we are using. As a result we have more data points to work with to make a more logical decision on the volatility of Apple's stock compared to the overall market. "
   ]
  },
  {
   "cell_type": "markdown",
   "id": "8147a65c-5788-489c-ae15-842af2e203da",
   "metadata": {},
   "source": [
    "Reponse: \n",
    "https://finance.yahoo.com/quote/AAPL/key-statistics/?form=MG0AV3#:~:text=Stock%20Price%20History-,Beta%20(5Y%20Monthly),-1.20 \n",
    "\n",
    "Referencing the above URL, the most logical reason would be:\n",
    "1. Yahoo Finance is using a 5-year range compared to the 15-year range we are using. As a result we have more data points to work with to make a more logical decision on the volatility of Apple's stock compared to the overall market. "
   ]
  },
  {
   "cell_type": "code",
   "execution_count": null,
   "id": "24be48a1-e3bf-4f78-9e1b-2441e34c6151",
   "metadata": {},
   "outputs": [],
   "source": [
    "ix.\tComment on model accuracy: standard error and R-square"
   ]
  },
  {
   "cell_type": "markdown",
   "id": "f1aa783a-ce35-4cd3-90ee-da86bb98493c",
   "metadata": {},
   "source": [
    "An r-sqared value of .296 means that the S&P 500 excess return has a weak but a positive correlation with Apple's excess return so it doesn't provide the stongest accuracy. A low standard error leads to the t-values being higher. Since S&P 500 returns have a t-value of 8.635, it has a significant relationship with Apple's returns. "
   ]
  },
  {
   "cell_type": "code",
   "execution_count": null,
   "id": "a2c20e32-b2a5-4320-b5f2-a71be50760a2",
   "metadata": {},
   "outputs": [],
   "source": [
    "x.\tProvide the scatter plot and the fitted line for the linear regression model."
   ]
  },
  {
   "cell_type": "code",
   "execution_count": null,
   "id": "105566d3-98cc-4e1c-9c5c-06bda0c5e04f",
   "metadata": {},
   "outputs": [],
   "source": [
    "from scipy.stats import linregress\n",
    "\n",
    "x = df['Excess Return S&P 500']\n",
    "y = df['Excess Return AAPL']\n",
    "\n",
    "plt.scatter(x, y, label='Data Points')\n",
    "slope, intercept, _, _, _ = linregress(x, y)\n",
    "plt.plot(x, slope * x + intercept, color='red', label='Fitted line')\n",
    "\n",
    "plt.title('Excess Returns Comparison')\n",
    "plt.xlabel('Excess Return S&P 500')\n",
    "plt.ylabel('Excess Return AAPL'])\n",
    "plt.legend()\n",
    "plt.show()"
   ]
  },
  {
   "cell_type": "code",
   "execution_count": null,
   "id": "d5c8c517-0d1a-46d4-98e1-96e2723f37a1",
   "metadata": {},
   "outputs": [],
   "source": [
    "xi.\tProvide interpretation of your analysis: considering return of the stock and S&P 500 and the model constructed. (8 points)"
   ]
  },
  {
   "cell_type": "code",
   "execution_count": null,
   "id": "2a4c81c6-1f1f-4f15-b926-3e1ff5b45bb9",
   "metadata": {},
   "outputs": [],
   "source": [
    "Both the s&P 500 and Apple's returns have a similar spread, however, Apple appear to have higher returns on average based on the histograms. This would \n",
    "mean that its excess returns would also be higher than the S&P 500's. The model predicts that 29.6% of the variability in Apple's returns can be \n",
    "explained by S&P 500 returns. However, the low r-squared values means that S&P 500 excess returns is not a good predictor of Apple's returns alone\n",
    "and we would need to include other variables for a more accurate model.\n"
   ]
  }
 ],
 "metadata": {
  "kernelspec": {
   "display_name": "Python 3",
   "language": "python",
   "name": "python3"
  },
  "language_info": {
   "codemirror_mode": {
    "name": "ipython",
    "version": 3
   },
   "file_extension": ".py",
   "mimetype": "text/x-python",
   "name": "python",
   "nbconvert_exporter": "python",
   "pygments_lexer": "ipython3",
   "version": "3.9.7"
  }
 },
 "nbformat": 4,
 "nbformat_minor": 5
}
