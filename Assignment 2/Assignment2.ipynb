{
 "cells": [
  {
   "cell_type": "code",
   "id": "28ee17e2-054b-431c-a828-238df5edc669",
   "metadata": {
    "ExecuteTime": {
     "end_time": "2025-02-17T00:36:44.072717Z",
     "start_time": "2025-02-17T00:36:44.051577Z"
    }
   },
   "source": [
    "from itertools import count\n",
    "\n",
    "import pandas as pd\n",
    "import csv\n",
    "import yfinance as yf\n",
    "\n",
    "import numpy as np  \n",
    "import matplotlib.pyplot as plt  \n",
    "import seaborn as sns \n",
    "import statsmodels.api as sm\n",
    "import fredapi\n",
    "import statsmodels.formula.api as smf\n",
    "\n",
    "\n",
    "from sklearn.model_selection import train_test_split \n",
    "from sklearn.linear_model import LinearRegression\n",
    "from sklearn import metrics"
   ],
   "outputs": [],
   "execution_count": 55
  },
  {
   "cell_type": "code",
   "id": "61cafe45-e8f1-46e9-ab0e-6e37db597113",
   "metadata": {
    "ExecuteTime": {
     "end_time": "2025-02-15T16:58:47.487847Z",
     "start_time": "2025-02-15T16:58:47.467228Z"
    }
   },
   "source": [
    "#read Houseprices data\n",
    "adv = pd.read_csv(r\"HousePrices.csv\")\n",
    "\n",
    "\n",
    "#view first 5 rows of the data\n",
    "adv[:5]"
   ],
   "outputs": [
    {
     "data": {
      "text/plain": [
       "     price  lotsize  bedrooms  bathrooms  stories driveway recreation  \\\n",
       "0  42000.0     5850         3          1        2      yes         no   \n",
       "1  38500.0     4000         2          1        1      yes         no   \n",
       "2  49500.0     3060         3          1        1      yes         no   \n",
       "3  60500.0     6650         3          1        2      yes        yes   \n",
       "4  61000.0     6360         2          1        1      yes         no   \n",
       "\n",
       "  fullbase gasheat aircon  garage prefer  \n",
       "0      yes      no     no       1     no  \n",
       "1       no      no     no       0     no  \n",
       "2       no      no     no       0     no  \n",
       "3       no      no     no       0     no  \n",
       "4       no      no     no       0     no  "
      ],
      "text/html": [
       "<div>\n",
       "<style scoped>\n",
       "    .dataframe tbody tr th:only-of-type {\n",
       "        vertical-align: middle;\n",
       "    }\n",
       "\n",
       "    .dataframe tbody tr th {\n",
       "        vertical-align: top;\n",
       "    }\n",
       "\n",
       "    .dataframe thead th {\n",
       "        text-align: right;\n",
       "    }\n",
       "</style>\n",
       "<table border=\"1\" class=\"dataframe\">\n",
       "  <thead>\n",
       "    <tr style=\"text-align: right;\">\n",
       "      <th></th>\n",
       "      <th>price</th>\n",
       "      <th>lotsize</th>\n",
       "      <th>bedrooms</th>\n",
       "      <th>bathrooms</th>\n",
       "      <th>stories</th>\n",
       "      <th>driveway</th>\n",
       "      <th>recreation</th>\n",
       "      <th>fullbase</th>\n",
       "      <th>gasheat</th>\n",
       "      <th>aircon</th>\n",
       "      <th>garage</th>\n",
       "      <th>prefer</th>\n",
       "    </tr>\n",
       "  </thead>\n",
       "  <tbody>\n",
       "    <tr>\n",
       "      <th>0</th>\n",
       "      <td>42000.0</td>\n",
       "      <td>5850</td>\n",
       "      <td>3</td>\n",
       "      <td>1</td>\n",
       "      <td>2</td>\n",
       "      <td>yes</td>\n",
       "      <td>no</td>\n",
       "      <td>yes</td>\n",
       "      <td>no</td>\n",
       "      <td>no</td>\n",
       "      <td>1</td>\n",
       "      <td>no</td>\n",
       "    </tr>\n",
       "    <tr>\n",
       "      <th>1</th>\n",
       "      <td>38500.0</td>\n",
       "      <td>4000</td>\n",
       "      <td>2</td>\n",
       "      <td>1</td>\n",
       "      <td>1</td>\n",
       "      <td>yes</td>\n",
       "      <td>no</td>\n",
       "      <td>no</td>\n",
       "      <td>no</td>\n",
       "      <td>no</td>\n",
       "      <td>0</td>\n",
       "      <td>no</td>\n",
       "    </tr>\n",
       "    <tr>\n",
       "      <th>2</th>\n",
       "      <td>49500.0</td>\n",
       "      <td>3060</td>\n",
       "      <td>3</td>\n",
       "      <td>1</td>\n",
       "      <td>1</td>\n",
       "      <td>yes</td>\n",
       "      <td>no</td>\n",
       "      <td>no</td>\n",
       "      <td>no</td>\n",
       "      <td>no</td>\n",
       "      <td>0</td>\n",
       "      <td>no</td>\n",
       "    </tr>\n",
       "    <tr>\n",
       "      <th>3</th>\n",
       "      <td>60500.0</td>\n",
       "      <td>6650</td>\n",
       "      <td>3</td>\n",
       "      <td>1</td>\n",
       "      <td>2</td>\n",
       "      <td>yes</td>\n",
       "      <td>yes</td>\n",
       "      <td>no</td>\n",
       "      <td>no</td>\n",
       "      <td>no</td>\n",
       "      <td>0</td>\n",
       "      <td>no</td>\n",
       "    </tr>\n",
       "    <tr>\n",
       "      <th>4</th>\n",
       "      <td>61000.0</td>\n",
       "      <td>6360</td>\n",
       "      <td>2</td>\n",
       "      <td>1</td>\n",
       "      <td>1</td>\n",
       "      <td>yes</td>\n",
       "      <td>no</td>\n",
       "      <td>no</td>\n",
       "      <td>no</td>\n",
       "      <td>no</td>\n",
       "      <td>0</td>\n",
       "      <td>no</td>\n",
       "    </tr>\n",
       "  </tbody>\n",
       "</table>\n",
       "</div>"
      ]
     },
     "execution_count": 2,
     "metadata": {},
     "output_type": "execute_result"
    }
   ],
   "execution_count": 2
  },
  {
   "cell_type": "code",
   "execution_count": 5,
   "id": "621426d3-0a19-4315-a314-3bf062051ad7",
   "metadata": {},
   "outputs": [
    {
     "data": {
      "text/html": [
       "<div>\n",
       "<style scoped>\n",
       "    .dataframe tbody tr th:only-of-type {\n",
       "        vertical-align: middle;\n",
       "    }\n",
       "\n",
       "    .dataframe tbody tr th {\n",
       "        vertical-align: top;\n",
       "    }\n",
       "\n",
       "    .dataframe thead th {\n",
       "        text-align: right;\n",
       "    }\n",
       "</style>\n",
       "<table border=\"1\" class=\"dataframe\">\n",
       "  <thead>\n",
       "    <tr style=\"text-align: right;\">\n",
       "      <th></th>\n",
       "      <th>price</th>\n",
       "      <th>lotsize</th>\n",
       "      <th>bedrooms</th>\n",
       "      <th>bathrooms</th>\n",
       "      <th>stories</th>\n",
       "      <th>driveway</th>\n",
       "      <th>recreation</th>\n",
       "      <th>fullbase</th>\n",
       "      <th>gasheat</th>\n",
       "      <th>aircon</th>\n",
       "      <th>garage</th>\n",
       "      <th>prefer</th>\n",
       "    </tr>\n",
       "  </thead>\n",
       "  <tbody>\n",
       "    <tr>\n",
       "      <th>0</th>\n",
       "      <td>42000.0</td>\n",
       "      <td>5850</td>\n",
       "      <td>3</td>\n",
       "      <td>1</td>\n",
       "      <td>2</td>\n",
       "      <td>yes</td>\n",
       "      <td>no</td>\n",
       "      <td>yes</td>\n",
       "      <td>no</td>\n",
       "      <td>no</td>\n",
       "      <td>1</td>\n",
       "      <td>no</td>\n",
       "    </tr>\n",
       "    <tr>\n",
       "      <th>1</th>\n",
       "      <td>38500.0</td>\n",
       "      <td>4000</td>\n",
       "      <td>2</td>\n",
       "      <td>1</td>\n",
       "      <td>1</td>\n",
       "      <td>yes</td>\n",
       "      <td>no</td>\n",
       "      <td>no</td>\n",
       "      <td>no</td>\n",
       "      <td>no</td>\n",
       "      <td>0</td>\n",
       "      <td>no</td>\n",
       "    </tr>\n",
       "    <tr>\n",
       "      <th>2</th>\n",
       "      <td>49500.0</td>\n",
       "      <td>3060</td>\n",
       "      <td>3</td>\n",
       "      <td>1</td>\n",
       "      <td>1</td>\n",
       "      <td>yes</td>\n",
       "      <td>no</td>\n",
       "      <td>no</td>\n",
       "      <td>no</td>\n",
       "      <td>no</td>\n",
       "      <td>0</td>\n",
       "      <td>no</td>\n",
       "    </tr>\n",
       "    <tr>\n",
       "      <th>3</th>\n",
       "      <td>60500.0</td>\n",
       "      <td>6650</td>\n",
       "      <td>3</td>\n",
       "      <td>1</td>\n",
       "      <td>2</td>\n",
       "      <td>yes</td>\n",
       "      <td>yes</td>\n",
       "      <td>no</td>\n",
       "      <td>no</td>\n",
       "      <td>no</td>\n",
       "      <td>0</td>\n",
       "      <td>no</td>\n",
       "    </tr>\n",
       "    <tr>\n",
       "      <th>4</th>\n",
       "      <td>61000.0</td>\n",
       "      <td>6360</td>\n",
       "      <td>2</td>\n",
       "      <td>1</td>\n",
       "      <td>1</td>\n",
       "      <td>yes</td>\n",
       "      <td>no</td>\n",
       "      <td>no</td>\n",
       "      <td>no</td>\n",
       "      <td>no</td>\n",
       "      <td>0</td>\n",
       "      <td>no</td>\n",
       "    </tr>\n",
       "  </tbody>\n",
       "</table>\n",
       "</div>"
      ],
      "text/plain": [
       "     price  lotsize  bedrooms  bathrooms  stories driveway recreation  \\\n",
       "0  42000.0     5850         3          1        2      yes         no   \n",
       "1  38500.0     4000         2          1        1      yes         no   \n",
       "2  49500.0     3060         3          1        1      yes         no   \n",
       "3  60500.0     6650         3          1        2      yes        yes   \n",
       "4  61000.0     6360         2          1        1      yes         no   \n",
       "\n",
       "  fullbase gasheat aircon  garage prefer  \n",
       "0      yes      no     no       1     no  \n",
       "1       no      no     no       0     no  \n",
       "2       no      no     no       0     no  \n",
       "3       no      no     no       0     no  \n",
       "4       no      no     no       0     no  "
      ]
     },
     "execution_count": 5,
     "metadata": {},
     "output_type": "execute_result"
    }
   ],
   "source": [
    "# Shows the first five rows of the data\n",
    "adv.head()\n"
   ]
  },
  {
   "cell_type": "code",
   "execution_count": 7,
   "id": "6b5aabe0-1699-4aa9-89d7-126ed9a83133",
   "metadata": {},
   "outputs": [
    {
     "data": {
      "text/plain": [
       "(546, 12)"
      ]
     },
     "execution_count": 7,
     "metadata": {},
     "output_type": "execute_result"
    }
   ],
   "source": [
    "#Checking the number of rows and columns\n",
    "adv.shape"
   ]
  },
  {
   "cell_type": "code",
   "execution_count": 9,
   "id": "e9dd4d1c-a19f-4f9a-ba36-0646289389b5",
   "metadata": {},
   "outputs": [
    {
     "data": {
      "text/html": [
       "<div>\n",
       "<style scoped>\n",
       "    .dataframe tbody tr th:only-of-type {\n",
       "        vertical-align: middle;\n",
       "    }\n",
       "\n",
       "    .dataframe tbody tr th {\n",
       "        vertical-align: top;\n",
       "    }\n",
       "\n",
       "    .dataframe thead th {\n",
       "        text-align: right;\n",
       "    }\n",
       "</style>\n",
       "<table border=\"1\" class=\"dataframe\">\n",
       "  <thead>\n",
       "    <tr style=\"text-align: right;\">\n",
       "      <th></th>\n",
       "      <th>price</th>\n",
       "      <th>lotsize</th>\n",
       "      <th>bedrooms</th>\n",
       "      <th>bathrooms</th>\n",
       "      <th>stories</th>\n",
       "      <th>garage</th>\n",
       "    </tr>\n",
       "  </thead>\n",
       "  <tbody>\n",
       "    <tr>\n",
       "      <th>count</th>\n",
       "      <td>546.000000</td>\n",
       "      <td>546.000000</td>\n",
       "      <td>546.000000</td>\n",
       "      <td>546.000000</td>\n",
       "      <td>546.000000</td>\n",
       "      <td>546.000000</td>\n",
       "    </tr>\n",
       "    <tr>\n",
       "      <th>mean</th>\n",
       "      <td>68121.597070</td>\n",
       "      <td>5150.265568</td>\n",
       "      <td>2.965201</td>\n",
       "      <td>1.285714</td>\n",
       "      <td>1.807692</td>\n",
       "      <td>0.692308</td>\n",
       "    </tr>\n",
       "    <tr>\n",
       "      <th>std</th>\n",
       "      <td>26702.670926</td>\n",
       "      <td>2168.158725</td>\n",
       "      <td>0.737388</td>\n",
       "      <td>0.502158</td>\n",
       "      <td>0.868203</td>\n",
       "      <td>0.861307</td>\n",
       "    </tr>\n",
       "    <tr>\n",
       "      <th>min</th>\n",
       "      <td>25000.000000</td>\n",
       "      <td>1650.000000</td>\n",
       "      <td>1.000000</td>\n",
       "      <td>1.000000</td>\n",
       "      <td>1.000000</td>\n",
       "      <td>0.000000</td>\n",
       "    </tr>\n",
       "    <tr>\n",
       "      <th>25%</th>\n",
       "      <td>49125.000000</td>\n",
       "      <td>3600.000000</td>\n",
       "      <td>2.000000</td>\n",
       "      <td>1.000000</td>\n",
       "      <td>1.000000</td>\n",
       "      <td>0.000000</td>\n",
       "    </tr>\n",
       "    <tr>\n",
       "      <th>50%</th>\n",
       "      <td>62000.000000</td>\n",
       "      <td>4600.000000</td>\n",
       "      <td>3.000000</td>\n",
       "      <td>1.000000</td>\n",
       "      <td>2.000000</td>\n",
       "      <td>0.000000</td>\n",
       "    </tr>\n",
       "    <tr>\n",
       "      <th>75%</th>\n",
       "      <td>82000.000000</td>\n",
       "      <td>6360.000000</td>\n",
       "      <td>3.000000</td>\n",
       "      <td>2.000000</td>\n",
       "      <td>2.000000</td>\n",
       "      <td>1.000000</td>\n",
       "    </tr>\n",
       "    <tr>\n",
       "      <th>max</th>\n",
       "      <td>190000.000000</td>\n",
       "      <td>16200.000000</td>\n",
       "      <td>6.000000</td>\n",
       "      <td>4.000000</td>\n",
       "      <td>4.000000</td>\n",
       "      <td>3.000000</td>\n",
       "    </tr>\n",
       "  </tbody>\n",
       "</table>\n",
       "</div>"
      ],
      "text/plain": [
       "               price       lotsize    bedrooms   bathrooms     stories  \\\n",
       "count     546.000000    546.000000  546.000000  546.000000  546.000000   \n",
       "mean    68121.597070   5150.265568    2.965201    1.285714    1.807692   \n",
       "std     26702.670926   2168.158725    0.737388    0.502158    0.868203   \n",
       "min     25000.000000   1650.000000    1.000000    1.000000    1.000000   \n",
       "25%     49125.000000   3600.000000    2.000000    1.000000    1.000000   \n",
       "50%     62000.000000   4600.000000    3.000000    1.000000    2.000000   \n",
       "75%     82000.000000   6360.000000    3.000000    2.000000    2.000000   \n",
       "max    190000.000000  16200.000000    6.000000    4.000000    4.000000   \n",
       "\n",
       "           garage  \n",
       "count  546.000000  \n",
       "mean     0.692308  \n",
       "std      0.861307  \n",
       "min      0.000000  \n",
       "25%      0.000000  \n",
       "50%      0.000000  \n",
       "75%      1.000000  \n",
       "max      3.000000  "
      ]
     },
     "execution_count": 9,
     "metadata": {},
     "output_type": "execute_result"
    }
   ],
   "source": [
    "#To see the statistical details of the dataset, we can use describe():\n",
    "adv.describe()"
   ]
  },
  {
   "cell_type": "code",
   "execution_count": null,
   "id": "a95380ee-0ddd-4c98-afe0-0001cca7f261",
   "metadata": {},
   "outputs": [],
   "source": [
    "#Part 1 - ii\n",
    "#page 126 of textbook"
   ]
  },
  {
   "cell_type": "markdown",
   "id": "5185f6a4",
   "metadata": {},
   "source": [
    "i.\tConstruct a summary stat for all the variables in the HousePrices data. (provide Mean, Median, Max, Min, and Std Dev of the data for all variables) (4 points)"
   ]
  },
  {
   "cell_type": "code",
   "id": "2b553967",
   "metadata": {
    "ExecuteTime": {
     "end_time": "2025-02-14T00:15:03.216628Z",
     "start_time": "2025-02-14T00:15:03.129531Z"
    }
   },
   "source": "adv.describe()",
   "outputs": [
    {
     "data": {
      "text/plain": [
       "               price       lotsize    bedrooms   bathrooms     stories  \\\n",
       "count     546.000000    546.000000  546.000000  546.000000  546.000000   \n",
       "mean    68121.597070   5150.265568    2.965201    1.285714    1.807692   \n",
       "std     26702.670926   2168.158725    0.737388    0.502158    0.868203   \n",
       "min     25000.000000   1650.000000    1.000000    1.000000    1.000000   \n",
       "25%     49125.000000   3600.000000    2.000000    1.000000    1.000000   \n",
       "50%     62000.000000   4600.000000    3.000000    1.000000    2.000000   \n",
       "75%     82000.000000   6360.000000    3.000000    2.000000    2.000000   \n",
       "max    190000.000000  16200.000000    6.000000    4.000000    4.000000   \n",
       "\n",
       "           garage  \n",
       "count  546.000000  \n",
       "mean     0.692308  \n",
       "std      0.861307  \n",
       "min      0.000000  \n",
       "25%      0.000000  \n",
       "50%      0.000000  \n",
       "75%      1.000000  \n",
       "max      3.000000  "
      ],
      "text/html": [
       "<div>\n",
       "<style scoped>\n",
       "    .dataframe tbody tr th:only-of-type {\n",
       "        vertical-align: middle;\n",
       "    }\n",
       "\n",
       "    .dataframe tbody tr th {\n",
       "        vertical-align: top;\n",
       "    }\n",
       "\n",
       "    .dataframe thead th {\n",
       "        text-align: right;\n",
       "    }\n",
       "</style>\n",
       "<table border=\"1\" class=\"dataframe\">\n",
       "  <thead>\n",
       "    <tr style=\"text-align: right;\">\n",
       "      <th></th>\n",
       "      <th>price</th>\n",
       "      <th>lotsize</th>\n",
       "      <th>bedrooms</th>\n",
       "      <th>bathrooms</th>\n",
       "      <th>stories</th>\n",
       "      <th>garage</th>\n",
       "    </tr>\n",
       "  </thead>\n",
       "  <tbody>\n",
       "    <tr>\n",
       "      <th>count</th>\n",
       "      <td>546.000000</td>\n",
       "      <td>546.000000</td>\n",
       "      <td>546.000000</td>\n",
       "      <td>546.000000</td>\n",
       "      <td>546.000000</td>\n",
       "      <td>546.000000</td>\n",
       "    </tr>\n",
       "    <tr>\n",
       "      <th>mean</th>\n",
       "      <td>68121.597070</td>\n",
       "      <td>5150.265568</td>\n",
       "      <td>2.965201</td>\n",
       "      <td>1.285714</td>\n",
       "      <td>1.807692</td>\n",
       "      <td>0.692308</td>\n",
       "    </tr>\n",
       "    <tr>\n",
       "      <th>std</th>\n",
       "      <td>26702.670926</td>\n",
       "      <td>2168.158725</td>\n",
       "      <td>0.737388</td>\n",
       "      <td>0.502158</td>\n",
       "      <td>0.868203</td>\n",
       "      <td>0.861307</td>\n",
       "    </tr>\n",
       "    <tr>\n",
       "      <th>min</th>\n",
       "      <td>25000.000000</td>\n",
       "      <td>1650.000000</td>\n",
       "      <td>1.000000</td>\n",
       "      <td>1.000000</td>\n",
       "      <td>1.000000</td>\n",
       "      <td>0.000000</td>\n",
       "    </tr>\n",
       "    <tr>\n",
       "      <th>25%</th>\n",
       "      <td>49125.000000</td>\n",
       "      <td>3600.000000</td>\n",
       "      <td>2.000000</td>\n",
       "      <td>1.000000</td>\n",
       "      <td>1.000000</td>\n",
       "      <td>0.000000</td>\n",
       "    </tr>\n",
       "    <tr>\n",
       "      <th>50%</th>\n",
       "      <td>62000.000000</td>\n",
       "      <td>4600.000000</td>\n",
       "      <td>3.000000</td>\n",
       "      <td>1.000000</td>\n",
       "      <td>2.000000</td>\n",
       "      <td>0.000000</td>\n",
       "    </tr>\n",
       "    <tr>\n",
       "      <th>75%</th>\n",
       "      <td>82000.000000</td>\n",
       "      <td>6360.000000</td>\n",
       "      <td>3.000000</td>\n",
       "      <td>2.000000</td>\n",
       "      <td>2.000000</td>\n",
       "      <td>1.000000</td>\n",
       "    </tr>\n",
       "    <tr>\n",
       "      <th>max</th>\n",
       "      <td>190000.000000</td>\n",
       "      <td>16200.000000</td>\n",
       "      <td>6.000000</td>\n",
       "      <td>4.000000</td>\n",
       "      <td>4.000000</td>\n",
       "      <td>3.000000</td>\n",
       "    </tr>\n",
       "  </tbody>\n",
       "</table>\n",
       "</div>"
      ]
     },
     "execution_count": 6,
     "metadata": {},
     "output_type": "execute_result"
    }
   ],
   "execution_count": 6
  },
  {
   "cell_type": "markdown",
   "id": "de28c5f2",
   "metadata": {},
   "source": [
    "ii.\tWhat is the percentage of houses in the data with Driveway, Gas-Heat and Air-conditioning present?  (Hint: find the mean after creating dummy variables with driveway, gasheat, and aircon variables respectively)."
   ]
  },
  {
   "metadata": {
    "ExecuteTime": {
     "end_time": "2025-02-15T16:43:02.024617Z",
     "start_time": "2025-02-15T16:43:02.014837Z"
    }
   },
   "cell_type": "code",
   "source": [
    "adv_length = len(adv)\n",
    "adv_filtered_df = adv[(adv['driveway'] == 'yes') & (adv['aircon'] == 'yes') & (adv['gasheat'] == 'yes')]\n",
    "adv_filtered_df_len = len(adv_filtered_df)\n",
    "adv_percentage = (adv_filtered_df_len / adv_length) * 100\n",
    "adv_percentage_rounded = round(adv_percentage, 2)\n",
    "print(f'The percentage is {adv_percentage_rounded} ')\n",
    "#print(adv)"
   ],
   "id": "c2dc9a51d9bed2e0",
   "outputs": [
    {
     "name": "stdout",
     "output_type": "stream",
     "text": [
      "The percentage is 0.18 \n"
     ]
    }
   ],
   "execution_count": 3
  },
  {
   "cell_type": "markdown",
   "id": "d438085e",
   "metadata": {},
   "source": "iii.\tConstruct a linear regression model to test whether number of bedrooms influence house prices.  Provide a summary of the linear regression model using summary() function.  \t\t\t(5 points)"
  },
  {
   "cell_type": "code",
   "id": "210335c0",
   "metadata": {
    "ExecuteTime": {
     "end_time": "2025-02-15T16:44:21.678820Z",
     "start_time": "2025-02-15T16:44:21.662246Z"
    }
   },
   "source": [
    "X = sm.add_constant(adv['bedrooms']) \n",
    "model = sm.OLS(adv['price'], X).fit()\n",
    "print(model.summary())"
   ],
   "outputs": [
    {
     "name": "stdout",
     "output_type": "stream",
     "text": [
      "                            OLS Regression Results                            \n",
      "==============================================================================\n",
      "Dep. Variable:                  price   R-squared:                       0.134\n",
      "Model:                            OLS   Adj. R-squared:                  0.133\n",
      "Method:                 Least Squares   F-statistic:                     84.38\n",
      "Date:                Sat, 15 Feb 2025   Prob (F-statistic):           8.53e-19\n",
      "Time:                        11:44:21   Log-Likelihood:                -6300.0\n",
      "No. Observations:                 546   AIC:                         1.260e+04\n",
      "Df Residuals:                     544   BIC:                         1.261e+04\n",
      "Df Model:                           1                                         \n",
      "Covariance Type:            nonrobust                                         \n",
      "==============================================================================\n",
      "                 coef    std err          t      P>|t|      [0.025      0.975]\n",
      "------------------------------------------------------------------------------\n",
      "const       2.877e+04   4413.753      6.519      0.000    2.01e+04    3.74e+04\n",
      "bedrooms    1.327e+04   1444.598      9.186      0.000    1.04e+04    1.61e+04\n",
      "==============================================================================\n",
      "Omnibus:                       91.631   Durbin-Watson:                   0.812\n",
      "Prob(Omnibus):                  0.000   Jarque-Bera (JB):              162.283\n",
      "Skew:                           0.994   Prob(JB):                     5.76e-36\n",
      "Kurtosis:                       4.784   Cond. No.                         14.0\n",
      "==============================================================================\n",
      "\n",
      "Notes:\n",
      "[1] Standard Errors assume that the covariance matrix of the errors is correctly specified.\n"
     ]
    }
   ],
   "execution_count": 4
  },
  {
   "cell_type": "markdown",
   "id": "15e67ac0",
   "metadata": {},
   "source": [
    "iv.\tConstruct a multiple linear regression model by including all variables as predictors of house prices (response variable) and observe the effect on the house prices. Provide a summary of the regression model using summary() function.  (5 points)"
   ]
  },
  {
   "cell_type": "code",
   "id": "55bc3423",
   "metadata": {
    "ExecuteTime": {
     "end_time": "2025-02-15T16:44:25.713075Z",
     "start_time": "2025-02-15T16:44:25.686990Z"
    }
   },
   "source": [
    "def map_function(x):\n",
    "    return 1 if x else 0\n",
    "\n",
    "columns_to_convert = ['driveway', 'recreation', 'fullbase', 'gasheat', 'aircon', 'prefer']\n",
    "adv2 = adv\n",
    "adv2[columns_to_convert] = adv2[columns_to_convert].map(map_function)\n",
    "\n",
    "X = sm.add_constant(adv[['lotsize', 'bedrooms', 'bathrooms', 'stories', 'driveway', 'recreation', 'fullbase', 'gasheat', 'aircon', 'garage', 'prefer']])\n",
    "model = sm.OLS(adv['price'], X).fit()\n",
    "print(model.summary())"
   ],
   "outputs": [
    {
     "name": "stdout",
     "output_type": "stream",
     "text": [
      "                            OLS Regression Results                            \n",
      "==============================================================================\n",
      "Dep. Variable:                  price   R-squared:                       0.561\n",
      "Model:                            OLS   Adj. R-squared:                  0.557\n",
      "Method:                 Least Squares   F-statistic:                     138.2\n",
      "Date:                Sat, 15 Feb 2025   Prob (F-statistic):           3.38e-94\n",
      "Time:                        11:44:25   Log-Likelihood:                -6114.4\n",
      "No. Observations:                 546   AIC:                         1.224e+04\n",
      "Df Residuals:                     540   BIC:                         1.227e+04\n",
      "Df Model:                           5                                         \n",
      "Covariance Type:            nonrobust                                         \n",
      "==============================================================================\n",
      "                 coef    std err          t      P>|t|      [0.025      0.975]\n",
      "------------------------------------------------------------------------------\n",
      "lotsize        4.7334      0.380     12.462      0.000       3.987       5.480\n",
      "bedrooms    2388.4877   1184.232      2.017      0.044      62.222    4714.754\n",
      "bathrooms   1.615e+04   1695.695      9.523      0.000    1.28e+04    1.95e+04\n",
      "stories     7879.4411    981.463      8.028      0.000    5951.487    9807.395\n",
      "driveway    -343.9400    586.981     -0.586      0.558   -1496.986     809.106\n",
      "recreation  -343.9400    586.981     -0.586      0.558   -1496.986     809.106\n",
      "fullbase    -343.9400    586.981     -0.586      0.558   -1496.986     809.106\n",
      "gasheat     -343.9400    586.981     -0.586      0.558   -1496.986     809.106\n",
      "aircon      -343.9400    586.981     -0.586      0.558   -1496.986     809.106\n",
      "garage      5371.9533    953.520      5.634      0.000    3498.890    7245.017\n",
      "prefer      -343.9400    586.981     -0.586      0.558   -1496.986     809.106\n",
      "==============================================================================\n",
      "Omnibus:                       69.054   Durbin-Watson:                   1.534\n",
      "Prob(Omnibus):                  0.000   Jarque-Bera (JB):              149.357\n",
      "Skew:                           0.703   Prob(JB):                     3.69e-33\n",
      "Kurtosis:                       5.143   Cond. No.                     3.41e+36\n",
      "==============================================================================\n",
      "\n",
      "Notes:\n",
      "[1] Standard Errors assume that the covariance matrix of the errors is correctly specified.\n",
      "[2] The smallest eigenvalue is 1.46e-63. This might indicate that there are\n",
      "strong multicollinearity problems or that the design matrix is singular.\n"
     ]
    }
   ],
   "execution_count": 5
  },
  {
   "cell_type": "markdown",
   "id": "09442650",
   "metadata": {},
   "source": [
    "Part 2: \t\t(20 points)\n",
    "Use the Credit data to perform the following tests using Linear Regression settings:\n",
    "A.\tPerform the following steps: \t(5 points) \n",
    "i.\tObserve the dimension of the Credit data.\t(1 points)\t\n",
    "ii.\tProvide a summary stat for the variables in Credit data.\t\t(1 points)\n",
    "iii.\tWhat is the percentage of Student in the Credit data? What is the percentage of Female in the Credit data? What is the percentage of Student who are Female in the Credit data?\t(3 points)\n"
   ]
  },
  {
   "cell_type": "code",
   "id": "9f5e6569",
   "metadata": {
    "ExecuteTime": {
     "end_time": "2025-02-15T17:22:01.884500Z",
     "start_time": "2025-02-15T17:22:01.804280Z"
    }
   },
   "source": [
    "df = pd.read_csv(r\"Credit.csv\")\n",
    "print(df.shape)\n",
    "print(df.describe())\n",
    "studentpct = (df['Student'] == 'Yes').sum()/400\n",
    "print(\"the percentage of students is:\",studentpct)\n",
    "femalepct = (df['Gender'] == 'Female').sum()/400\n",
    "print (\"The percent of users identifying as female is:\", femalepct)"
   ],
   "outputs": [
    {
     "name": "stdout",
     "output_type": "stream",
     "text": [
      "(400, 12)\n",
      "       Unnamed: 0      Income         Limit      Rating       Cards  \\\n",
      "count  400.000000  400.000000    400.000000  400.000000  400.000000   \n",
      "mean   200.500000   45.218885   4735.600000  354.940000    2.957500   \n",
      "std    115.614301   35.244273   2308.198848  154.724143    1.371275   \n",
      "min      1.000000   10.354000    855.000000   93.000000    1.000000   \n",
      "25%    100.750000   21.007250   3088.000000  247.250000    2.000000   \n",
      "50%    200.500000   33.115500   4622.500000  344.000000    3.000000   \n",
      "75%    300.250000   57.470750   5872.750000  437.250000    4.000000   \n",
      "max    400.000000  186.634000  13913.000000  982.000000    9.000000   \n",
      "\n",
      "              Age   Education      Balance  \n",
      "count  400.000000  400.000000   400.000000  \n",
      "mean    55.667500   13.450000   520.015000  \n",
      "std     17.249807    3.125207   459.758877  \n",
      "min     23.000000    5.000000     0.000000  \n",
      "25%     41.750000   11.000000    68.750000  \n",
      "50%     56.000000   14.000000   459.500000  \n",
      "75%     70.000000   16.000000   863.000000  \n",
      "max     98.000000   20.000000  1999.000000  \n",
      "the percentage of students is: 0.1\n",
      "The percent of users identifying as female is: 0.5175\n"
     ]
    }
   ],
   "execution_count": 4
  },
  {
   "cell_type": "markdown",
   "id": "698a28fd",
   "metadata": {},
   "source": [
    "B.\tConstruct a linear regression model to test the following: \t(15 points)\n",
    "\n",
    "Test how Credit Rating and Student effect Credit Card Balance. In the same model, also test whether the effect of Credit Rating on Credit Card Balance is different for students vs. non-students.\n",
    "\n",
    "Provide a summary of the model. \n"
   ]
  },
  {
   "cell_type": "code",
   "execution_count": null,
   "id": "091c2802",
   "metadata": {},
   "outputs": [],
   "source": []
  },
  {
   "cell_type": "markdown",
   "id": "8de0c038",
   "metadata": {},
   "source": [
    "Part 3: \t\t(20 points)\n",
    "Use the Credit data to perform the following tests using Linear Regression settings: Online quiz will be based on the results of the regressions performed below.\n"
   ]
  },
  {
   "cell_type": "markdown",
   "id": "34676672",
   "metadata": {},
   "source": [
    "i.\tTest whether Age influence Credit Card Balance on the basis of simple linear regression.\n",
    "(Provide a summary of the model).  (2 points)\n"
   ]
  },
  {
   "cell_type": "code",
   "id": "5d580ede",
   "metadata": {
    "ExecuteTime": {
     "end_time": "2025-02-15T17:22:38.310353Z",
     "start_time": "2025-02-15T17:22:38.291235Z"
    }
   },
   "source": [
    "df = pd.read_csv(r\"Credit.csv\")\n",
    "df.head()\n"
   ],
   "outputs": [
    {
     "data": {
      "text/plain": [
       "   Unnamed: 0   Income  Limit  Rating  Cards  Age  Education  Gender Student  \\\n",
       "0           1   14.891   3606     283      2   34         11    Male      No   \n",
       "1           2  106.025   6645     483      3   82         15  Female     Yes   \n",
       "2           3  104.593   7075     514      4   71         11    Male      No   \n",
       "3           4  148.924   9504     681      3   36         11  Female      No   \n",
       "4           5   55.882   4897     357      2   68         16    Male      No   \n",
       "\n",
       "  Married  Ethnicity  Balance  \n",
       "0     Yes  Caucasian      333  \n",
       "1     Yes      Asian      903  \n",
       "2      No      Asian      580  \n",
       "3      No      Asian      964  \n",
       "4     Yes  Caucasian      331  "
      ],
      "text/html": [
       "<div>\n",
       "<style scoped>\n",
       "    .dataframe tbody tr th:only-of-type {\n",
       "        vertical-align: middle;\n",
       "    }\n",
       "\n",
       "    .dataframe tbody tr th {\n",
       "        vertical-align: top;\n",
       "    }\n",
       "\n",
       "    .dataframe thead th {\n",
       "        text-align: right;\n",
       "    }\n",
       "</style>\n",
       "<table border=\"1\" class=\"dataframe\">\n",
       "  <thead>\n",
       "    <tr style=\"text-align: right;\">\n",
       "      <th></th>\n",
       "      <th>Unnamed: 0</th>\n",
       "      <th>Income</th>\n",
       "      <th>Limit</th>\n",
       "      <th>Rating</th>\n",
       "      <th>Cards</th>\n",
       "      <th>Age</th>\n",
       "      <th>Education</th>\n",
       "      <th>Gender</th>\n",
       "      <th>Student</th>\n",
       "      <th>Married</th>\n",
       "      <th>Ethnicity</th>\n",
       "      <th>Balance</th>\n",
       "    </tr>\n",
       "  </thead>\n",
       "  <tbody>\n",
       "    <tr>\n",
       "      <th>0</th>\n",
       "      <td>1</td>\n",
       "      <td>14.891</td>\n",
       "      <td>3606</td>\n",
       "      <td>283</td>\n",
       "      <td>2</td>\n",
       "      <td>34</td>\n",
       "      <td>11</td>\n",
       "      <td>Male</td>\n",
       "      <td>No</td>\n",
       "      <td>Yes</td>\n",
       "      <td>Caucasian</td>\n",
       "      <td>333</td>\n",
       "    </tr>\n",
       "    <tr>\n",
       "      <th>1</th>\n",
       "      <td>2</td>\n",
       "      <td>106.025</td>\n",
       "      <td>6645</td>\n",
       "      <td>483</td>\n",
       "      <td>3</td>\n",
       "      <td>82</td>\n",
       "      <td>15</td>\n",
       "      <td>Female</td>\n",
       "      <td>Yes</td>\n",
       "      <td>Yes</td>\n",
       "      <td>Asian</td>\n",
       "      <td>903</td>\n",
       "    </tr>\n",
       "    <tr>\n",
       "      <th>2</th>\n",
       "      <td>3</td>\n",
       "      <td>104.593</td>\n",
       "      <td>7075</td>\n",
       "      <td>514</td>\n",
       "      <td>4</td>\n",
       "      <td>71</td>\n",
       "      <td>11</td>\n",
       "      <td>Male</td>\n",
       "      <td>No</td>\n",
       "      <td>No</td>\n",
       "      <td>Asian</td>\n",
       "      <td>580</td>\n",
       "    </tr>\n",
       "    <tr>\n",
       "      <th>3</th>\n",
       "      <td>4</td>\n",
       "      <td>148.924</td>\n",
       "      <td>9504</td>\n",
       "      <td>681</td>\n",
       "      <td>3</td>\n",
       "      <td>36</td>\n",
       "      <td>11</td>\n",
       "      <td>Female</td>\n",
       "      <td>No</td>\n",
       "      <td>No</td>\n",
       "      <td>Asian</td>\n",
       "      <td>964</td>\n",
       "    </tr>\n",
       "    <tr>\n",
       "      <th>4</th>\n",
       "      <td>5</td>\n",
       "      <td>55.882</td>\n",
       "      <td>4897</td>\n",
       "      <td>357</td>\n",
       "      <td>2</td>\n",
       "      <td>68</td>\n",
       "      <td>16</td>\n",
       "      <td>Male</td>\n",
       "      <td>No</td>\n",
       "      <td>Yes</td>\n",
       "      <td>Caucasian</td>\n",
       "      <td>331</td>\n",
       "    </tr>\n",
       "  </tbody>\n",
       "</table>\n",
       "</div>"
      ]
     },
     "execution_count": 5,
     "metadata": {},
     "output_type": "execute_result"
    }
   ],
   "execution_count": 5
  },
  {
   "cell_type": "markdown",
   "id": "bfb72085",
   "metadata": {},
   "source": [
    "ii.\tUse Age and Credit Rating as predictors of Credit Card Balance (response variable) in a multiple linear regression setting. (Provide a summary of the model). (2 points)  \n",
    "\n"
   ]
  },
  {
   "cell_type": "code",
   "execution_count": null,
   "id": "c1a59e74",
   "metadata": {},
   "outputs": [],
   "source": []
  },
  {
   "cell_type": "markdown",
   "id": "9d473b2c",
   "metadata": {},
   "source": [
    "iii.\tCompare effect of Age from part (i) and (ii): Write the explanation for part (iii) in Python code. (10 points)\n",
    "\n"
   ]
  },
  {
   "cell_type": "code",
   "execution_count": null,
   "id": "60397fec",
   "metadata": {},
   "outputs": [],
   "source": []
  },
  {
   "cell_type": "markdown",
   "id": "ea7a0209",
   "metadata": {},
   "source": [
    "iv.\tObserve the distribution of Age. Construct 3 dummy variables based on Age distribution: (6 points)\n",
    "1. Age 40 and below (Age=<40)\n",
    "2. Age Between 41 to 56 (41=<Age<=56)\n",
    "3. Age group over 56 (Age>56)\n",
    "\n",
    "Construct model to observe whether credit card balance is significantly different for different age group. Consider the age group over 56 as the baseline. \n"
   ]
  },
  {
   "cell_type": "code",
   "execution_count": null,
   "id": "ad7ff9f6",
   "metadata": {},
   "outputs": [],
   "source": []
  },
  {
   "cell_type": "markdown",
   "id": "8daeac40",
   "metadata": {},
   "source": [
    "Part 4: \t\t(40 points)\n",
    "i.\tDownload monthly price data of S&P500 and a stock of your choice for the period 01/01/2005 to 12/31/2019 (or any fifteen year period)   \t\t\t\t\t(2 points)\n"
   ]
  },
  {
   "cell_type": "code",
   "id": "178aa7a9",
   "metadata": {
    "ExecuteTime": {
     "end_time": "2025-02-17T02:12:29.752258Z",
     "start_time": "2025-02-17T02:12:29.702638Z"
    }
   },
   "source": [
    "sp500_df = yf.download(tickers='^GSPC', start=\"2005-01-01\", end=\"2019-12-31\", interval=\"1mo\")\n",
    "apple_df = yf.download(tickers='AAPL', start=\"2005-01-01\", end=\"2019-12-31\", interval=\"1mo\")"
   ],
   "outputs": [
    {
     "name": "stderr",
     "output_type": "stream",
     "text": [
      "[*********************100%***********************]  1 of 1 completed\n",
      "[*********************100%***********************]  1 of 1 completed\n"
     ]
    }
   ],
   "execution_count": 133
  },
  {
   "cell_type": "markdown",
   "id": "e0206dd8",
   "metadata": {},
   "source": "ii.\tCompute the monthly returns for the S&P 500 and the stock. Construct one data frame to store the return series. (2 points)"
  },
  {
   "metadata": {
    "ExecuteTime": {
     "end_time": "2025-02-17T02:12:33.962264Z",
     "start_time": "2025-02-17T02:12:33.947534Z"
    }
   },
   "cell_type": "code",
   "source": [
    "sp500_df = sp500_df['Close'].pct_change()\n",
    "apple_df = apple_df['Close'].pct_change()\n",
    "\n",
    "df = pd.concat([sp500_df, apple_df], axis=1)\n",
    "print(df)\n"
   ],
   "id": "872aa4049272fd1",
   "outputs": [
    {
     "name": "stdout",
     "output_type": "stream",
     "text": [
      "Ticker         ^GSPC      AAPL\n",
      "Date                          \n",
      "2005-01-01       NaN       NaN\n",
      "2005-02-01  0.018903  0.166711\n",
      "2005-03-01 -0.019118 -0.071110\n",
      "2005-04-01 -0.020109 -0.134629\n",
      "2005-05-01  0.029952  0.102607\n",
      "...              ...       ...\n",
      "2019-08-01 -0.018092 -0.020184\n",
      "2019-09-01  0.017181  0.077039\n",
      "2019-10-01  0.020432  0.110684\n",
      "2019-11-01  0.034047  0.074328\n",
      "2019-12-01  0.028590  0.102083\n",
      "\n",
      "[180 rows x 2 columns]\n"
     ]
    }
   ],
   "execution_count": 134
  },
  {
   "metadata": {},
   "cell_type": "markdown",
   "source": "iii.\tConstruct summary statistics, histogram, correlation matrix of the return series. ",
   "id": "62a57ef10743d818"
  },
  {
   "metadata": {
    "ExecuteTime": {
     "end_time": "2025-02-17T02:12:37.716871Z",
     "start_time": "2025-02-17T02:12:37.349639Z"
    }
   },
   "cell_type": "code",
   "source": [
    "summary_stats = df.describe()\n",
    "print(summary_stats)\n",
    "\n",
    "# Plot histograms\n",
    "plt.figure(figsize=(10, 5))\n",
    "\n",
    "plt.subplot(1, 2, 1)\n",
    "plt.hist(df['^GSPC'].dropna(), bins=20, edgecolor='k', alpha=0.7)\n",
    "plt.title('S&P 500 Monthly Returns')\n",
    "plt.xlabel('Return')\n",
    "plt.ylabel('Frequency')\n",
    "\n",
    "plt.subplot(1, 2, 2)\n",
    "plt.hist(df['AAPL'].dropna(), bins=20, edgecolor='k', alpha=0.7)\n",
    "plt.title('Apple Monthly Returns')\n",
    "plt.xlabel('Return')\n",
    "plt.ylabel('Frequency')\n",
    "\n",
    "plt.tight_layout()\n",
    "plt.show()\n",
    "\n",
    "# Correlation matrix\n",
    "correlation_matrix = df.corr()\n",
    "print(\"Correlation Matrix:\")\n",
    "print(correlation_matrix)\n",
    "\n",
    "# Plot correlation matrix\n",
    "sns.heatmap(correlation_matrix, annot=True, cmap='coolwarm')\n",
    "plt.title('Correlation Matrix of S&P 500 and Apple Monthly Returns')\n",
    "plt.show()"
   ],
   "id": "ce219a34df8aa83e",
   "outputs": [
    {
     "name": "stdout",
     "output_type": "stream",
     "text": [
      "Ticker       ^GSPC        AAPL\n",
      "count   179.000000  179.000000\n",
      "mean      0.006443    0.027531\n",
      "std       0.039905    0.091430\n",
      "min      -0.169425   -0.329558\n",
      "25%      -0.015040   -0.023398\n",
      "50%       0.011576    0.033790\n",
      "75%       0.029851    0.086060\n",
      "max       0.107723    0.237701\n"
     ]
    },
    {
     "data": {
      "text/plain": [
       "<Figure size 1000x500 with 2 Axes>"
      ],
      "image/png": "[encoded data removed]"
     },
     "metadata": {},
     "output_type": "display_data"
    },
    {
     "name": "stdout",
     "output_type": "stream",
     "text": [
      "Correlation Matrix:\n",
      "Ticker     ^GSPC      AAPL\n",
      "Ticker                    \n",
      "^GSPC   1.000000  0.549309\n",
      "AAPL    0.549309  1.000000\n"
     ]
    },
    {
     "data": {
      "text/plain": [
       "<Figure size 640x480 with 2 Axes>"
      ],
      "image/png": "[encoded data removed]"
     },
     "metadata": {},
     "output_type": "display_data"
    }
   ],
   "execution_count": 135
  },
  {
   "metadata": {},
   "cell_type": "markdown",
   "source": "iv.\tDownload 3 month TBill rate from Fred. Consider the TBill data  for the same sample period 01/01/2005 to 12/31/2019 (or any fifteen year period that you have chosen) . (7 points)",
   "id": "ff451e3fe4180f0b"
  },
  {
   "metadata": {},
   "cell_type": "markdown",
   "source": "",
   "id": "cfe0a2ac34953769"
  },
  {
   "metadata": {
    "ExecuteTime": {
     "end_time": "2025-02-17T20:58:05.411777Z",
     "start_time": "2025-02-17T20:58:04.245445Z"
    }
   },
   "cell_type": "code",
   "source": [
    "fred_api_key = '91f5a783ac7a912b0ccb8839abe17117'\n",
    "fred = fredapi.Fred(fred_api_key)\n",
    "\n",
    "t_bill = fred.get_series(series_id='DTB3', observation_start='2005-01-01', observation_end='2019-12-31')\n",
    "tbill_df = pd.DataFrame(t_bill, columns=['TBill Rate'])\n",
    "tbill_df['TBill Rate'] = tbill_df['TBill Rate'] / 100\n",
    "tbill_df['Monthly Rate'] = tbill_df['TBill Rate'] / 12\n",
    "print(tbill_df.head())"
   ],
   "id": "c4640a9e8e025346",
   "outputs": [
    {
     "name": "stdout",
     "output_type": "stream",
     "text": [
      "            TBill Rate  Monthly Rate\n",
      "2005-01-03      0.0229      0.001908\n",
      "2005-01-04      0.0230      0.001917\n",
      "2005-01-05      0.0229      0.001908\n",
      "2005-01-06      0.0227      0.001892\n",
      "2005-01-07      0.0228      0.001900\n"
     ]
    }
   ],
   "execution_count": 157
  },
  {
   "metadata": {},
   "cell_type": "markdown",
   "source": "v.\tConstruct a matrix of return series combining Stock, S&P500, and TBill for the sample period. Construct return series with columns of excess returns of the stock (Stock return – TBill) and S&P500 (S&P500 return – Tbill)",
   "id": "e4b9a9a4b72e912b"
  },
  {
   "metadata": {
    "ExecuteTime": {
     "end_time": "2025-02-17T20:58:35.655929Z",
     "start_time": "2025-02-17T20:58:33.777356Z"
    }
   },
   "cell_type": "code",
   "source": [
    "#df.rename(columns={'AAPL': 'Apple', '^GSPC': 'S&P 500'}, inplace=True)\n",
    "tbill = t_bill.resample('ME').mean() / 100\n",
    "df = df.resample('ME').mean()\n",
    "df['T-Bill'] = tbill\n",
    "print(df)\n",
    "\n",
    "df['Excess Return AAPL'] = df['AAPL'] - df['T-Bill']\n",
    "df['Excess Return S&P 500'] = df['^GSPC'] - df['T-Bill']\n",
    "\n",
    "print(\"Matrix of Return Series with Excess Returns:\")\n",
    "print(df)\n",
    "\n",
    "# Summary statistics\n",
    "summary_statistics = df.describe()\n",
    "print(\"Summary Statistics:\")\n",
    "print(summary_statistics)\n",
    "\n",
    "# Plot histograms\n",
    "plt.figure(figsize=(15, 10))\n",
    "\n",
    "for i, column in enumerate(df.columns[:3]):\n",
    "    plt.subplot(2, 2, i + 1)\n",
    "    plt.hist(df[column].dropna(), bins=20, edgecolor='k', alpha=0.7)\n",
    "    if column == '^GSPC':\n",
    "        column = 'S&P 500'\n",
    "    plt.title(f'{column} Monthly Returns')\n",
    "    plt.xlabel('Return')\n",
    "    plt.ylabel('Frequency')\n",
    "\n",
    "plt.tight_layout()\n",
    "plt.show()\n",
    "\n",
    "# Correlation matrix\n",
    "correlation_matrix = df.corr()\n",
    "print(\"Correlation Matrix:\")\n",
    "print(correlation_matrix)\n",
    "\n",
    "# Plot correlation matrix\n",
    "sns.heatmap(correlation_matrix, annot=True, cmap='coolwarm')\n",
    "plt.title('Correlation Matrix of Monthly Returns')\n",
    "plt.show()"
   ],
   "id": "4bdb4ad401162fb9",
   "outputs": [
    {
     "name": "stdout",
     "output_type": "stream",
     "text": [
      "Ticker         ^GSPC      AAPL    T-Bill  Excess Return AAPL  \\\n",
      "Date                                                           \n",
      "2005-02-28  0.018903  0.166711  0.025389            0.141311   \n",
      "2005-03-31 -0.019118 -0.071110  0.027386           -0.098510   \n",
      "2005-04-30 -0.020109 -0.134629  0.027810           -0.162429   \n",
      "2005-05-31  0.029952  0.102607  0.028414            0.074207   \n",
      "2005-06-30 -0.000143 -0.074195  0.029727           -0.103895   \n",
      "...              ...       ...       ...                 ...   \n",
      "2019-08-31 -0.018092 -0.020184  0.019495           -0.039684   \n",
      "2019-09-30  0.017181  0.077039  0.018945            0.058139   \n",
      "2019-10-31  0.020432  0.110684  0.016468            0.094184   \n",
      "2019-11-30  0.034047  0.074328  0.015421            0.058928   \n",
      "2019-12-31  0.028590  0.102083  0.015352            0.086683   \n",
      "\n",
      "Ticker      Excess Return S&P 500  \n",
      "Date                               \n",
      "2005-02-28              -0.006497  \n",
      "2005-03-31              -0.046518  \n",
      "2005-04-30              -0.047909  \n",
      "2005-05-31               0.001552  \n",
      "2005-06-30              -0.029843  \n",
      "...                           ...  \n",
      "2019-08-31              -0.037592  \n",
      "2019-09-30              -0.001719  \n",
      "2019-10-31               0.003932  \n",
      "2019-11-30               0.018647  \n",
      "2019-12-31               0.013190  \n",
      "\n",
      "[179 rows x 5 columns]\n",
      "Matrix of Return Series with Excess Returns:\n",
      "Ticker         ^GSPC      AAPL    T-Bill  Excess Return AAPL  \\\n",
      "Date                                                           \n",
      "2005-02-28  0.018903  0.166711  0.025389            0.141321   \n",
      "2005-03-31 -0.019118 -0.071110  0.027386           -0.098497   \n",
      "2005-04-30 -0.020109 -0.134629  0.027810           -0.162438   \n",
      "2005-05-31  0.029952  0.102607  0.028414            0.074192   \n",
      "2005-06-30 -0.000143 -0.074195  0.029727           -0.103922   \n",
      "...              ...       ...       ...                 ...   \n",
      "2019-08-31 -0.018092 -0.020184  0.019495           -0.039680   \n",
      "2019-09-30  0.017181  0.077039  0.018945            0.058094   \n",
      "2019-10-31  0.020432  0.110684  0.016468            0.094216   \n",
      "2019-11-30  0.034047  0.074328  0.015421            0.058907   \n",
      "2019-12-31  0.028590  0.102083  0.015352            0.086731   \n",
      "\n",
      "Ticker      Excess Return S&P 500  \n",
      "Date                               \n",
      "2005-02-28              -0.006486  \n",
      "2005-03-31              -0.046504  \n",
      "2005-04-30              -0.047918  \n",
      "2005-05-31               0.001538  \n",
      "2005-06-30              -0.029870  \n",
      "...                           ...  \n",
      "2019-08-31              -0.037587  \n",
      "2019-09-30              -0.001764  \n",
      "2019-10-31               0.003964  \n",
      "2019-11-30               0.018626  \n",
      "2019-12-31               0.013237  \n",
      "\n",
      "[179 rows x 5 columns]\n",
      "Summary Statistics:\n",
      "Ticker       ^GSPC        AAPL      T-Bill  Excess Return AAPL  \\\n",
      "count   179.000000  179.000000  179.000000          179.000000   \n",
      "mean      0.006443    0.027531    0.012883            0.014648   \n",
      "std       0.039905    0.091430    0.016100            0.091593   \n",
      "min      -0.169425   -0.329558    0.000114           -0.344173   \n",
      "25%      -0.015040   -0.023398    0.000710           -0.033303   \n",
      "50%       0.011576    0.033790    0.002919            0.022033   \n",
      "75%       0.029851    0.086060    0.021484            0.072121   \n",
      "max       0.107723    0.237701    0.050268            0.199259   \n",
      "\n",
      "Ticker  Excess Return S&P 500  \n",
      "count              179.000000  \n",
      "mean                -0.006440  \n",
      "std                  0.043491  \n",
      "min                 -0.176170  \n",
      "25%                 -0.031525  \n",
      "50%                 -0.003720  \n",
      "75%                  0.019871  \n",
      "max                  0.107533  \n"
     ]
    },
    {
     "data": {
      "text/plain": [
       "<Figure size 1500x1000 with 3 Axes>"
      ],
      "image/png": "[encoded data removed]"
     },
     "metadata": {},
     "output_type": "display_data"
    },
    {
     "name": "stdout",
     "output_type": "stream",
     "text": [
      "Correlation Matrix:\n",
      "Ticker                    ^GSPC      AAPL    T-Bill  Excess Return AAPL  \\\n",
      "Ticker                                                                    \n",
      "^GSPC                  1.000000  0.549309 -0.031004            0.553778   \n",
      "AAPL                   0.549309  1.000000  0.077883            0.984525   \n",
      "T-Bill                -0.031004  0.077883  1.000000           -0.098037   \n",
      "Excess Return AAPL     0.553778  0.984525 -0.098037            1.000000   \n",
      "Excess Return S&P 500  0.929022  0.475183 -0.398650            0.544410   \n",
      "\n",
      "Ticker                 Excess Return S&P 500  \n",
      "Ticker                                        \n",
      "^GSPC                               0.929022  \n",
      "AAPL                                0.475183  \n",
      "T-Bill                             -0.398650  \n",
      "Excess Return AAPL                  0.544410  \n",
      "Excess Return S&P 500               1.000000  \n"
     ]
    },
    {
     "data": {
      "text/plain": [
       "<Figure size 640x480 with 2 Axes>"
      ],
      "image/png": "[encoded data removed]"
     },
     "metadata": {},
     "output_type": "display_data"
    }
   ],
   "execution_count": 158
  },
  {
   "metadata": {},
   "cell_type": "markdown",
   "source": "vi.\tConstruct a linear regression model with the excess returns : stock excess return being the response variable and S&P500 excess return the predictor. (2 points)",
   "id": "a5639049ba8896d3"
  },
  {
   "metadata": {
    "ExecuteTime": {
     "end_time": "2025-02-17T02:15:43.370293Z",
     "start_time": "2025-02-17T02:15:43.333933Z"
    }
   },
   "cell_type": "code",
   "source": [
    "df = df.dropna()\n",
    "X = df['Excess Return S&P 500']\n",
    "y = df['Excess Return AAPL']\n",
    "X = sm.add_constant(X)\n",
    "\n",
    "model = sm.OLS(y, X).fit()\n",
    "print(model.summary())"
   ],
   "id": "7d5a0e81b0fccbd9",
   "outputs": [
    {
     "name": "stdout",
     "output_type": "stream",
     "text": [
      "                            OLS Regression Results                            \n",
      "==============================================================================\n",
      "Dep. Variable:     Excess Return AAPL   R-squared:                       0.296\n",
      "Model:                            OLS   Adj. R-squared:                  0.292\n",
      "Method:                 Least Squares   F-statistic:                     74.56\n",
      "Date:                Sun, 16 Feb 2025   Prob (F-statistic):           3.34e-15\n",
      "Time:                        21:15:43   Log-Likelihood:                 205.85\n",
      "No. Observations:                 179   AIC:                            -407.7\n",
      "Df Residuals:                     177   BIC:                            -401.3\n",
      "Df Model:                           1                                         \n",
      "Covariance Type:            nonrobust                                         \n",
      "=========================================================================================\n",
      "                            coef    std err          t      P>|t|      [0.025      0.975]\n",
      "-----------------------------------------------------------------------------------------\n",
      "const                     0.0220      0.006      3.784      0.000       0.011       0.034\n",
      "Excess Return S&P 500     1.1466      0.133      8.635      0.000       0.885       1.409\n",
      "==============================================================================\n",
      "Omnibus:                        9.468   Durbin-Watson:                   1.941\n",
      "Prob(Omnibus):                  0.009   Jarque-Bera (JB):               11.632\n",
      "Skew:                          -0.379   Prob(JB):                      0.00298\n",
      "Kurtosis:                       3.992   Cond. No.                         23.1\n",
      "==============================================================================\n",
      "\n",
      "Notes:\n",
      "[1] Standard Errors assume that the covariance matrix of the errors is correctly specified.\n"
     ]
    }
   ],
   "execution_count": 139
  },
  {
   "metadata": {},
   "cell_type": "markdown",
   "source": "vii.\tFind Beta for the stock based on the model constructed. Test the null hypothesis:                   ; what do you conclude? Draw your conclusion based on p-value.  \t\t\t\t\t\t\t\t\t(4 points)",
   "id": "43fc43a5b03ada44"
  },
  {
   "metadata": {
    "ExecuteTime": {
     "end_time": "2025-02-17T02:37:17.697712Z",
     "start_time": "2025-02-17T02:37:17.690604Z"
    }
   },
   "cell_type": "code",
   "source": [
    "beta = model.params['Excess Return S&P 500']\n",
    "p_value = model.pvalues['Excess Return S&P 500']\n",
    "\n",
    "print(f\"Beta (Excess Return S&P 500): {round(beta, 4)}\")\n",
    "print(f\"P-Value: {p_value}\")\n",
    "\n",
    "if p_value < 0.05:\n",
    "    conclusion = \"Reject the null hypothesis. The Beta is statistically significant.\"\n",
    "else:\n",
    "    conclusion = \"Fail to reject the null hypothesis. The Beta is not statistically significant.\"\n",
    "\n",
    "print(f\"Conclusion: {conclusion}\")"
   ],
   "id": "10f9534b5084165e",
   "outputs": [
    {
     "name": "stdout",
     "output_type": "stream",
     "text": [
      "Beta (Excess Return S&P 500): 1.1466\n",
      "P-Value: 3.3415652755284122e-15\n",
      "Conclusion: Reject the null hypothesis. The Beta is statistically significant.\n"
     ]
    }
   ],
   "execution_count": 146
  },
  {
   "metadata": {},
   "cell_type": "markdown",
   "source": "viii.\tObtain beta of the stock from available stock report (refer the financial website that you choose).  Discuss why these two measures are same or different.\t\t\t\t\t(2 points)  ",
   "id": "69df67f2f5a1ad5e"
  },
  {
   "metadata": {},
   "cell_type": "markdown",
   "source": [
    "Reponse: \n",
    "https://finance.yahoo.com/quote/AAPL/key-statistics/?form=MG0AV3#:~:text=Stock%20Price%20History-,Beta%20(5Y%20Monthly),-1.20 \n",
    "\n",
    "Referencing the above URL, the most logical reason would be:\n",
    "1. Yahoo Finance is using a 5-year range compared to the 15-year range we are using. As a result we have more data points to work with to make a more logical decision on the volatility of Apple's stock compared to the overall market. "
   ],
   "id": "2c82a690e85f1fc9"
  }
 ],
 "metadata": {
  "kernelspec": {
   "display_name": "Python 3 (ipykernel)",
   "language": "python",
   "name": "python3"
  },
  "language_info": {
   "codemirror_mode": {
    "name": "ipython",
    "version": 3
   },
   "file_extension": ".py",
   "mimetype": "text/x-python",
   "name": "python",
   "nbconvert_exporter": "python",
   "pygments_lexer": "ipython3",
   "version": "3.12.4"
  }
 },
 "nbformat": 4,
 "nbformat_minor": 5
}
