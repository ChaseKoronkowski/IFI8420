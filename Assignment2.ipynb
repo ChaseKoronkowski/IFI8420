{
 "cells": [
  {
   "cell_type": "code",
   "execution_count": null,
   "id": "28ee17e2-054b-431c-a828-238df5edc669",
   "metadata": {},
   "outputs": [],
   "source": [
    "import pandas as pd\n",
    "import csv\n",
    "\n",
    "\n",
    "import numpy as np  \n",
    "import matplotlib.pyplot as plt  \n",
    "import seaborn as seabornInstance \n",
    "import statsmodels.api as sm\n",
    "\n",
    "import statsmodels.formula.api as smf\n",
    "\n",
    "\n",
    "from sklearn.model_selection import train_test_split \n",
    "from sklearn.linear_model import LinearRegression\n",
    "from sklearn import metrics"
   ]
  },
  {
   "cell_type": "code",
   "execution_count": null,
   "id": "61cafe45-e8f1-46e9-ab0e-6e37db597113",
   "metadata": {},
   "outputs": [
    {
     "data": {
      "text/html": [
       "<div>\n",
       "<style scoped>\n",
       "    .dataframe tbody tr th:only-of-type {\n",
       "        vertical-align: middle;\n",
       "    }\n",
       "\n",
       "    .dataframe tbody tr th {\n",
       "        vertical-align: top;\n",
       "    }\n",
       "\n",
       "    .dataframe thead th {\n",
       "        text-align: right;\n",
       "    }\n",
       "</style>\n",
       "<table border=\"1\" class=\"dataframe\">\n",
       "  <thead>\n",
       "    <tr style=\"text-align: right;\">\n",
       "      <th></th>\n",
       "      <th>price</th>\n",
       "      <th>lotsize</th>\n",
       "      <th>bedrooms</th>\n",
       "      <th>bathrooms</th>\n",
       "      <th>stories</th>\n",
       "      <th>driveway</th>\n",
       "      <th>recreation</th>\n",
       "      <th>fullbase</th>\n",
       "      <th>gasheat</th>\n",
       "      <th>aircon</th>\n",
       "      <th>garage</th>\n",
       "      <th>prefer</th>\n",
       "    </tr>\n",
       "  </thead>\n",
       "  <tbody>\n",
       "    <tr>\n",
       "      <th>0</th>\n",
       "      <td>42000.0</td>\n",
       "      <td>5850</td>\n",
       "      <td>3</td>\n",
       "      <td>1</td>\n",
       "      <td>2</td>\n",
       "      <td>yes</td>\n",
       "      <td>no</td>\n",
       "      <td>yes</td>\n",
       "      <td>no</td>\n",
       "      <td>no</td>\n",
       "      <td>1</td>\n",
       "      <td>no</td>\n",
       "    </tr>\n",
       "    <tr>\n",
       "      <th>1</th>\n",
       "      <td>38500.0</td>\n",
       "      <td>4000</td>\n",
       "      <td>2</td>\n",
       "      <td>1</td>\n",
       "      <td>1</td>\n",
       "      <td>yes</td>\n",
       "      <td>no</td>\n",
       "      <td>no</td>\n",
       "      <td>no</td>\n",
       "      <td>no</td>\n",
       "      <td>0</td>\n",
       "      <td>no</td>\n",
       "    </tr>\n",
       "    <tr>\n",
       "      <th>2</th>\n",
       "      <td>49500.0</td>\n",
       "      <td>3060</td>\n",
       "      <td>3</td>\n",
       "      <td>1</td>\n",
       "      <td>1</td>\n",
       "      <td>yes</td>\n",
       "      <td>no</td>\n",
       "      <td>no</td>\n",
       "      <td>no</td>\n",
       "      <td>no</td>\n",
       "      <td>0</td>\n",
       "      <td>no</td>\n",
       "    </tr>\n",
       "    <tr>\n",
       "      <th>3</th>\n",
       "      <td>60500.0</td>\n",
       "      <td>6650</td>\n",
       "      <td>3</td>\n",
       "      <td>1</td>\n",
       "      <td>2</td>\n",
       "      <td>yes</td>\n",
       "      <td>yes</td>\n",
       "      <td>no</td>\n",
       "      <td>no</td>\n",
       "      <td>no</td>\n",
       "      <td>0</td>\n",
       "      <td>no</td>\n",
       "    </tr>\n",
       "    <tr>\n",
       "      <th>4</th>\n",
       "      <td>61000.0</td>\n",
       "      <td>6360</td>\n",
       "      <td>2</td>\n",
       "      <td>1</td>\n",
       "      <td>1</td>\n",
       "      <td>yes</td>\n",
       "      <td>no</td>\n",
       "      <td>no</td>\n",
       "      <td>no</td>\n",
       "      <td>no</td>\n",
       "      <td>0</td>\n",
       "      <td>no</td>\n",
       "    </tr>\n",
       "  </tbody>\n",
       "</table>\n",
       "</div>"
      ],
      "text/plain": [
       "     price  lotsize  bedrooms  bathrooms  stories driveway recreation  \\\n",
       "0  42000.0     5850         3          1        2      yes         no   \n",
       "1  38500.0     4000         2          1        1      yes         no   \n",
       "2  49500.0     3060         3          1        1      yes         no   \n",
       "3  60500.0     6650         3          1        2      yes        yes   \n",
       "4  61000.0     6360         2          1        1      yes         no   \n",
       "\n",
       "  fullbase gasheat aircon  garage prefer  \n",
       "0      yes      no     no       1     no  \n",
       "1       no      no     no       0     no  \n",
       "2       no      no     no       0     no  \n",
       "3       no      no     no       0     no  \n",
       "4       no      no     no       0     no  "
      ]
     },
     "execution_count": 3,
     "metadata": {},
     "output_type": "execute_result"
    }
   ],
   "source": [
    "#read Houseprices data\n",
    "adv = pd.read_csv(r'/Users/silvanacardoza/Documents/IFI 8240/Assignment 2/HousePrices.csv')\n",
    "\n",
    "\n",
    "#view first 5 rows of the data\n",
    "adv[:5]"
   ]
  },
  {
   "cell_type": "code",
   "execution_count": 5,
   "id": "621426d3-0a19-4315-a314-3bf062051ad7",
   "metadata": {},
   "outputs": [
    {
     "data": {
      "text/html": [
       "<div>\n",
       "<style scoped>\n",
       "    .dataframe tbody tr th:only-of-type {\n",
       "        vertical-align: middle;\n",
       "    }\n",
       "\n",
       "    .dataframe tbody tr th {\n",
       "        vertical-align: top;\n",
       "    }\n",
       "\n",
       "    .dataframe thead th {\n",
       "        text-align: right;\n",
       "    }\n",
       "</style>\n",
       "<table border=\"1\" class=\"dataframe\">\n",
       "  <thead>\n",
       "    <tr style=\"text-align: right;\">\n",
       "      <th></th>\n",
       "      <th>price</th>\n",
       "      <th>lotsize</th>\n",
       "      <th>bedrooms</th>\n",
       "      <th>bathrooms</th>\n",
       "      <th>stories</th>\n",
       "      <th>driveway</th>\n",
       "      <th>recreation</th>\n",
       "      <th>fullbase</th>\n",
       "      <th>gasheat</th>\n",
       "      <th>aircon</th>\n",
       "      <th>garage</th>\n",
       "      <th>prefer</th>\n",
       "    </tr>\n",
       "  </thead>\n",
       "  <tbody>\n",
       "    <tr>\n",
       "      <th>0</th>\n",
       "      <td>42000.0</td>\n",
       "      <td>5850</td>\n",
       "      <td>3</td>\n",
       "      <td>1</td>\n",
       "      <td>2</td>\n",
       "      <td>yes</td>\n",
       "      <td>no</td>\n",
       "      <td>yes</td>\n",
       "      <td>no</td>\n",
       "      <td>no</td>\n",
       "      <td>1</td>\n",
       "      <td>no</td>\n",
       "    </tr>\n",
       "    <tr>\n",
       "      <th>1</th>\n",
       "      <td>38500.0</td>\n",
       "      <td>4000</td>\n",
       "      <td>2</td>\n",
       "      <td>1</td>\n",
       "      <td>1</td>\n",
       "      <td>yes</td>\n",
       "      <td>no</td>\n",
       "      <td>no</td>\n",
       "      <td>no</td>\n",
       "      <td>no</td>\n",
       "      <td>0</td>\n",
       "      <td>no</td>\n",
       "    </tr>\n",
       "    <tr>\n",
       "      <th>2</th>\n",
       "      <td>49500.0</td>\n",
       "      <td>3060</td>\n",
       "      <td>3</td>\n",
       "      <td>1</td>\n",
       "      <td>1</td>\n",
       "      <td>yes</td>\n",
       "      <td>no</td>\n",
       "      <td>no</td>\n",
       "      <td>no</td>\n",
       "      <td>no</td>\n",
       "      <td>0</td>\n",
       "      <td>no</td>\n",
       "    </tr>\n",
       "    <tr>\n",
       "      <th>3</th>\n",
       "      <td>60500.0</td>\n",
       "      <td>6650</td>\n",
       "      <td>3</td>\n",
       "      <td>1</td>\n",
       "      <td>2</td>\n",
       "      <td>yes</td>\n",
       "      <td>yes</td>\n",
       "      <td>no</td>\n",
       "      <td>no</td>\n",
       "      <td>no</td>\n",
       "      <td>0</td>\n",
       "      <td>no</td>\n",
       "    </tr>\n",
       "    <tr>\n",
       "      <th>4</th>\n",
       "      <td>61000.0</td>\n",
       "      <td>6360</td>\n",
       "      <td>2</td>\n",
       "      <td>1</td>\n",
       "      <td>1</td>\n",
       "      <td>yes</td>\n",
       "      <td>no</td>\n",
       "      <td>no</td>\n",
       "      <td>no</td>\n",
       "      <td>no</td>\n",
       "      <td>0</td>\n",
       "      <td>no</td>\n",
       "    </tr>\n",
       "  </tbody>\n",
       "</table>\n",
       "</div>"
      ],
      "text/plain": [
       "     price  lotsize  bedrooms  bathrooms  stories driveway recreation  \\\n",
       "0  42000.0     5850         3          1        2      yes         no   \n",
       "1  38500.0     4000         2          1        1      yes         no   \n",
       "2  49500.0     3060         3          1        1      yes         no   \n",
       "3  60500.0     6650         3          1        2      yes        yes   \n",
       "4  61000.0     6360         2          1        1      yes         no   \n",
       "\n",
       "  fullbase gasheat aircon  garage prefer  \n",
       "0      yes      no     no       1     no  \n",
       "1       no      no     no       0     no  \n",
       "2       no      no     no       0     no  \n",
       "3       no      no     no       0     no  \n",
       "4       no      no     no       0     no  "
      ]
     },
     "execution_count": 5,
     "metadata": {},
     "output_type": "execute_result"
    }
   ],
   "source": [
    "# Shows the first five rows of the data\n",
    "adv.head()\n"
   ]
  },
  {
   "cell_type": "code",
   "execution_count": 7,
   "id": "6b5aabe0-1699-4aa9-89d7-126ed9a83133",
   "metadata": {},
   "outputs": [
    {
     "data": {
      "text/plain": [
       "(546, 12)"
      ]
     },
     "execution_count": 7,
     "metadata": {},
     "output_type": "execute_result"
    }
   ],
   "source": [
    "#Checking the number of rows and columns\n",
    "adv.shape"
   ]
  },
  {
   "cell_type": "code",
   "execution_count": 9,
   "id": "e9dd4d1c-a19f-4f9a-ba36-0646289389b5",
   "metadata": {},
   "outputs": [
    {
     "data": {
      "text/html": [
       "<div>\n",
       "<style scoped>\n",
       "    .dataframe tbody tr th:only-of-type {\n",
       "        vertical-align: middle;\n",
       "    }\n",
       "\n",
       "    .dataframe tbody tr th {\n",
       "        vertical-align: top;\n",
       "    }\n",
       "\n",
       "    .dataframe thead th {\n",
       "        text-align: right;\n",
       "    }\n",
       "</style>\n",
       "<table border=\"1\" class=\"dataframe\">\n",
       "  <thead>\n",
       "    <tr style=\"text-align: right;\">\n",
       "      <th></th>\n",
       "      <th>price</th>\n",
       "      <th>lotsize</th>\n",
       "      <th>bedrooms</th>\n",
       "      <th>bathrooms</th>\n",
       "      <th>stories</th>\n",
       "      <th>garage</th>\n",
       "    </tr>\n",
       "  </thead>\n",
       "  <tbody>\n",
       "    <tr>\n",
       "      <th>count</th>\n",
       "      <td>546.000000</td>\n",
       "      <td>546.000000</td>\n",
       "      <td>546.000000</td>\n",
       "      <td>546.000000</td>\n",
       "      <td>546.000000</td>\n",
       "      <td>546.000000</td>\n",
       "    </tr>\n",
       "    <tr>\n",
       "      <th>mean</th>\n",
       "      <td>68121.597070</td>\n",
       "      <td>5150.265568</td>\n",
       "      <td>2.965201</td>\n",
       "      <td>1.285714</td>\n",
       "      <td>1.807692</td>\n",
       "      <td>0.692308</td>\n",
       "    </tr>\n",
       "    <tr>\n",
       "      <th>std</th>\n",
       "      <td>26702.670926</td>\n",
       "      <td>2168.158725</td>\n",
       "      <td>0.737388</td>\n",
       "      <td>0.502158</td>\n",
       "      <td>0.868203</td>\n",
       "      <td>0.861307</td>\n",
       "    </tr>\n",
       "    <tr>\n",
       "      <th>min</th>\n",
       "      <td>25000.000000</td>\n",
       "      <td>1650.000000</td>\n",
       "      <td>1.000000</td>\n",
       "      <td>1.000000</td>\n",
       "      <td>1.000000</td>\n",
       "      <td>0.000000</td>\n",
       "    </tr>\n",
       "    <tr>\n",
       "      <th>25%</th>\n",
       "      <td>49125.000000</td>\n",
       "      <td>3600.000000</td>\n",
       "      <td>2.000000</td>\n",
       "      <td>1.000000</td>\n",
       "      <td>1.000000</td>\n",
       "      <td>0.000000</td>\n",
       "    </tr>\n",
       "    <tr>\n",
       "      <th>50%</th>\n",
       "      <td>62000.000000</td>\n",
       "      <td>4600.000000</td>\n",
       "      <td>3.000000</td>\n",
       "      <td>1.000000</td>\n",
       "      <td>2.000000</td>\n",
       "      <td>0.000000</td>\n",
       "    </tr>\n",
       "    <tr>\n",
       "      <th>75%</th>\n",
       "      <td>82000.000000</td>\n",
       "      <td>6360.000000</td>\n",
       "      <td>3.000000</td>\n",
       "      <td>2.000000</td>\n",
       "      <td>2.000000</td>\n",
       "      <td>1.000000</td>\n",
       "    </tr>\n",
       "    <tr>\n",
       "      <th>max</th>\n",
       "      <td>190000.000000</td>\n",
       "      <td>16200.000000</td>\n",
       "      <td>6.000000</td>\n",
       "      <td>4.000000</td>\n",
       "      <td>4.000000</td>\n",
       "      <td>3.000000</td>\n",
       "    </tr>\n",
       "  </tbody>\n",
       "</table>\n",
       "</div>"
      ],
      "text/plain": [
       "               price       lotsize    bedrooms   bathrooms     stories  \\\n",
       "count     546.000000    546.000000  546.000000  546.000000  546.000000   \n",
       "mean    68121.597070   5150.265568    2.965201    1.285714    1.807692   \n",
       "std     26702.670926   2168.158725    0.737388    0.502158    0.868203   \n",
       "min     25000.000000   1650.000000    1.000000    1.000000    1.000000   \n",
       "25%     49125.000000   3600.000000    2.000000    1.000000    1.000000   \n",
       "50%     62000.000000   4600.000000    3.000000    1.000000    2.000000   \n",
       "75%     82000.000000   6360.000000    3.000000    2.000000    2.000000   \n",
       "max    190000.000000  16200.000000    6.000000    4.000000    4.000000   \n",
       "\n",
       "           garage  \n",
       "count  546.000000  \n",
       "mean     0.692308  \n",
       "std      0.861307  \n",
       "min      0.000000  \n",
       "25%      0.000000  \n",
       "50%      0.000000  \n",
       "75%      1.000000  \n",
       "max      3.000000  "
      ]
     },
     "execution_count": 9,
     "metadata": {},
     "output_type": "execute_result"
    }
   ],
   "source": [
    "#To see the statistical details of the dataset, we can use describe():\n",
    "adv.describe()"
   ]
  },
  {
   "cell_type": "code",
   "execution_count": null,
   "id": "a95380ee-0ddd-4c98-afe0-0001cca7f261",
   "metadata": {},
   "outputs": [],
   "source": [
    "#Part 1 - ii\n",
    "#page 126 of textbook"
   ]
  },
  {
   "cell_type": "markdown",
   "id": "5185f6a4",
   "metadata": {},
   "source": [
    "i.\tConstruct a summary stat for all the variables in the HousePrices data. (provide Mean, Median, Max, Min, and Std Dev of the data for all variables) (4 points)"
   ]
  },
  {
   "cell_type": "code",
   "execution_count": null,
   "id": "2b553967",
   "metadata": {},
   "outputs": [],
   "source": []
  },
  {
   "cell_type": "markdown",
   "id": "de28c5f2",
   "metadata": {},
   "source": [
    "ii.\tWhat is the percentage of houses in the data with Driveway, Gas-Heat and Air-conditioning present?  (Hint: find the mean after creating dummy variables with driveway, gasheat, and aircon variables respectively)."
   ]
  },
  {
   "cell_type": "code",
   "execution_count": null,
   "id": "78b0551d",
   "metadata": {},
   "outputs": [],
   "source": []
  },
  {
   "cell_type": "markdown",
   "id": "d438085e",
   "metadata": {},
   "source": [
    "iii.\tConstruct a linear regression model to test whether number of bedrooms influence house prices.  Provide a summary of the linear regression model using summary() function.  \t\t\t(5 points)"
   ]
  },
  {
   "cell_type": "code",
   "execution_count": null,
   "id": "210335c0",
   "metadata": {},
   "outputs": [],
   "source": []
  },
  {
   "cell_type": "markdown",
   "id": "15e67ac0",
   "metadata": {},
   "source": [
    "iv.\tConstruct a multiple linear regression model by including all variables as predictors of house prices (response variable) and observe the effect on the house prices. Provide a summary of the regression model using summary() function.  (5 points)"
   ]
  },
  {
   "cell_type": "code",
   "execution_count": null,
   "id": "55bc3423",
   "metadata": {},
   "outputs": [],
   "source": []
  },
  {
   "cell_type": "markdown",
   "id": "09442650",
   "metadata": {},
   "source": [
    "Part 2: \t\t(20 points)\n",
    "Use the Credit data to perform the following tests using Linear Regression settings:\n",
    "A.\tPerform the following steps: \t(5 points) \n",
    "i.\tObserve the dimension of the Credit data.\t(1 points)\t\n",
    "ii.\tProvide a summary stat for the variables in Credit data.\t\t(1 points)\n",
    "iii.\tWhat is the percentage of Student in the Credit data? What is the percentage of Female in the Credit data? What is the percentage of Student who are Female in the Credit data?\t(3 points)\n"
   ]
  },
  {
   "cell_type": "code",
   "execution_count": null,
   "id": "9f5e6569",
   "metadata": {},
   "outputs": [],
   "source": []
  },
  {
   "cell_type": "markdown",
   "id": "698a28fd",
   "metadata": {},
   "source": [
    "B.\tConstruct a linear regression model to test the following: \t(15 points)\n",
    "\n",
    "Test how Credit Rating and Student effect Credit Card Balance. In the same model, also test whether the effect of Credit Rating on Credit Card Balance is different for students vs. non-students.\n",
    "\n",
    "Provide a summary of the model. \n"
   ]
  },
  {
   "cell_type": "code",
   "execution_count": null,
   "id": "091c2802",
   "metadata": {},
   "outputs": [],
   "source": []
  },
  {
   "cell_type": "markdown",
   "id": "8de0c038",
   "metadata": {},
   "source": [
    "Part 3: \t\t(20 points)\n",
    "Use the Credit data to perform the following tests using Linear Regression settings: Online quiz will be based on the results of the regressions performed below.\n"
   ]
  },
  {
   "cell_type": "markdown",
   "id": "34676672",
   "metadata": {},
   "source": [
    "i.\tTest whether Age influence Credit Card Balance on the basis of simple linear regression.\n",
    "(Provide a summary of the model).  (2 points)\n"
   ]
  },
  {
   "cell_type": "code",
   "execution_count": null,
   "id": "5d580ede",
   "metadata": {},
   "outputs": [],
   "source": []
  },
  {
   "cell_type": "markdown",
   "id": "bfb72085",
   "metadata": {},
   "source": [
    "ii.\tUse Age and Credit Rating as predictors of Credit Card Balance (response variable) in a multiple linear regression setting. (Provide a summary of the model). (2 points)  \n",
    "\n"
   ]
  },
  {
   "cell_type": "code",
   "execution_count": null,
   "id": "c1a59e74",
   "metadata": {},
   "outputs": [],
   "source": []
  },
  {
   "cell_type": "markdown",
   "id": "9d473b2c",
   "metadata": {},
   "source": [
    "iii.\tCompare effect of Age from part (i) and (ii): Write the explanation for part (iii) in Python code. (10 points)\n",
    "\n"
   ]
  },
  {
   "cell_type": "code",
   "execution_count": null,
   "id": "60397fec",
   "metadata": {},
   "outputs": [],
   "source": []
  },
  {
   "cell_type": "markdown",
   "id": "ea7a0209",
   "metadata": {},
   "source": [
    "iv.\tObserve the distribution of Age. Construct 3 dummy variables based on Age distribution: (6 points)\n",
    "1. Age 40 and below (Age=<40)\n",
    "2. Age Between 41 to 56 (41=<Age<=56)\n",
    "3. Age group over 56 (Age>56)\n",
    "\n",
    "Construct model to observe whether credit card balance is significantly different for different age group. Consider the age group over 56 as the baseline. \n"
   ]
  },
  {
   "cell_type": "code",
   "execution_count": null,
   "id": "ad7ff9f6",
   "metadata": {},
   "outputs": [],
   "source": []
  },
  {
   "cell_type": "markdown",
   "id": "8daeac40",
   "metadata": {},
   "source": [
    "Part 4: \t\t(40 points)\n",
    "i.\tDownload monthly price data of S&P500 and a stock of your choice for the period 01/01/2005 to 12/31/2019 (or any fifteen year period)   \t\t\t\t\t(2 points)\n"
   ]
  },
  {
   "cell_type": "code",
   "execution_count": null,
   "id": "178aa7a9",
   "metadata": {},
   "outputs": [],
   "source": []
  },
  {
   "cell_type": "markdown",
   "id": "e0206dd8",
   "metadata": {},
   "source": [
    "ii.\tCompute the monthly returns for the S&P 500 and the stock. Construct one data frame to store the return series. (2 points)"
   ]
  }
 ],
 "metadata": {
  "kernelspec": {
   "display_name": "Python 3 (ipykernel)",
   "language": "python",
   "name": "python3"
  },
  "language_info": {
   "codemirror_mode": {
    "name": "ipython",
    "version": 3
   },
   "file_extension": ".py",
   "mimetype": "text/x-python",
   "name": "python",
   "nbconvert_exporter": "python",
   "pygments_lexer": "ipython3",
   "version": "3.12.4"
  }
 },
 "nbformat": 4,
 "nbformat_minor": 5
}
