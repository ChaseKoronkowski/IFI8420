{
 "cells": [
  {
   "cell_type": "markdown",
   "id": "01399aef",
   "metadata": {},
   "source": [
    "\n",
    "# IFI 8420 - Assignment 3: Logistic Regression\n",
    "\n",
    "## (Group Submission)\n",
    "\n",
    "**Note:** Quiz 3B in iCollege will be based on this Assignment. Please have your R program available in running condition when you take the quiz. You will need solutions of your program to take the quiz. Quiz 3B is not under lockdown browser.\n",
    "    "
   ]
  },
  {
   "cell_type": "markdown",
   "id": "54048892",
   "metadata": {},
   "source": [
    "\n",
    "## Part 1 (100 points)\n",
    "\n",
    "Analyze the data in the **CreditCard** dataset in the `AER` package. (Note that you have to install the `AER` package and any other additional packages required by `AER`.)\n",
    "    "
   ]
  },
  {
   "cell_type": "markdown",
   "id": "2ab35bd6",
   "metadata": {},
   "source": [
    "\n",
    "### Variables in the dataset:\n",
    "\n",
    "1. **card**: Was the application for a card accepted? (Binary: 1/0) - Response Variable\n",
    "2. **reports**: Number of major derogatory reports \n",
    "3. **income**: Yearly income (in USD 10,000)\n",
    "4. **age**: Age in years plus 12ths of a year \n",
    "5. **owner**: Does the individual own their home? \n",
    "6. **dependents**: Number of dependents \n",
    "7. **months**: Months living at the current address\n",
    "8. **share**: Ratio of monthly credit card expenditure to yearly income\n",
    "9. **selfemp**: Is the individual self-employed?\n",
    "10. **majorcards**: Number of major credit cards held\n",
    "11. **active**: Number of active credit accounts\n",
    "12. **expenditure**: Average monthly credit card expenditure\n",
    "    "
   ]
  },
  {
   "cell_type": "code",
   "execution_count": 10,
   "id": "e8166b72",
   "metadata": {},
   "outputs": [],
   "source": [
    "import pandas as pd\n",
    "import numpy as np\n",
    "import matplotlib.pyplot as plt\n",
    "import seaborn as sns\n",
    "from sklearn.model_selection import train_test_split\n",
    "from sklearn.preprocessing import StandardScaler\n",
    "from sklearn.linear_model import LogisticRegression\n",
    "from sklearn.metrics import confusion_matrix, accuracy_score\n",
    "from sklearn.discriminant_analysis import LinearDiscriminantAnalysis\n",
    "from sklearn.neighbors import KNeighborsClassifier\n",
    "from sklearn.naive_bayes import GaussianNB\n",
    "\n",
    "df = pd.read_csv(r\"C:\\Users\\chase\\Dropbox (Old)\\My PC (LAPTOP-P3ARPLF9)\\Downloads\\CreditCard.csv\")\n"
   ]
  },
  {
   "cell_type": "markdown",
   "id": "707dacd8",
   "metadata": {},
   "source": [
    "### A. Provide summary statistics of the predictors. (5 points)"
   ]
  },
  {
   "cell_type": "code",
   "execution_count": 11,
   "id": "11cbffce",
   "metadata": {},
   "outputs": [
    {
     "data": {
      "text/html": [
       "<div>\n",
       "<style scoped>\n",
       "    .dataframe tbody tr th:only-of-type {\n",
       "        vertical-align: middle;\n",
       "    }\n",
       "\n",
       "    .dataframe tbody tr th {\n",
       "        vertical-align: top;\n",
       "    }\n",
       "\n",
       "    .dataframe thead th {\n",
       "        text-align: right;\n",
       "    }\n",
       "</style>\n",
       "<table border=\"1\" class=\"dataframe\">\n",
       "  <thead>\n",
       "    <tr style=\"text-align: right;\">\n",
       "      <th></th>\n",
       "      <th>reports</th>\n",
       "      <th>income</th>\n",
       "      <th>age</th>\n",
       "      <th>dependents</th>\n",
       "      <th>months</th>\n",
       "      <th>share</th>\n",
       "    </tr>\n",
       "  </thead>\n",
       "  <tbody>\n",
       "    <tr>\n",
       "      <th>count</th>\n",
       "      <td>1319.000000</td>\n",
       "      <td>1319.000000</td>\n",
       "      <td>1319.000000</td>\n",
       "      <td>1319.000000</td>\n",
       "      <td>1319.000000</td>\n",
       "      <td>1319.000000</td>\n",
       "    </tr>\n",
       "    <tr>\n",
       "      <th>mean</th>\n",
       "      <td>0.456406</td>\n",
       "      <td>3.365376</td>\n",
       "      <td>33.213103</td>\n",
       "      <td>0.993935</td>\n",
       "      <td>55.267627</td>\n",
       "      <td>0.068732</td>\n",
       "    </tr>\n",
       "    <tr>\n",
       "      <th>std</th>\n",
       "      <td>1.345267</td>\n",
       "      <td>1.693902</td>\n",
       "      <td>10.142783</td>\n",
       "      <td>1.247745</td>\n",
       "      <td>66.271746</td>\n",
       "      <td>0.094656</td>\n",
       "    </tr>\n",
       "    <tr>\n",
       "      <th>min</th>\n",
       "      <td>0.000000</td>\n",
       "      <td>0.210000</td>\n",
       "      <td>0.166667</td>\n",
       "      <td>0.000000</td>\n",
       "      <td>0.000000</td>\n",
       "      <td>0.000109</td>\n",
       "    </tr>\n",
       "    <tr>\n",
       "      <th>25%</th>\n",
       "      <td>0.000000</td>\n",
       "      <td>2.243750</td>\n",
       "      <td>25.416670</td>\n",
       "      <td>0.000000</td>\n",
       "      <td>12.000000</td>\n",
       "      <td>0.002316</td>\n",
       "    </tr>\n",
       "    <tr>\n",
       "      <th>50%</th>\n",
       "      <td>0.000000</td>\n",
       "      <td>2.900000</td>\n",
       "      <td>31.250000</td>\n",
       "      <td>1.000000</td>\n",
       "      <td>30.000000</td>\n",
       "      <td>0.038827</td>\n",
       "    </tr>\n",
       "    <tr>\n",
       "      <th>75%</th>\n",
       "      <td>0.000000</td>\n",
       "      <td>4.000000</td>\n",
       "      <td>39.416670</td>\n",
       "      <td>2.000000</td>\n",
       "      <td>72.000000</td>\n",
       "      <td>0.093617</td>\n",
       "    </tr>\n",
       "    <tr>\n",
       "      <th>max</th>\n",
       "      <td>14.000000</td>\n",
       "      <td>13.500000</td>\n",
       "      <td>83.500000</td>\n",
       "      <td>6.000000</td>\n",
       "      <td>540.000000</td>\n",
       "      <td>0.906320</td>\n",
       "    </tr>\n",
       "  </tbody>\n",
       "</table>\n",
       "</div>"
      ],
      "text/plain": [
       "           reports       income          age   dependents       months  \\\n",
       "count  1319.000000  1319.000000  1319.000000  1319.000000  1319.000000   \n",
       "mean      0.456406     3.365376    33.213103     0.993935    55.267627   \n",
       "std       1.345267     1.693902    10.142783     1.247745    66.271746   \n",
       "min       0.000000     0.210000     0.166667     0.000000     0.000000   \n",
       "25%       0.000000     2.243750    25.416670     0.000000    12.000000   \n",
       "50%       0.000000     2.900000    31.250000     1.000000    30.000000   \n",
       "75%       0.000000     4.000000    39.416670     2.000000    72.000000   \n",
       "max      14.000000    13.500000    83.500000     6.000000   540.000000   \n",
       "\n",
       "             share  \n",
       "count  1319.000000  \n",
       "mean      0.068732  \n",
       "std       0.094656  \n",
       "min       0.000109  \n",
       "25%       0.002316  \n",
       "50%       0.038827  \n",
       "75%       0.093617  \n",
       "max       0.906320  "
      ]
     },
     "execution_count": 11,
     "metadata": {},
     "output_type": "execute_result"
    }
   ],
   "source": [
    "\n",
    "# Display summary statistics of predictors\n",
    "predictors = ['reports', 'income', 'age', 'owner', 'dependents', 'months', 'share']\n",
    "df[predictors].describe()\n",
    "    "
   ]
  },
  {
   "cell_type": "markdown",
   "id": "f78c9b7c",
   "metadata": {},
   "source": [
    "### B. Consider only data with `age > 18` for the rest of the analysis. (5 points)"
   ]
  },
  {
   "cell_type": "code",
   "execution_count": 12,
   "id": "1a35b878",
   "metadata": {},
   "outputs": [],
   "source": [
    "\n",
    "df = df[df['age'] > 18]\n",
    "    "
   ]
  },
  {
   "cell_type": "markdown",
   "id": "eda6826b",
   "metadata": {},
   "source": [
    "### C. Plot of income vs. reports: mark individuals with card application accepted as blue, and not accepted as red. (5 points)"
   ]
  },
  {
   "cell_type": "code",
   "execution_count": 13,
   "id": "d77271a2",
   "metadata": {},
   "outputs": [
    {
     "ename": "ValueError",
     "evalue": "The palette dictionary is missing keys: {'yes', 'no'}",
     "output_type": "error",
     "traceback": [
      "\u001b[1;31m---------------------------------------------------------------------------\u001b[0m",
      "\u001b[1;31mValueError\u001b[0m                                Traceback (most recent call last)",
      "Cell \u001b[1;32mIn[13], line 5\u001b[0m\n\u001b[0;32m      2\u001b[0m \u001b[38;5;28;01mimport\u001b[39;00m \u001b[38;5;21;01mseaborn\u001b[39;00m \u001b[38;5;28;01mas\u001b[39;00m \u001b[38;5;21;01msns\u001b[39;00m\n\u001b[0;32m      4\u001b[0m plt\u001b[38;5;241m.\u001b[39mfigure(figsize\u001b[38;5;241m=\u001b[39m(\u001b[38;5;241m8\u001b[39m,\u001b[38;5;241m6\u001b[39m))\n\u001b[1;32m----> 5\u001b[0m \u001b[43msns\u001b[49m\u001b[38;5;241;43m.\u001b[39;49m\u001b[43mscatterplot\u001b[49m\u001b[43m(\u001b[49m\u001b[43mdata\u001b[49m\u001b[38;5;241;43m=\u001b[39;49m\u001b[43mdf\u001b[49m\u001b[43m,\u001b[49m\u001b[43m \u001b[49m\u001b[43mx\u001b[49m\u001b[38;5;241;43m=\u001b[39;49m\u001b[38;5;124;43m'\u001b[39;49m\u001b[38;5;124;43mincome\u001b[39;49m\u001b[38;5;124;43m'\u001b[39;49m\u001b[43m,\u001b[49m\u001b[43m \u001b[49m\u001b[43my\u001b[49m\u001b[38;5;241;43m=\u001b[39;49m\u001b[38;5;124;43m'\u001b[39;49m\u001b[38;5;124;43mreports\u001b[39;49m\u001b[38;5;124;43m'\u001b[39;49m\u001b[43m,\u001b[49m\u001b[43m \u001b[49m\u001b[43mhue\u001b[49m\u001b[38;5;241;43m=\u001b[39;49m\u001b[38;5;124;43m'\u001b[39;49m\u001b[38;5;124;43mcard\u001b[39;49m\u001b[38;5;124;43m'\u001b[39;49m\u001b[43m,\u001b[49m\u001b[43m \u001b[49m\u001b[43mpalette\u001b[49m\u001b[38;5;241;43m=\u001b[39;49m\u001b[43m{\u001b[49m\u001b[38;5;241;43m1\u001b[39;49m\u001b[43m:\u001b[49m\u001b[43m \u001b[49m\u001b[38;5;124;43m'\u001b[39;49m\u001b[38;5;124;43mblue\u001b[39;49m\u001b[38;5;124;43m'\u001b[39;49m\u001b[43m,\u001b[49m\u001b[43m \u001b[49m\u001b[38;5;241;43m0\u001b[39;49m\u001b[43m:\u001b[49m\u001b[43m \u001b[49m\u001b[38;5;124;43m'\u001b[39;49m\u001b[38;5;124;43mred\u001b[39;49m\u001b[38;5;124;43m'\u001b[39;49m\u001b[43m}\u001b[49m\u001b[43m)\u001b[49m\n\u001b[0;32m      6\u001b[0m plt\u001b[38;5;241m.\u001b[39mtitle(\u001b[38;5;124m'\u001b[39m\u001b[38;5;124mIncome vs. Reports\u001b[39m\u001b[38;5;124m'\u001b[39m)\n\u001b[0;32m      7\u001b[0m plt\u001b[38;5;241m.\u001b[39mshow()\n",
      "File \u001b[1;32mc:\\Users\\chase\\AppData\\Local\\Programs\\Python\\Python39\\lib\\site-packages\\seaborn\\relational.py:621\u001b[0m, in \u001b[0;36mscatterplot\u001b[1;34m(data, x, y, hue, size, style, palette, hue_order, hue_norm, sizes, size_order, size_norm, markers, style_order, legend, ax, **kwargs)\u001b[0m\n\u001b[0;32m    606\u001b[0m \u001b[38;5;28;01mdef\u001b[39;00m \u001b[38;5;21mscatterplot\u001b[39m(\n\u001b[0;32m    607\u001b[0m     data\u001b[38;5;241m=\u001b[39m\u001b[38;5;28;01mNone\u001b[39;00m, \u001b[38;5;241m*\u001b[39m,\n\u001b[0;32m    608\u001b[0m     x\u001b[38;5;241m=\u001b[39m\u001b[38;5;28;01mNone\u001b[39;00m, y\u001b[38;5;241m=\u001b[39m\u001b[38;5;28;01mNone\u001b[39;00m, hue\u001b[38;5;241m=\u001b[39m\u001b[38;5;28;01mNone\u001b[39;00m, size\u001b[38;5;241m=\u001b[39m\u001b[38;5;28;01mNone\u001b[39;00m, style\u001b[38;5;241m=\u001b[39m\u001b[38;5;28;01mNone\u001b[39;00m,\n\u001b[1;32m   (...)\u001b[0m\n\u001b[0;32m    612\u001b[0m     \u001b[38;5;241m*\u001b[39m\u001b[38;5;241m*\u001b[39mkwargs\n\u001b[0;32m    613\u001b[0m ):\n\u001b[0;32m    615\u001b[0m     p \u001b[38;5;241m=\u001b[39m _ScatterPlotter(\n\u001b[0;32m    616\u001b[0m         data\u001b[38;5;241m=\u001b[39mdata,\n\u001b[0;32m    617\u001b[0m         variables\u001b[38;5;241m=\u001b[39m\u001b[38;5;28mdict\u001b[39m(x\u001b[38;5;241m=\u001b[39mx, y\u001b[38;5;241m=\u001b[39my, hue\u001b[38;5;241m=\u001b[39mhue, size\u001b[38;5;241m=\u001b[39msize, style\u001b[38;5;241m=\u001b[39mstyle),\n\u001b[0;32m    618\u001b[0m         legend\u001b[38;5;241m=\u001b[39mlegend\n\u001b[0;32m    619\u001b[0m     )\n\u001b[1;32m--> 621\u001b[0m     \u001b[43mp\u001b[49m\u001b[38;5;241;43m.\u001b[39;49m\u001b[43mmap_hue\u001b[49m\u001b[43m(\u001b[49m\u001b[43mpalette\u001b[49m\u001b[38;5;241;43m=\u001b[39;49m\u001b[43mpalette\u001b[49m\u001b[43m,\u001b[49m\u001b[43m \u001b[49m\u001b[43morder\u001b[49m\u001b[38;5;241;43m=\u001b[39;49m\u001b[43mhue_order\u001b[49m\u001b[43m,\u001b[49m\u001b[43m \u001b[49m\u001b[43mnorm\u001b[49m\u001b[38;5;241;43m=\u001b[39;49m\u001b[43mhue_norm\u001b[49m\u001b[43m)\u001b[49m\n\u001b[0;32m    622\u001b[0m     p\u001b[38;5;241m.\u001b[39mmap_size(sizes\u001b[38;5;241m=\u001b[39msizes, order\u001b[38;5;241m=\u001b[39msize_order, norm\u001b[38;5;241m=\u001b[39msize_norm)\n\u001b[0;32m    623\u001b[0m     p\u001b[38;5;241m.\u001b[39mmap_style(markers\u001b[38;5;241m=\u001b[39mmarkers, order\u001b[38;5;241m=\u001b[39mstyle_order)\n",
      "File \u001b[1;32mc:\\Users\\chase\\AppData\\Local\\Programs\\Python\\Python39\\lib\\site-packages\\seaborn\\_base.py:838\u001b[0m, in \u001b[0;36mVectorPlotter.map_hue\u001b[1;34m(self, palette, order, norm, saturation)\u001b[0m\n\u001b[0;32m    837\u001b[0m \u001b[38;5;28;01mdef\u001b[39;00m \u001b[38;5;21mmap_hue\u001b[39m(\u001b[38;5;28mself\u001b[39m, palette\u001b[38;5;241m=\u001b[39m\u001b[38;5;28;01mNone\u001b[39;00m, order\u001b[38;5;241m=\u001b[39m\u001b[38;5;28;01mNone\u001b[39;00m, norm\u001b[38;5;241m=\u001b[39m\u001b[38;5;28;01mNone\u001b[39;00m, saturation\u001b[38;5;241m=\u001b[39m\u001b[38;5;241m1\u001b[39m):\n\u001b[1;32m--> 838\u001b[0m     mapping \u001b[38;5;241m=\u001b[39m \u001b[43mHueMapping\u001b[49m\u001b[43m(\u001b[49m\u001b[38;5;28;43mself\u001b[39;49m\u001b[43m,\u001b[49m\u001b[43m \u001b[49m\u001b[43mpalette\u001b[49m\u001b[43m,\u001b[49m\u001b[43m \u001b[49m\u001b[43morder\u001b[49m\u001b[43m,\u001b[49m\u001b[43m \u001b[49m\u001b[43mnorm\u001b[49m\u001b[43m,\u001b[49m\u001b[43m \u001b[49m\u001b[43msaturation\u001b[49m\u001b[43m)\u001b[49m\n\u001b[0;32m    839\u001b[0m     \u001b[38;5;28mself\u001b[39m\u001b[38;5;241m.\u001b[39m_hue_map \u001b[38;5;241m=\u001b[39m mapping\n",
      "File \u001b[1;32mc:\\Users\\chase\\AppData\\Local\\Programs\\Python\\Python39\\lib\\site-packages\\seaborn\\_base.py:150\u001b[0m, in \u001b[0;36mHueMapping.__init__\u001b[1;34m(self, plotter, palette, order, norm, saturation)\u001b[0m\n\u001b[0;32m    147\u001b[0m \u001b[38;5;28;01melif\u001b[39;00m map_type \u001b[38;5;241m==\u001b[39m \u001b[38;5;124m\"\u001b[39m\u001b[38;5;124mcategorical\u001b[39m\u001b[38;5;124m\"\u001b[39m:\n\u001b[0;32m    149\u001b[0m     cmap \u001b[38;5;241m=\u001b[39m norm \u001b[38;5;241m=\u001b[39m \u001b[38;5;28;01mNone\u001b[39;00m\n\u001b[1;32m--> 150\u001b[0m     levels, lookup_table \u001b[38;5;241m=\u001b[39m \u001b[38;5;28;43mself\u001b[39;49m\u001b[38;5;241;43m.\u001b[39;49m\u001b[43mcategorical_mapping\u001b[49m\u001b[43m(\u001b[49m\n\u001b[0;32m    151\u001b[0m \u001b[43m        \u001b[49m\u001b[43mdata\u001b[49m\u001b[43m,\u001b[49m\u001b[43m \u001b[49m\u001b[43mpalette\u001b[49m\u001b[43m,\u001b[49m\u001b[43m \u001b[49m\u001b[43morder\u001b[49m\u001b[43m,\u001b[49m\n\u001b[0;32m    152\u001b[0m \u001b[43m    \u001b[49m\u001b[43m)\u001b[49m\n\u001b[0;32m    154\u001b[0m \u001b[38;5;66;03m# --- Option 3: datetime mapping\u001b[39;00m\n\u001b[0;32m    155\u001b[0m \n\u001b[0;32m    156\u001b[0m \u001b[38;5;28;01melse\u001b[39;00m:\n\u001b[0;32m    157\u001b[0m     \u001b[38;5;66;03m# TODO this needs actual implementation\u001b[39;00m\n\u001b[0;32m    158\u001b[0m     cmap \u001b[38;5;241m=\u001b[39m norm \u001b[38;5;241m=\u001b[39m \u001b[38;5;28;01mNone\u001b[39;00m\n",
      "File \u001b[1;32mc:\\Users\\chase\\AppData\\Local\\Programs\\Python\\Python39\\lib\\site-packages\\seaborn\\_base.py:234\u001b[0m, in \u001b[0;36mHueMapping.categorical_mapping\u001b[1;34m(self, data, palette, order)\u001b[0m\n\u001b[0;32m    232\u001b[0m     \u001b[38;5;28;01mif\u001b[39;00m \u001b[38;5;28many\u001b[39m(missing):\n\u001b[0;32m    233\u001b[0m         err \u001b[38;5;241m=\u001b[39m \u001b[38;5;124m\"\u001b[39m\u001b[38;5;124mThe palette dictionary is missing keys: \u001b[39m\u001b[38;5;132;01m{}\u001b[39;00m\u001b[38;5;124m\"\u001b[39m\n\u001b[1;32m--> 234\u001b[0m         \u001b[38;5;28;01mraise\u001b[39;00m \u001b[38;5;167;01mValueError\u001b[39;00m(err\u001b[38;5;241m.\u001b[39mformat(missing))\n\u001b[0;32m    236\u001b[0m     lookup_table \u001b[38;5;241m=\u001b[39m palette\n\u001b[0;32m    238\u001b[0m \u001b[38;5;28;01melse\u001b[39;00m:\n",
      "\u001b[1;31mValueError\u001b[0m: The palette dictionary is missing keys: {'yes', 'no'}"
     ]
    },
    {
     "data": {
      "text/plain": [
       "<Figure size 800x600 with 0 Axes>"
      ]
     },
     "metadata": {},
     "output_type": "display_data"
    }
   ],
   "source": [
    "\n",
    "import matplotlib.pyplot as plt\n",
    "import seaborn as sns\n",
    "\n",
    "plt.figure(figsize=(8,6))\n",
    "sns.scatterplot(data=df, x='income', y='reports', hue='card', palette={1: 'blue', 0: 'red'})\n",
    "plt.title('Income vs. Reports')\n",
    "plt.show()\n",
    "    "
   ]
  },
  {
   "cell_type": "markdown",
   "id": "3fd6a733",
   "metadata": {},
   "source": [
    "### D. Boxplots of income and reports as a function of card acceptance status. (5 points)"
   ]
  },
  {
   "cell_type": "code",
   "execution_count": null,
   "id": "47c24b54",
   "metadata": {},
   "outputs": [],
   "source": [
    "\n",
    "fig, axes = plt.subplots(1, 2, figsize=(12, 6))\n",
    "sns.boxplot(x='card', y='income', data=df, ax=axes[0], palette={1: 'blue', 0: 'red'})\n",
    "sns.boxplot(x='card', y='reports', data=df, ax=axes[1], palette={1: 'blue', 0: 'red'})\n",
    "axes[0].set_title('Income by Card Acceptance')\n",
    "axes[1].set_title('Reports by Card Acceptance')\n",
    "plt.show()\n",
    "    "
   ]
  },
  {
   "cell_type": "markdown",
   "id": "df33ff2d",
   "metadata": {},
   "source": [
    "### E. Construct the histogram for the predictors. (5 points)"
   ]
  },
  {
   "cell_type": "code",
   "execution_count": null,
   "id": "08534b14",
   "metadata": {},
   "outputs": [],
   "source": [
    "\n",
    "df[predictors].hist(figsize=(12,10), bins=20)\n",
    "plt.show()\n",
    "    "
   ]
  },
  {
   "cell_type": "markdown",
   "id": "d9a83b00",
   "metadata": {},
   "source": [
    "### F. Transform `share` and `reports` due to skewness."
   ]
  },
  {
   "cell_type": "code",
   "execution_count": null,
   "id": "3ee4aa9a",
   "metadata": {},
   "outputs": [],
   "source": [
    "\n",
    "import numpy as np\n",
    "\n",
    "df['log_share'] = np.log(df['share'])\n",
    "df['log_reports'] = np.log(df['reports'] + 1)\n",
    "    "
   ]
  },
  {
   "cell_type": "markdown",
   "id": "5492109c",
   "metadata": {},
   "source": [
    "### G. Logistic Regression with predictors 2 to 8. (5 points)"
   ]
  },
  {
   "cell_type": "code",
   "execution_count": null,
   "id": "a4bc914f",
   "metadata": {},
   "outputs": [],
   "source": [
    "\n",
    "from sklearn.linear_model import LogisticRegression\n",
    "\n",
    "X = df[['reports', 'income', 'age', 'owner', 'dependents', 'months', 'log_share']]\n",
    "y = df['card']\n",
    "\n",
    "model = LogisticRegression()\n",
    "model.fit(X, y)\n",
    "\n",
    "print(model)\n",
    "    "
   ]
  },
  {
   "cell_type": "markdown",
   "id": "912391be",
   "metadata": {},
   "source": [
    "### H. Convert probabilities into class labels and compute confusion matrix. (15 points)"
   ]
  },
  {
   "cell_type": "code",
   "execution_count": null,
   "id": "7be6835e",
   "metadata": {},
   "outputs": [],
   "source": [
    "\n",
    "from sklearn.metrics import confusion_matrix, accuracy_score\n",
    "\n",
    "y_pred = (model.predict_proba(X)[:, 1] > 0.5).astype(int)\n",
    "print(confusion_matrix(y, y_pred))\n",
    "print(f'Accuracy: {accuracy_score(y, y_pred)}')\n",
    "    "
   ]
  },
  {
   "cell_type": "markdown",
   "id": "690002da",
   "metadata": {},
   "source": [
    "### I. Fit logistic regression model using training data (1-1000), test on remaining. (20 points)"
   ]
  },
  {
   "cell_type": "code",
   "execution_count": null,
   "id": "f26a1eee",
   "metadata": {},
   "outputs": [],
   "source": [
    "\n",
    "from sklearn.model_selection import train_test_split\n",
    "\n",
    "train, test = train_test_split(df, test_size=0.3, random_state=42)\n",
    "X_train, y_train = train[X.columns], train['card']\n",
    "X_test, y_test = test[X.columns], test['card']\n",
    "\n",
    "model.fit(X_train, y_train)\n",
    "y_test_pred = (model.predict_proba(X_test)[:, 1] > 0.5).astype(int)\n",
    "\n",
    "print(confusion_matrix(y_test, y_test_pred))\n",
    "print(f'Accuracy: {accuracy_score(y_test, y_test_pred)}')\n",
    "    "
   ]
  },
  {
   "cell_type": "markdown",
   "id": "ca494253",
   "metadata": {},
   "source": [
    "### J. Apply Discriminant Analysis, Nearest Neighbors, and Naïve Bayes, compare models. (20 points)"
   ]
  },
  {
   "cell_type": "code",
   "execution_count": null,
   "id": "7e85599e",
   "metadata": {},
   "outputs": [],
   "source": [
    "\n",
    "from sklearn.discriminant_analysis import LinearDiscriminantAnalysis\n",
    "from sklearn.neighbors import KNeighborsClassifier\n",
    "from sklearn.naive_bayes import GaussianNB\n",
    "\n",
    "models = {\n",
    "    'LDA': LinearDiscriminantAnalysis(),\n",
    "    'KNN': KNeighborsClassifier(n_neighbors=5),\n",
    "    'Naive Bayes': GaussianNB()\n",
    "}\n",
    "\n",
    "for name, mdl in models.items():\n",
    "    mdl.fit(X_train, y_train)\n",
    "    preds = mdl.predict(X_test)\n",
    "    print(f'--- {name} ---')\n",
    "    print(confusion_matrix(y_test, preds))\n",
    "    print(f'Accuracy: {accuracy_score(y_test, preds)}')\n",
    "    "
   ]
  },
  {
   "cell_type": "markdown",
   "id": "fff91b00",
   "metadata": {},
   "source": [
    "### K. Comparing models - Final selection and validation. (15 points)"
   ]
  },
  {
   "cell_type": "code",
   "execution_count": null,
   "id": "f7ae1a63",
   "metadata": {},
   "outputs": [],
   "source": [
    "\n",
    "# Model comparison summary\n",
    "def compare_models():\n",
    "    best_model = max(models, key=lambda name: accuracy_score(y_test, models[name].predict(X_test)))\n",
    "    return f'The best performing model is {best_model} due to higher accuracy.'\n",
    "\n",
    "print(compare_models())\n",
    "    "
   ]
  }
 ],
 "metadata": {
  "kernelspec": {
   "display_name": "Python 3",
   "language": "python",
   "name": "python3"
  },
  "language_info": {
   "codemirror_mode": {
    "name": "ipython",
    "version": 3
   },
   "file_extension": ".py",
   "mimetype": "text/x-python",
   "name": "python",
   "nbconvert_exporter": "python",
   "pygments_lexer": "ipython3",
   "version": "3.9.7"
  }
 },
 "nbformat": 4,
 "nbformat_minor": 5
}
