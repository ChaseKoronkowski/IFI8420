{
 "cells": [
  {
   "cell_type": "code",
   "execution_count": 3,
   "id": "initial_id",
   "metadata": {
    "ExecuteTime": {
     "end_time": "2025-01-25T03:12:40.503690Z",
     "start_time": "2025-01-25T03:12:32.537363Z"
    },
    "collapsed": true
   },
   "outputs": [],
   "source": [
    "import pandas as pd\n",
    "import yfinance as yf\n",
    "#NumPy is a general-purpose array-processing package.\n",
    "import numpy as np\n",
    "import matplotlib.pyplot as plt\n",
    "from matplotlib.pyplot import ylabel\n",
    "#import pandas_datareader as web\n",
    "#import yahoofinancials as YahooFinancials"
   ]
  },
  {
   "cell_type": "markdown",
   "id": "98dac133ba7e72e3",
   "metadata": {},
   "source": [
    "# Assignment 1"
   ]
  },
  {
   "cell_type": "markdown",
   "id": "f31950c1fefd535a",
   "metadata": {},
   "source": [
    "## Question 1"
   ]
  },
  {
   "cell_type": "markdown",
   "id": "ae409bff9a2633b0",
   "metadata": {},
   "source": [
    "#### A. Download daily prices data of Netflix stock from Yahoo for the period January 2, 2004 till December 31, 2019."
   ]
  },
  {
   "cell_type": "code",
   "execution_count": 4,
   "id": "c27bb86d58f750a",
   "metadata": {
    "ExecuteTime": {
     "end_time": "2025-01-25T03:14:01.563741Z",
     "start_time": "2025-01-25T03:13:55.047744Z"
    }
   },
   "outputs": [
    {
     "name": "stderr",
     "output_type": "stream",
     "text": [
      "[*********************100%***********************]  1 of 1 completed\n"
     ]
    }
   ],
   "source": [
    "#Enter Code here\n",
    "netflix_df = yf.download(tickers='NFLX', start=\"2004-01-02\", end=\"2019-12-31\")"
   ]
  },
  {
   "cell_type": "markdown",
   "id": "97d1c675c7b78dcb",
   "metadata": {},
   "source": [
    "#### B.\tSee the size and type of the downloaded data"
   ]
  },
  {
   "cell_type": "code",
   "execution_count": 5,
   "id": "208583cbb3e715ef",
   "metadata": {
    "ExecuteTime": {
     "end_time": "2025-01-25T03:18:49.620535Z",
     "start_time": "2025-01-25T03:18:49.598352Z"
    }
   },
   "outputs": [
    {
     "name": "stdout",
     "output_type": "stream",
     "text": [
      "Size is: 20130\n",
      "Type is: <class 'pandas.core.frame.DataFrame'>\n"
     ]
    }
   ],
   "source": [
    "netflix_size = netflix_df.size\n",
    "netflix_type = type(netflix_df)\n",
    "\n",
    "print(f\"Size is: {netflix_size}\")\n",
    "print(f\"Type is: {netflix_type}\")"
   ]
  },
  {
   "cell_type": "markdown",
   "id": "f231e6d94d3e90fa",
   "metadata": {},
   "source": [
    "#### C.\tObserve the first 5 rows of the data "
   ]
  },
  {
   "cell_type": "code",
   "execution_count": 6,
   "id": "106b4786f3b7bfec",
   "metadata": {
    "ExecuteTime": {
     "end_time": "2025-01-25T03:38:47.846165Z",
     "start_time": "2025-01-25T03:38:47.826274Z"
    }
   },
   "outputs": [
    {
     "data": {
      "text/html": [
       "<div>\n",
       "<style scoped>\n",
       "    .dataframe tbody tr th:only-of-type {\n",
       "        vertical-align: middle;\n",
       "    }\n",
       "\n",
       "    .dataframe tbody tr th {\n",
       "        vertical-align: top;\n",
       "    }\n",
       "\n",
       "    .dataframe thead tr th {\n",
       "        text-align: left;\n",
       "    }\n",
       "\n",
       "    .dataframe thead tr:last-of-type th {\n",
       "        text-align: right;\n",
       "    }\n",
       "</style>\n",
       "<table border=\"1\" class=\"dataframe\">\n",
       "  <thead>\n",
       "    <tr>\n",
       "      <th>Price</th>\n",
       "      <th>Close</th>\n",
       "      <th>High</th>\n",
       "      <th>Low</th>\n",
       "      <th>Open</th>\n",
       "      <th>Volume</th>\n",
       "    </tr>\n",
       "    <tr>\n",
       "      <th>Ticker</th>\n",
       "      <th>NFLX</th>\n",
       "      <th>NFLX</th>\n",
       "      <th>NFLX</th>\n",
       "      <th>NFLX</th>\n",
       "      <th>NFLX</th>\n",
       "    </tr>\n",
       "    <tr>\n",
       "      <th>Date</th>\n",
       "      <th></th>\n",
       "      <th></th>\n",
       "      <th></th>\n",
       "      <th></th>\n",
       "      <th></th>\n",
       "    </tr>\n",
       "  </thead>\n",
       "  <tbody>\n",
       "    <tr>\n",
       "      <th>2004-01-02</th>\n",
       "      <td>3.916429</td>\n",
       "      <td>4.127857</td>\n",
       "      <td>3.842143</td>\n",
       "      <td>4.107143</td>\n",
       "      <td>50230600</td>\n",
       "    </tr>\n",
       "    <tr>\n",
       "      <th>2004-01-05</th>\n",
       "      <td>3.992857</td>\n",
       "      <td>4.061429</td>\n",
       "      <td>3.875000</td>\n",
       "      <td>3.892857</td>\n",
       "      <td>25207000</td>\n",
       "    </tr>\n",
       "    <tr>\n",
       "      <th>2004-01-06</th>\n",
       "      <td>4.257857</td>\n",
       "      <td>4.339286</td>\n",
       "      <td>3.937143</td>\n",
       "      <td>3.946429</td>\n",
       "      <td>52633000</td>\n",
       "    </tr>\n",
       "    <tr>\n",
       "      <th>2004-01-07</th>\n",
       "      <td>4.445714</td>\n",
       "      <td>4.470000</td>\n",
       "      <td>4.249286</td>\n",
       "      <td>4.307143</td>\n",
       "      <td>68432000</td>\n",
       "    </tr>\n",
       "    <tr>\n",
       "      <th>2004-01-08</th>\n",
       "      <td>4.432857</td>\n",
       "      <td>4.564286</td>\n",
       "      <td>4.291429</td>\n",
       "      <td>4.539286</td>\n",
       "      <td>37178400</td>\n",
       "    </tr>\n",
       "  </tbody>\n",
       "</table>\n",
       "</div>"
      ],
      "text/plain": [
       "Price          Close      High       Low      Open    Volume\n",
       "Ticker          NFLX      NFLX      NFLX      NFLX      NFLX\n",
       "Date                                                        \n",
       "2004-01-02  3.916429  4.127857  3.842143  4.107143  50230600\n",
       "2004-01-05  3.992857  4.061429  3.875000  3.892857  25207000\n",
       "2004-01-06  4.257857  4.339286  3.937143  3.946429  52633000\n",
       "2004-01-07  4.445714  4.470000  4.249286  4.307143  68432000\n",
       "2004-01-08  4.432857  4.564286  4.291429  4.539286  37178400"
      ]
     },
     "execution_count": 6,
     "metadata": {},
     "output_type": "execute_result"
    }
   ],
   "source": [
    "netflix_df.head(5)"
   ]
  },
  {
   "cell_type": "markdown",
   "id": "f5cb9fc496a1eace",
   "metadata": {},
   "source": [
    "#### D. Plot the daily prices   "
   ]
  },
  {
   "cell_type": "code",
   "execution_count": 7,
   "id": "a5aea9146cfeaa7c",
   "metadata": {
    "ExecuteTime": {
     "end_time": "2025-01-25T03:43:21.196684Z",
     "start_time": "2025-01-25T03:43:20.844881Z"
    }
   },
   "outputs": [
    {
     "data": {
      "text/plain": [
       "<Axes: title={'center': 'Netflix Close'}, xlabel='Date', ylabel='Close'>"
      ]
     },
     "execution_count": 7,
     "metadata": {},
     "output_type": "execute_result"
    },
    {
     "data": {
      "image/png": "[encoded data removed]",
      "text/plain": [
       "<Figure size 640x480 with 1 Axes>"
      ]
     },
     "metadata": {},
     "output_type": "display_data"
    }
   ],
   "source": [
    "netflix_df[\"Close\"].plot(title=\"Netflix Close\", ylabel=\"Close\", xlabel=\"Date\")"
   ]
  },
  {
   "cell_type": "markdown",
   "id": "89e08cc8db0656ac",
   "metadata": {},
   "source": [
    "#### E. Compute log returns using closing price "
   ]
  },
  {
   "cell_type": "code",
   "execution_count": 29,
   "id": "45acb24990b6a671",
   "metadata": {},
   "outputs": [],
   "source": [
    "\n",
    "ntflx_daily_log_returns=np.log(netflix_df['Close']/ netflix_df['Close'].shift(1))"
   ]
  },
  {
   "cell_type": "markdown",
   "id": "1826e8df044a6bc",
   "metadata": {},
   "source": [
    "#### F. Construct time plot of daily log returns of Netflix stock for the sample data\n"
   ]
  },
  {
   "cell_type": "code",
   "execution_count": 30,
   "id": "d0205bd5215ec6b",
   "metadata": {},
   "outputs": [
    {
     "data": {
      "text/plain": [
       "<Axes: title={'center': 'Netflix Close'}, xlabel='Date', ylabel='Close'>"
      ]
     },
     "execution_count": 30,
     "metadata": {},
     "output_type": "execute_result"
    },
    {
     "data": {
      "image/png": "[encoded data removed]",
      "text/plain": [
       "<Figure size 640x480 with 1 Axes>"
      ]
     },
     "metadata": {},
     "output_type": "display_data"
    }
   ],
   "source": [
    "ntflx_daily_log_returns.plot(title=\"Netflix Close\", ylabel=\"Close\", xlabel=\"Date\")"
   ]
  },
  {
   "cell_type": "markdown",
   "id": "48e578fd76ec585",
   "metadata": {},
   "source": [
    "#### G. Compute the sample mean, standard deviation, minimum, and maximum of the log return series"
   ]
  },
  {
   "cell_type": "code",
   "execution_count": 31,
   "id": "8bbe4d4212d6dee3",
   "metadata": {},
   "outputs": [
    {
     "name": "stdout",
     "output_type": "stream",
     "text": [
      "Ticker\n",
      "NFLX    0.001097\n",
      "dtype: float64\n",
      "Ticker\n",
      "NFLX    0.034523\n",
      "dtype: float64\n",
      "Ticker\n",
      "NFLX   -0.526049\n",
      "dtype: float64\n",
      "Ticker\n",
      "NFLX    0.35223\n",
      "dtype: float64\n"
     ]
    }
   ],
   "source": [
    "print(ntflx_daily_log_returns.mean())\n",
    "print(ntflx_daily_log_returns.std())\n",
    "print(ntflx_daily_log_returns.min())\n",
    "print(ntflx_daily_log_returns.max())\n"
   ]
  },
  {
   "cell_type": "markdown",
   "id": "2b6e27a464cf15b3",
   "metadata": {},
   "source": [
    "#### H. Construct a histogram of the return series."
   ]
  },
  {
   "cell_type": "code",
   "execution_count": 44,
   "id": "5d608b7cddeaa710",
   "metadata": {},
   "outputs": [
    {
     "data": {
      "image/png": "[encoded data removed]",
      "text/plain": [
       "<Figure size 640x480 with 1 Axes>"
      ]
     },
     "metadata": {},
     "output_type": "display_data"
    }
   ],
   "source": [
    "data = ntflx_daily_log_returns\n",
    "\n",
    "bin_edges = [-.12,-.06,-.03,0,.03,.06,.12]\n",
    "\n",
    "\n",
    "plt.hist(data, bins=bin_edges, edgecolor='black', alpha=0.7)\n",
    "\n",
    "\n",
    "plt.show()"
   ]
  },
  {
   "cell_type": "markdown",
   "id": "db016f441a71f058",
   "metadata": {},
   "source": [
    "#### I. Test whether the mean of daily log return is different from zero."
   ]
  },
  {
   "cell_type": "code",
   "execution_count": 48,
   "id": "ead9aa7148229f48",
   "metadata": {},
   "outputs": [
    {
     "data": {
      "text/plain": [
       "TtestResult(statistic=array([2.01505827]), pvalue=array([0.04396492]), df=array([4024.]))"
      ]
     },
     "execution_count": 48,
     "metadata": {},
     "output_type": "execute_result"
    }
   ],
   "source": [
    "from scipy import stats\n",
    "stats.ttest_1samp(ntflx_daily_log_returns,0,nan_policy='omit')"
   ]
  },
  {
   "cell_type": "markdown",
   "id": "37ab411fdb784ade",
   "metadata": {},
   "source": [
    "#### J. Provide a summary of the analysis."
   ]
  },
  {
   "cell_type": "code",
   "execution_count": null,
   "id": "4b14ba60bb1aa539",
   "metadata": {},
   "outputs": [],
   "source": [
    "```\n",
    "\n",
    "\n",
    "\n",
    "\n",
    "```"
   ]
  },
  {
   "cell_type": "markdown",
   "id": "a2806d8d1add9941",
   "metadata": {},
   "source": [
    "# Question 2"
   ]
  },
  {
   "cell_type": "markdown",
   "id": "c1bac37262f6aa9a",
   "metadata": {},
   "source": [
    "#### A. Download monthly prices data of three stocks (of your choice) from Yahoo for the period January 2, 2005 till December 31, 2019. (or any 15 years of your choice: only condition is that all three stocks should be available for the entire 15 years period that you choose) (5 points)\n"
   ]
  },
  {
   "cell_type": "code",
   "execution_count": null,
   "id": "872096bcd43aa85d",
   "metadata": {},
   "outputs": [],
   "source": [
    "# Enter Code here"
   ]
  },
  {
   "cell_type": "markdown",
   "id": "34e45e805ab1b5d9",
   "metadata": {},
   "source": [
    "#### B. Choose the adjusted closing price of the three stocks. Format the price series in a single Data Series. (5 points)"
   ]
  },
  {
   "cell_type": "code",
   "execution_count": null,
   "id": "2f8b4aa2fff6b838",
   "metadata": {},
   "outputs": [],
   "source": [
    "# Enter Code here"
   ]
  },
  {
   "cell_type": "markdown",
   "id": "82b63ef896b6985f",
   "metadata": {},
   "source": [
    "#### C. See the dimension and type of the downloaded data  ( 2 points)"
   ]
  },
  {
   "cell_type": "code",
   "execution_count": null,
   "id": "9748874d365507ee",
   "metadata": {},
   "outputs": [],
   "source": [
    "# Enter Code here"
   ]
  },
  {
   "cell_type": "markdown",
   "id": "5d99bbcb6e2d8734",
   "metadata": {},
   "source": [
    "#### D. Observe the first 5 rows of the data (2 points)"
   ]
  },
  {
   "cell_type": "code",
   "execution_count": null,
   "id": "eb33355990ea63fd",
   "metadata": {},
   "outputs": [],
   "source": [
    "# Enter Code here"
   ]
  },
  {
   "cell_type": "markdown",
   "id": "c3cc5ce1c6ab208",
   "metadata": {},
   "source": [
    "#### E. Plot the monthly prices of three of the stocks. Display the price series together in one plot (showing the trend together) and also separately. Label the plots correctly   (6 points)"
   ]
  },
  {
   "cell_type": "code",
   "execution_count": null,
   "id": "28030895b92f02d8",
   "metadata": {},
   "outputs": [],
   "source": [
    "# Enter Code here"
   ]
  },
  {
   "cell_type": "markdown",
   "id": "a4dbdf6f4a33f6c9",
   "metadata": {},
   "source": [
    "#### F. Compute log returns using adjusted closing price. Write the program efficiently so you can compute all the three stocks returns using functions, loops etc.   (8 points)"
   ]
  },
  {
   "cell_type": "code",
   "execution_count": null,
   "id": "49159d1d5d8168f2",
   "metadata": {},
   "outputs": [],
   "source": [
    "# Enter Code here"
   ]
  },
  {
   "cell_type": "markdown",
   "id": "c5255e8dd6daa25a",
   "metadata": {},
   "source": [
    "#### G. Construct time plot of monthly log returns of the three stock for the sample data. Display the return series together in one plot and also separately. Label the plots correctly   (6 points)"
   ]
  },
  {
   "cell_type": "code",
   "execution_count": null,
   "id": "6790f88017f77731",
   "metadata": {},
   "outputs": [],
   "source": [
    "# Enter Code here"
   ]
  },
  {
   "cell_type": "markdown",
   "id": "f28d347d1b649003",
   "metadata": {},
   "source": [
    "#### H. Compute the sample mean, standard deviation, minimum, and maximum of the log return series (4 points)."
   ]
  },
  {
   "cell_type": "code",
   "execution_count": null,
   "id": "538a60d3cb44bc23",
   "metadata": {},
   "outputs": [],
   "source": [
    "# Enter Code here"
   ]
  },
  {
   "cell_type": "markdown",
   "id": "2a177a470d18759e",
   "metadata": {},
   "source": [
    "#### I. Construct  histograms of the three return series (3 points). "
   ]
  },
  {
   "cell_type": "code",
   "execution_count": null,
   "id": "77bd0404076e5b91",
   "metadata": {},
   "outputs": [],
   "source": [
    "# Enter Code here"
   ]
  },
  {
   "cell_type": "markdown",
   "id": "606d0e1d2efc9dd8",
   "metadata": {},
   "source": [
    "#### J. Test whether the mean of monthly log return is different from zero. (3 points)\n"
   ]
  },
  {
   "cell_type": "code",
   "execution_count": null,
   "id": "381ebf48d29d78ed",
   "metadata": {},
   "outputs": [],
   "source": [
    "# Enter Code here"
   ]
  },
  {
   "cell_type": "markdown",
   "id": "319e61974c76838f",
   "metadata": {},
   "source": [
    "#### K. Compute the total HPR (report log returns) for the entire duration of the data (15 years period) for the three stocks. Compute the average annual HPR returns (report log returns) for the sample for all the three stocks. Report values in percentage (%)   (6 points)"
   ]
  },
  {
   "cell_type": "code",
   "execution_count": null,
   "id": "3eee406679782e7c",
   "metadata": {},
   "outputs": [],
   "source": [
    "# Enter Code here"
   ]
  },
  {
   "cell_type": "markdown",
   "id": "971349467072745b",
   "metadata": {},
   "source": [
    "#### L. Provide a summary of the analysis. (10 points)"
   ]
  },
  {
   "cell_type": "code",
   "execution_count": null,
   "id": "6b7e45e5a103f26b",
   "metadata": {},
   "outputs": [],
   "source": [
    "# Enter Code here"
   ]
  },
  {
   "cell_type": "markdown",
   "id": "715eef8a0aaaaf7",
   "metadata": {},
   "source": []
  }
 ],
 "metadata": {
  "kernelspec": {
   "display_name": "Python 3",
   "language": "python",
   "name": "python3"
  },
  "language_info": {
   "codemirror_mode": {
    "name": "ipython",
    "version": 3
   },
   "file_extension": ".py",
   "mimetype": "text/x-python",
   "name": "python",
   "nbconvert_exporter": "python",
   "pygments_lexer": "ipython3",
   "version": "3.9.7"
  }
 },
 "nbformat": 4,
 "nbformat_minor": 5
}
