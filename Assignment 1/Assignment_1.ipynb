{
 "cells": [
  {
   "cell_type": "code",
   "id": "initial_id",
   "metadata": {
    "collapsed": true,
    "ExecuteTime": {
     "end_time": "2025-01-25T03:12:40.503690Z",
     "start_time": "2025-01-25T03:12:32.537363Z"
    }
   },
   "source": [
    "import pandas as pd\n",
    "import yfinance as yf\n",
    "#NumPy is a general-purpose array-processing package.\n",
    "import numpy as np\n",
    "import matplotlib.pyplot as plt\n",
    "from matplotlib.pyplot import ylabel\n",
    "#import pandas_datareader as web\n",
    "#import yahoofinancials as YahooFinancials"
   ],
   "outputs": [],
   "execution_count": 2
  },
  {
   "metadata": {},
   "cell_type": "markdown",
   "source": "# Assignment 1",
   "id": "98dac133ba7e72e3"
  },
  {
   "metadata": {},
   "cell_type": "markdown",
   "source": "## Question 1",
   "id": "f31950c1fefd535a"
  },
  {
   "metadata": {},
   "cell_type": "markdown",
   "source": "#### A. Download daily prices data of Netflix stock from Yahoo for the period January 2, 2004 till December 31, 2019.",
   "id": "ae409bff9a2633b0"
  },
  {
   "metadata": {
    "ExecuteTime": {
     "end_time": "2025-01-25T03:14:01.563741Z",
     "start_time": "2025-01-25T03:13:55.047744Z"
    }
   },
   "cell_type": "code",
   "source": [
    "#Enter Code here\n",
    "netflix_df = yf.download(tickers='NFLX', start=\"2004-01-02\", end=\"2019-12-31\")"
   ],
   "id": "c27bb86d58f750a",
   "outputs": [
    {
     "name": "stderr",
     "output_type": "stream",
     "text": [
      "[*********************100%***********************]  1 of 1 completed\n"
     ]
    }
   ],
   "execution_count": 4
  },
  {
   "metadata": {},
   "cell_type": "markdown",
   "source": "#### B.\tSee the size and type of the downloaded data",
   "id": "97d1c675c7b78dcb"
  },
  {
   "metadata": {
    "ExecuteTime": {
     "end_time": "2025-01-25T03:18:49.620535Z",
     "start_time": "2025-01-25T03:18:49.598352Z"
    }
   },
   "cell_type": "code",
   "source": [
    "netflix_size = netflix_df.size\n",
    "netflix_type = type(netflix_df)\n",
    "\n",
    "print(f\"Size is: {netflix_size}\")\n",
    "print(f\"Type is: {netflix_type}\")"
   ],
   "id": "208583cbb3e715ef",
   "outputs": [
    {
     "name": "stdout",
     "output_type": "stream",
     "text": [
      "Size is: 20130\n",
      "Type is: <class 'pandas.core.frame.DataFrame'>\n"
     ]
    }
   ],
   "execution_count": 7
  },
  {
   "metadata": {},
   "cell_type": "markdown",
   "source": "#### C.\tObserve the first 5 rows of the data ",
   "id": "f231e6d94d3e90fa"
  },
  {
   "metadata": {
    "ExecuteTime": {
     "end_time": "2025-01-25T03:38:47.846165Z",
     "start_time": "2025-01-25T03:38:47.826274Z"
    }
   },
   "cell_type": "code",
   "source": "netflix_df.head(5)",
   "id": "106b4786f3b7bfec",
   "outputs": [
    {
     "data": {
      "text/plain": [
       "Price            Close        High         Low        Open   Volume\n",
       "Ticker            NFLX        NFLX        NFLX        NFLX     NFLX\n",
       "Date                                                               \n",
       "2019-12-23  333.100006  337.950012  331.019989  337.760010  5765300\n",
       "2019-12-24  333.200012  335.700012  331.600006  334.010010  2019300\n",
       "2019-12-26  332.630005  336.459991  332.010010  334.600006  3589900\n",
       "2019-12-27  329.089996  333.820007  326.010010  332.959991  5036100\n",
       "2019-12-30  323.309998  329.190002  322.859985  329.079987  4311500"
      ],
      "text/html": [
       "<div>\n",
       "<style scoped>\n",
       "    .dataframe tbody tr th:only-of-type {\n",
       "        vertical-align: middle;\n",
       "    }\n",
       "\n",
       "    .dataframe tbody tr th {\n",
       "        vertical-align: top;\n",
       "    }\n",
       "\n",
       "    .dataframe thead tr th {\n",
       "        text-align: left;\n",
       "    }\n",
       "\n",
       "    .dataframe thead tr:last-of-type th {\n",
       "        text-align: right;\n",
       "    }\n",
       "</style>\n",
       "<table border=\"1\" class=\"dataframe\">\n",
       "  <thead>\n",
       "    <tr>\n",
       "      <th>Price</th>\n",
       "      <th>Close</th>\n",
       "      <th>High</th>\n",
       "      <th>Low</th>\n",
       "      <th>Open</th>\n",
       "      <th>Volume</th>\n",
       "    </tr>\n",
       "    <tr>\n",
       "      <th>Ticker</th>\n",
       "      <th>NFLX</th>\n",
       "      <th>NFLX</th>\n",
       "      <th>NFLX</th>\n",
       "      <th>NFLX</th>\n",
       "      <th>NFLX</th>\n",
       "    </tr>\n",
       "    <tr>\n",
       "      <th>Date</th>\n",
       "      <th></th>\n",
       "      <th></th>\n",
       "      <th></th>\n",
       "      <th></th>\n",
       "      <th></th>\n",
       "    </tr>\n",
       "  </thead>\n",
       "  <tbody>\n",
       "    <tr>\n",
       "      <th>2019-12-23</th>\n",
       "      <td>333.100006</td>\n",
       "      <td>337.950012</td>\n",
       "      <td>331.019989</td>\n",
       "      <td>337.760010</td>\n",
       "      <td>5765300</td>\n",
       "    </tr>\n",
       "    <tr>\n",
       "      <th>2019-12-24</th>\n",
       "      <td>333.200012</td>\n",
       "      <td>335.700012</td>\n",
       "      <td>331.600006</td>\n",
       "      <td>334.010010</td>\n",
       "      <td>2019300</td>\n",
       "    </tr>\n",
       "    <tr>\n",
       "      <th>2019-12-26</th>\n",
       "      <td>332.630005</td>\n",
       "      <td>336.459991</td>\n",
       "      <td>332.010010</td>\n",
       "      <td>334.600006</td>\n",
       "      <td>3589900</td>\n",
       "    </tr>\n",
       "    <tr>\n",
       "      <th>2019-12-27</th>\n",
       "      <td>329.089996</td>\n",
       "      <td>333.820007</td>\n",
       "      <td>326.010010</td>\n",
       "      <td>332.959991</td>\n",
       "      <td>5036100</td>\n",
       "    </tr>\n",
       "    <tr>\n",
       "      <th>2019-12-30</th>\n",
       "      <td>323.309998</td>\n",
       "      <td>329.190002</td>\n",
       "      <td>322.859985</td>\n",
       "      <td>329.079987</td>\n",
       "      <td>4311500</td>\n",
       "    </tr>\n",
       "  </tbody>\n",
       "</table>\n",
       "</div>"
      ]
     },
     "execution_count": 20,
     "metadata": {},
     "output_type": "execute_result"
    }
   ],
   "execution_count": 20
  },
  {
   "metadata": {},
   "cell_type": "markdown",
   "source": "#### D. Plot the daily prices   ",
   "id": "f5cb9fc496a1eace"
  },
  {
   "metadata": {
    "ExecuteTime": {
     "end_time": "2025-01-25T03:43:21.196684Z",
     "start_time": "2025-01-25T03:43:20.844881Z"
    }
   },
   "cell_type": "code",
   "source": "netflix_df[\"Close\"].plot(title=\"Netflix Close\", ylabel=\"Close\", xlabel=\"Date\")",
   "id": "a5aea9146cfeaa7c",
   "outputs": [
    {
     "data": {
      "text/plain": [
       "<Axes: title={'center': 'Netflix Close'}, xlabel='Date', ylabel='Close'>"
      ]
     },
     "execution_count": 22,
     "metadata": {},
     "output_type": "execute_result"
    },
    {
     "data": {
      "text/plain": [
       "<Figure size 640x480 with 1 Axes>"
      ],
      "image/png": "[encoded data removed]"
     },
     "metadata": {},
     "output_type": "display_data"
    }
   ],
   "execution_count": 22
  },
  {
   "metadata": {},
   "cell_type": "markdown",
   "source": "#### E. Compute log returns using closing price ",
   "id": "89e08cc8db0656ac"
  },
  {
   "metadata": {},
   "cell_type": "code",
   "outputs": [],
   "execution_count": null,
   "source": "#Enter Code here",
   "id": "45acb24990b6a671"
  },
  {
   "metadata": {},
   "cell_type": "markdown",
   "source": "#### F. Construct time plot of daily log returns of Netflix stock for the sample data\n",
   "id": "1826e8df044a6bc"
  },
  {
   "metadata": {},
   "cell_type": "code",
   "outputs": [],
   "execution_count": null,
   "source": "#Enter Code here",
   "id": "d0205bd5215ec6b"
  },
  {
   "metadata": {},
   "cell_type": "markdown",
   "source": "#### G. Compute the sample mean, standard deviation, minimum, and maximum of the log return series",
   "id": "48e578fd76ec585"
  },
  {
   "metadata": {},
   "cell_type": "code",
   "outputs": [],
   "execution_count": null,
   "source": "#Enter Code here",
   "id": "8bbe4d4212d6dee3"
  },
  {
   "metadata": {},
   "cell_type": "markdown",
   "source": "#### H. Construct a histogram of the return series.",
   "id": "2b6e27a464cf15b3"
  },
  {
   "metadata": {},
   "cell_type": "code",
   "outputs": [],
   "execution_count": null,
   "source": "#Enter Code here",
   "id": "5d608b7cddeaa710"
  },
  {
   "metadata": {},
   "cell_type": "markdown",
   "source": "#### I. Test whether the mean of daily log return is different from zero.",
   "id": "db016f441a71f058"
  },
  {
   "metadata": {},
   "cell_type": "code",
   "outputs": [],
   "execution_count": null,
   "source": "#Enter Code here",
   "id": "ead9aa7148229f48"
  },
  {
   "metadata": {},
   "cell_type": "markdown",
   "source": "#### J. Provide a summary of the analysis.",
   "id": "37ab411fdb784ade"
  },
  {
   "metadata": {},
   "cell_type": "code",
   "outputs": [],
   "execution_count": null,
   "source": "#Enter Code here",
   "id": "4b14ba60bb1aa539"
  },
  {
   "metadata": {},
   "cell_type": "markdown",
   "source": "# Question 2",
   "id": "a2806d8d1add9941"
  },
  {
   "metadata": {},
   "cell_type": "markdown",
   "source": "#### A. Download monthly prices data of three stocks (of your choice) from Yahoo for the period January 2, 2005 till December 31, 2019. (or any 15 years of your choice: only condition is that all three stocks should be available for the entire 15 years period that you choose) (5 points)\n",
   "id": "c1bac37262f6aa9a"
  },
  {
   "metadata": {},
   "cell_type": "code",
   "outputs": [],
   "execution_count": null,
   "source": "# Enter Code here",
   "id": "872096bcd43aa85d"
  },
  {
   "metadata": {},
   "cell_type": "markdown",
   "source": "#### B. Choose the adjusted closing price of the three stocks. Format the price series in a single Data Series. (5 points)",
   "id": "34e45e805ab1b5d9"
  },
  {
   "metadata": {},
   "cell_type": "code",
   "outputs": [],
   "execution_count": null,
   "source": "# Enter Code here",
   "id": "2f8b4aa2fff6b838"
  },
  {
   "metadata": {},
   "cell_type": "markdown",
   "source": "#### C. See the dimension and type of the downloaded data  ( 2 points)",
   "id": "82b63ef896b6985f"
  },
  {
   "metadata": {},
   "cell_type": "code",
   "outputs": [],
   "execution_count": null,
   "source": "# Enter Code here",
   "id": "9748874d365507ee"
  },
  {
   "metadata": {},
   "cell_type": "markdown",
   "source": "#### D. Observe the first 5 rows of the data (2 points)",
   "id": "5d99bbcb6e2d8734"
  },
  {
   "metadata": {},
   "cell_type": "code",
   "outputs": [],
   "execution_count": null,
   "source": "# Enter Code here",
   "id": "eb33355990ea63fd"
  },
  {
   "metadata": {},
   "cell_type": "markdown",
   "source": "#### E. Plot the monthly prices of three of the stocks. Display the price series together in one plot (showing the trend together) and also separately. Label the plots correctly   (6 points)",
   "id": "c3cc5ce1c6ab208"
  },
  {
   "metadata": {},
   "cell_type": "code",
   "outputs": [],
   "execution_count": null,
   "source": "# Enter Code here",
   "id": "28030895b92f02d8"
  },
  {
   "metadata": {},
   "cell_type": "markdown",
   "source": "#### F. Compute log returns using adjusted closing price. Write the program efficiently so you can compute all the three stocks returns using functions, loops etc.   (8 points)",
   "id": "a4dbdf6f4a33f6c9"
  },
  {
   "metadata": {},
   "cell_type": "code",
   "outputs": [],
   "execution_count": null,
   "source": "# Enter Code here",
   "id": "49159d1d5d8168f2"
  },
  {
   "metadata": {},
   "cell_type": "markdown",
   "source": "#### G. Construct time plot of monthly log returns of the three stock for the sample data. Display the return series together in one plot and also separately. Label the plots correctly   (6 points)",
   "id": "c5255e8dd6daa25a"
  },
  {
   "metadata": {},
   "cell_type": "code",
   "outputs": [],
   "execution_count": null,
   "source": "# Enter Code here",
   "id": "6790f88017f77731"
  },
  {
   "metadata": {},
   "cell_type": "markdown",
   "source": "#### H. Compute the sample mean, standard deviation, minimum, and maximum of the log return series (4 points).",
   "id": "f28d347d1b649003"
  },
  {
   "metadata": {},
   "cell_type": "code",
   "outputs": [],
   "execution_count": null,
   "source": "# Enter Code here",
   "id": "538a60d3cb44bc23"
  },
  {
   "metadata": {},
   "cell_type": "markdown",
   "source": "#### I. Construct  histograms of the three return series (3 points). ",
   "id": "2a177a470d18759e"
  },
  {
   "metadata": {},
   "cell_type": "code",
   "outputs": [],
   "execution_count": null,
   "source": "# Enter Code here",
   "id": "77bd0404076e5b91"
  },
  {
   "metadata": {},
   "cell_type": "markdown",
   "source": "#### J. Test whether the mean of monthly log return is different from zero. (3 points)\n",
   "id": "606d0e1d2efc9dd8"
  },
  {
   "metadata": {},
   "cell_type": "code",
   "outputs": [],
   "execution_count": null,
   "source": "# Enter Code here",
   "id": "381ebf48d29d78ed"
  },
  {
   "metadata": {},
   "cell_type": "markdown",
   "source": "#### K. Compute the total HPR (report log returns) for the entire duration of the data (15 years period) for the three stocks. Compute the average annual HPR returns (report log returns) for the sample for all the three stocks. Report values in percentage (%)   (6 points)",
   "id": "319e61974c76838f"
  },
  {
   "metadata": {},
   "cell_type": "code",
   "outputs": [],
   "execution_count": null,
   "source": "# Enter Code here",
   "id": "3eee406679782e7c"
  },
  {
   "metadata": {},
   "cell_type": "markdown",
   "source": "#### L. Provide a summary of the analysis. (10 points)",
   "id": "971349467072745b"
  },
  {
   "metadata": {},
   "cell_type": "code",
   "outputs": [],
   "execution_count": null,
   "source": "# Enter Code here",
   "id": "6b7e45e5a103f26b"
  },
  {
   "metadata": {},
   "cell_type": "markdown",
   "source": "",
   "id": "715eef8a0aaaaf7"
  }
 ],
 "metadata": {
  "kernelspec": {
   "display_name": "Python 3",
   "language": "python",
   "name": "python3"
  },
  "language_info": {
   "codemirror_mode": {
    "name": "ipython",
    "version": 2
   },
   "file_extension": ".py",
   "mimetype": "text/x-python",
   "name": "python",
   "nbconvert_exporter": "python",
   "pygments_lexer": "ipython2",
   "version": "2.7.6"
  }
 },
 "nbformat": 4,
 "nbformat_minor": 5
}
