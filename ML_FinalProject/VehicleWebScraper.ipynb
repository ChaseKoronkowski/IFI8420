{
 "cells": [
  {
   "cell_type": "code",
   "id": "initial_id",
   "metadata": {
    "collapsed": true,
    "ExecuteTime": {
     "end_time": "2025-04-09T01:48:38.407226Z",
     "start_time": "2025-04-09T01:35:38.476697Z"
    }
   },
   "source": [
    "import time\n",
    "import pandas as pd\n",
    "from selenium import webdriver\n",
    "from selenium.webdriver.common.by import By\n",
    "\n",
    "def selenium_request_cars():\n",
    "    element_list3 = []\n",
    "    vehicle_make_list = ['ford', 'toyota', 'chevrolet', 'honda','nissan', 'audi', 'mercedes_benz', 'bmw', 'volkswagen', 'jeep']\n",
    "    #vehicle_model_list = ['f_150', 'camry', 'silverado', 'accord', 'a5', ]\n",
    "    for vehicle in vehicle_make_list:\n",
    "        for page in range(1, 5):\n",
    "            page_url = f\"https://www.cars.com/shopping/results/?makes[]={vehicle}&maximum_distance=all&page={page}&page_size=100&stock_type=new&zip=30122\"\n",
    "            driver = webdriver.Chrome()\n",
    "            time.sleep(3)\n",
    "            driver.get(page_url)\n",
    "            time.sleep(1)\n",
    "            title = driver.find_elements(By.XPATH, \"//a[@data-linkname='vehicle-listing']\")\n",
    "            listing_price = driver.find_elements(By.XPATH, \"//span[@class='primary-price']\")\n",
    "            dealer_name = driver.find_elements(By.XPATH, \"//div[@class='dealer-name']\")\n",
    "        \n",
    "            for i in range(len(title)):\n",
    "                element_list3.append([title[i].text, listing_price[i].text, dealer_name[i].text])\n",
    "            #closes the current window\n",
    "            driver.close()\n",
    "            \n",
    "    df = pd.DataFrame(element_list3, columns=['Vehicle Description', 'Listing Price', 'Dealer Name'])\n",
    "    df.to_csv(\"Pricing.csv\", index=False)\n",
    "    print(df)\n",
    "    \n",
    "    #closing the driver\n",
    "    driver.close()\n",
    "\n",
    "#Executes function\n",
    "selenium_request_cars()\n"
   ],
   "outputs": [
    {
     "name": "stdout",
     "output_type": "stream",
     "text": [
      "                          Vehicle Description Listing Price  \\\n",
      "0      New 2024 Ford Bronco Sport Outer Banks       $35,797   \n",
      "1              New 2024 Ford Transit-350 Base       $56,618   \n",
      "2              New 2024 Ford Transit-350 Base       $53,870   \n",
      "3              New 2024 Ford Transit-350 Base       $53,870   \n",
      "4                     New 2025 Ford F-150 XLT       $61,054   \n",
      "...                                       ...           ...   \n",
      "3945           New 2025 Jeep Compass Latitude       $28,260   \n",
      "3946   New 2024 Jeep Grand Cherokee L Limited       $56,997   \n",
      "3947  New 2025 Jeep Grand Cherokee L Altitude       $41,999   \n",
      "3948            New 2025 Jeep Gladiator Sport       $41,946   \n",
      "3949           New 2025 Jeep Gladiator Mojave       $47,995   \n",
      "\n",
      "                                          Dealer Name  \n",
      "0                                      Alexander Ford  \n",
      "1                                        Brannen Ford  \n",
      "2                                        Brannen Ford  \n",
      "3                                        Brannen Ford  \n",
      "4                              Cook County Ford, Inc.  \n",
      "...                                               ...  \n",
      "3945       Chrysler Dodge Jeep Ram FIAT Santa Barbara  \n",
      "3946                  Seaside Chrysler Dodge Jeep Ram  \n",
      "3947            Lithia Chrysler Jeep Dodge of Medford  \n",
      "3948    Lithia Chrysler Jeep Dodge Ram FIAT of Eugene  \n",
      "3949  Lithia Chrysler Jeep Dodge Ram FIAT of Roseburg  \n",
      "\n",
      "[3950 rows x 3 columns]\n"
     ]
    },
    {
     "ename": "InvalidSessionIdException",
     "evalue": "Message: invalid session id\nStacktrace:\n\tGetHandleVerifier [0x00007FF787705335+78597]\n\tGetHandleVerifier [0x00007FF787705390+78688]\n\t(No symbol) [0x00007FF7874B8FDC]\n\t(No symbol) [0x00007FF7874FF51F]\n\t(No symbol) [0x00007FF787536FB2]\n\t(No symbol) [0x00007FF7875319CC]\n\t(No symbol) [0x00007FF787530AA9]\n\t(No symbol) [0x00007FF787485AB5]\n\tGetHandleVerifier [0x00007FF7879AEEED+2870973]\n\tGetHandleVerifier [0x00007FF7879A9698+2848360]\n\tGetHandleVerifier [0x00007FF7879C6973+2967875]\n\tGetHandleVerifier [0x00007FF78772017A+188746]\n\tGetHandleVerifier [0x00007FF78772845F+222255]\n\t(No symbol) [0x00007FF787484B28]\n\tGetHandleVerifier [0x00007FF787AB0668+3925560]\n\tBaseThreadInitThunk [0x00007FFEF0ACE8D7+23]\n\tRtlUserThreadStart [0x00007FFEF249BF6C+44]\n",
     "output_type": "error",
     "traceback": [
      "\u001B[1;31m---------------------------------------------------------------------------\u001B[0m",
      "\u001B[1;31mInvalidSessionIdException\u001B[0m                 Traceback (most recent call last)",
      "Cell \u001B[1;32mIn[9], line 87\u001B[0m\n\u001B[0;32m     84\u001B[0m     \u001B[38;5;66;03m#closing the driver\u001B[39;00m\n\u001B[0;32m     85\u001B[0m     driver\u001B[38;5;241m.\u001B[39mclose()\n\u001B[1;32m---> 87\u001B[0m \u001B[43mselenium_request_cars\u001B[49m\u001B[43m(\u001B[49m\u001B[43m)\u001B[49m\n",
      "Cell \u001B[1;32mIn[9], line 85\u001B[0m, in \u001B[0;36mselenium_request_cars\u001B[1;34m()\u001B[0m\n\u001B[0;32m     82\u001B[0m \u001B[38;5;28mprint\u001B[39m(df)\n\u001B[0;32m     84\u001B[0m \u001B[38;5;66;03m#closing the driver\u001B[39;00m\n\u001B[1;32m---> 85\u001B[0m \u001B[43mdriver\u001B[49m\u001B[38;5;241;43m.\u001B[39;49m\u001B[43mclose\u001B[49m\u001B[43m(\u001B[49m\u001B[43m)\u001B[49m\n",
      "File \u001B[1;32m~\\AppData\\Local\\Programs\\Python\\Python312\\Lib\\site-packages\\selenium\\webdriver\\remote\\webdriver.py:579\u001B[0m, in \u001B[0;36mWebDriver.close\u001B[1;34m(self)\u001B[0m\n\u001B[0;32m    572\u001B[0m \u001B[38;5;28;01mdef\u001B[39;00m \u001B[38;5;21mclose\u001B[39m(\u001B[38;5;28mself\u001B[39m) \u001B[38;5;241m-\u001B[39m\u001B[38;5;241m>\u001B[39m \u001B[38;5;28;01mNone\u001B[39;00m:\n\u001B[0;32m    573\u001B[0m \u001B[38;5;250m    \u001B[39m\u001B[38;5;124;03m\"\"\"Closes the current window.\u001B[39;00m\n\u001B[0;32m    574\u001B[0m \n\u001B[0;32m    575\u001B[0m \u001B[38;5;124;03m    Example:\u001B[39;00m\n\u001B[0;32m    576\u001B[0m \u001B[38;5;124;03m    --------\u001B[39;00m\n\u001B[0;32m    577\u001B[0m \u001B[38;5;124;03m    >>> driver.close()\u001B[39;00m\n\u001B[0;32m    578\u001B[0m \u001B[38;5;124;03m    \"\"\"\u001B[39;00m\n\u001B[1;32m--> 579\u001B[0m     \u001B[38;5;28;43mself\u001B[39;49m\u001B[38;5;241;43m.\u001B[39;49m\u001B[43mexecute\u001B[49m\u001B[43m(\u001B[49m\u001B[43mCommand\u001B[49m\u001B[38;5;241;43m.\u001B[39;49m\u001B[43mCLOSE\u001B[49m\u001B[43m)\u001B[49m\n",
      "File \u001B[1;32m~\\AppData\\Local\\Programs\\Python\\Python312\\Lib\\site-packages\\selenium\\webdriver\\remote\\webdriver.py:429\u001B[0m, in \u001B[0;36mWebDriver.execute\u001B[1;34m(self, driver_command, params)\u001B[0m\n\u001B[0;32m    427\u001B[0m response \u001B[38;5;241m=\u001B[39m \u001B[38;5;28mself\u001B[39m\u001B[38;5;241m.\u001B[39mcommand_executor\u001B[38;5;241m.\u001B[39mexecute(driver_command, params)\n\u001B[0;32m    428\u001B[0m \u001B[38;5;28;01mif\u001B[39;00m response:\n\u001B[1;32m--> 429\u001B[0m     \u001B[38;5;28;43mself\u001B[39;49m\u001B[38;5;241;43m.\u001B[39;49m\u001B[43merror_handler\u001B[49m\u001B[38;5;241;43m.\u001B[39;49m\u001B[43mcheck_response\u001B[49m\u001B[43m(\u001B[49m\u001B[43mresponse\u001B[49m\u001B[43m)\u001B[49m\n\u001B[0;32m    430\u001B[0m     response[\u001B[38;5;124m\"\u001B[39m\u001B[38;5;124mvalue\u001B[39m\u001B[38;5;124m\"\u001B[39m] \u001B[38;5;241m=\u001B[39m \u001B[38;5;28mself\u001B[39m\u001B[38;5;241m.\u001B[39m_unwrap_value(response\u001B[38;5;241m.\u001B[39mget(\u001B[38;5;124m\"\u001B[39m\u001B[38;5;124mvalue\u001B[39m\u001B[38;5;124m\"\u001B[39m, \u001B[38;5;28;01mNone\u001B[39;00m))\n\u001B[0;32m    431\u001B[0m     \u001B[38;5;28;01mreturn\u001B[39;00m response\n",
      "File \u001B[1;32m~\\AppData\\Local\\Programs\\Python\\Python312\\Lib\\site-packages\\selenium\\webdriver\\remote\\errorhandler.py:232\u001B[0m, in \u001B[0;36mErrorHandler.check_response\u001B[1;34m(self, response)\u001B[0m\n\u001B[0;32m    230\u001B[0m         alert_text \u001B[38;5;241m=\u001B[39m value[\u001B[38;5;124m\"\u001B[39m\u001B[38;5;124malert\u001B[39m\u001B[38;5;124m\"\u001B[39m]\u001B[38;5;241m.\u001B[39mget(\u001B[38;5;124m\"\u001B[39m\u001B[38;5;124mtext\u001B[39m\u001B[38;5;124m\"\u001B[39m)\n\u001B[0;32m    231\u001B[0m     \u001B[38;5;28;01mraise\u001B[39;00m exception_class(message, screen, stacktrace, alert_text)  \u001B[38;5;66;03m# type: ignore[call-arg]  # mypy is not smart enough here\u001B[39;00m\n\u001B[1;32m--> 232\u001B[0m \u001B[38;5;28;01mraise\u001B[39;00m exception_class(message, screen, stacktrace)\n",
      "\u001B[1;31mInvalidSessionIdException\u001B[0m: Message: invalid session id\nStacktrace:\n\tGetHandleVerifier [0x00007FF787705335+78597]\n\tGetHandleVerifier [0x00007FF787705390+78688]\n\t(No symbol) [0x00007FF7874B8FDC]\n\t(No symbol) [0x00007FF7874FF51F]\n\t(No symbol) [0x00007FF787536FB2]\n\t(No symbol) [0x00007FF7875319CC]\n\t(No symbol) [0x00007FF787530AA9]\n\t(No symbol) [0x00007FF787485AB5]\n\tGetHandleVerifier [0x00007FF7879AEEED+2870973]\n\tGetHandleVerifier [0x00007FF7879A9698+2848360]\n\tGetHandleVerifier [0x00007FF7879C6973+2967875]\n\tGetHandleVerifier [0x00007FF78772017A+188746]\n\tGetHandleVerifier [0x00007FF78772845F+222255]\n\t(No symbol) [0x00007FF787484B28]\n\tGetHandleVerifier [0x00007FF787AB0668+3925560]\n\tBaseThreadInitThunk [0x00007FFEF0ACE8D7+23]\n\tRtlUserThreadStart [0x00007FFEF249BF6C+44]\n"
     ]
    }
   ],
   "execution_count": 9
  }
 ],
 "metadata": {
  "kernelspec": {
   "display_name": "Python 3",
   "language": "python",
   "name": "python3"
  },
  "language_info": {
   "codemirror_mode": {
    "name": "ipython",
    "version": 2
   },
   "file_extension": ".py",
   "mimetype": "text/x-python",
   "name": "python",
   "nbconvert_exporter": "python",
   "pygments_lexer": "ipython2",
   "version": "2.7.6"
  }
 },
 "nbformat": 4,
 "nbformat_minor": 5
}
